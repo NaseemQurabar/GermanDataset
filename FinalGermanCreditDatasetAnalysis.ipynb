{
  "nbformat": 4,
  "nbformat_minor": 0,
  "metadata": {
    "colab": {
      "name": "FinalGermanCreditDatasetAnalysis.ipynb",
      "provenance": [],
      "collapsed_sections": []
    },
    "kernelspec": {
      "name": "python3",
      "display_name": "Python 3"
    }
  },
  "cells": [
    {
      "cell_type": "code",
      "metadata": {
        "id": "tc2lLKFYyyDk"
      },
      "source": [
        "import sys\r\n",
        "import numpy as np\r\n",
        "import pandas as pd\r\n",
        "import matplotlib.pyplot as plt\r\n",
        "import seaborn as sns\r\n",
        "from scipy.io import arff\r\n",
        "\r\n",
        "\r\n",
        "\r\n",
        "\r\n",
        "from sklearn.model_selection import train_test_split\r\n",
        "from sklearn.neighbors import LocalOutlierFactor\r\n",
        "from sklearn.metrics import accuracy_score"
      ],
      "execution_count": 2,
      "outputs": []
    },
    {
      "cell_type": "code",
      "metadata": {
        "colab": {
          "base_uri": "https://localhost:8080/"
        },
        "id": "ohufQEcU9T8j",
        "outputId": "31939b8a-5e6f-469d-bc67-66e711d2bc05"
      },
      "source": [
        "import sys\r\n",
        "!{sys.executable} -m pip install -U pandas-profiling[notebook]\r\n",
        "!jupyter nbextension enable --py widgetsnbextension\r\n",
        "!pip install matplotlib\r\n",
        "!pip install graphviz\r\n",
        "%matplotlib inline"
      ],
      "execution_count": 3,
      "outputs": [
        {
          "output_type": "stream",
          "text": [
            "Collecting pandas-profiling[notebook]\n",
            "\u001b[?25l  Downloading https://files.pythonhosted.org/packages/32/79/5d03ed1172e3e67a997a6a795bcdd2ab58f84851969d01a91455383795b6/pandas_profiling-2.9.0-py2.py3-none-any.whl (258kB)\n",
            "\r\u001b[K     |█▎                              | 10kB 17.8MB/s eta 0:00:01\r\u001b[K     |██▌                             | 20kB 23.4MB/s eta 0:00:01\r\u001b[K     |███▉                            | 30kB 19.2MB/s eta 0:00:01\r\u001b[K     |█████                           | 40kB 12.3MB/s eta 0:00:01\r\u001b[K     |██████▎                         | 51kB 8.7MB/s eta 0:00:01\r\u001b[K     |███████▋                        | 61kB 9.1MB/s eta 0:00:01\r\u001b[K     |████████▉                       | 71kB 9.1MB/s eta 0:00:01\r\u001b[K     |██████████▏                     | 81kB 9.7MB/s eta 0:00:01\r\u001b[K     |███████████▍                    | 92kB 9.4MB/s eta 0:00:01\r\u001b[K     |████████████▋                   | 102kB 8.5MB/s eta 0:00:01\r\u001b[K     |██████████████                  | 112kB 8.5MB/s eta 0:00:01\r\u001b[K     |███████████████▏                | 122kB 8.5MB/s eta 0:00:01\r\u001b[K     |████████████████▌               | 133kB 8.5MB/s eta 0:00:01\r\u001b[K     |█████████████████▊              | 143kB 8.5MB/s eta 0:00:01\r\u001b[K     |███████████████████             | 153kB 8.5MB/s eta 0:00:01\r\u001b[K     |████████████████████▎           | 163kB 8.5MB/s eta 0:00:01\r\u001b[K     |█████████████████████▌          | 174kB 8.5MB/s eta 0:00:01\r\u001b[K     |██████████████████████▊         | 184kB 8.5MB/s eta 0:00:01\r\u001b[K     |████████████████████████        | 194kB 8.5MB/s eta 0:00:01\r\u001b[K     |█████████████████████████▎      | 204kB 8.5MB/s eta 0:00:01\r\u001b[K     |██████████████████████████▋     | 215kB 8.5MB/s eta 0:00:01\r\u001b[K     |███████████████████████████▉    | 225kB 8.5MB/s eta 0:00:01\r\u001b[K     |█████████████████████████████   | 235kB 8.5MB/s eta 0:00:01\r\u001b[K     |██████████████████████████████▍ | 245kB 8.5MB/s eta 0:00:01\r\u001b[K     |███████████████████████████████▋| 256kB 8.5MB/s eta 0:00:01\r\u001b[K     |████████████████████████████████| 266kB 8.5MB/s \n",
            "\u001b[?25hRequirement already satisfied, skipping upgrade: attrs>=19.3.0 in /usr/local/lib/python3.6/dist-packages (from pandas-profiling[notebook]) (20.3.0)\n",
            "Requirement already satisfied, skipping upgrade: missingno>=0.4.2 in /usr/local/lib/python3.6/dist-packages (from pandas-profiling[notebook]) (0.4.2)\n",
            "Requirement already satisfied, skipping upgrade: scipy>=1.4.1 in /usr/local/lib/python3.6/dist-packages (from pandas-profiling[notebook]) (1.4.1)\n",
            "Collecting tangled-up-in-unicode>=0.0.6\n",
            "\u001b[?25l  Downloading https://files.pythonhosted.org/packages/4a/e2/e588ab9298d4989ce7fdb2b97d18aac878d99dbdc379a4476a09d9271b68/tangled_up_in_unicode-0.0.6-py3-none-any.whl (3.1MB)\n",
            "\u001b[K     |████████████████████████████████| 3.1MB 15.5MB/s \n",
            "\u001b[?25hRequirement already satisfied, skipping upgrade: pandas!=1.0.0,!=1.0.1,!=1.0.2,!=1.1.0,>=0.25.3 in /usr/local/lib/python3.6/dist-packages (from pandas-profiling[notebook]) (1.1.5)\n",
            "Requirement already satisfied, skipping upgrade: jinja2>=2.11.1 in /usr/local/lib/python3.6/dist-packages (from pandas-profiling[notebook]) (2.11.2)\n",
            "Requirement already satisfied, skipping upgrade: matplotlib>=3.2.0 in /usr/local/lib/python3.6/dist-packages (from pandas-profiling[notebook]) (3.2.2)\n",
            "Requirement already satisfied, skipping upgrade: joblib in /usr/local/lib/python3.6/dist-packages (from pandas-profiling[notebook]) (0.17.0)\n",
            "Requirement already satisfied, skipping upgrade: ipywidgets>=7.5.1 in /usr/local/lib/python3.6/dist-packages (from pandas-profiling[notebook]) (7.5.1)\n",
            "Collecting htmlmin>=0.1.12\n",
            "  Downloading https://files.pythonhosted.org/packages/b3/e7/fcd59e12169de19f0131ff2812077f964c6b960e7c09804d30a7bf2ab461/htmlmin-0.1.12.tar.gz\n",
            "Collecting phik>=0.9.10\n",
            "\u001b[?25l  Downloading https://files.pythonhosted.org/packages/01/5a/7ef1c04ce62cd72f900c06298dc2385840550d5c653a0dbc19109a5477e6/phik-0.10.0-py3-none-any.whl (599kB)\n",
            "\u001b[K     |████████████████████████████████| 604kB 44.5MB/s \n",
            "\u001b[?25hCollecting tqdm>=4.43.0\n",
            "\u001b[?25l  Downloading https://files.pythonhosted.org/packages/8a/54/115f0c28a61d56674c3a5e05c46d6c3523ad196e1dcd3e2d8b119026df36/tqdm-4.54.1-py2.py3-none-any.whl (69kB)\n",
            "\u001b[K     |████████████████████████████████| 71kB 8.7MB/s \n",
            "\u001b[?25hRequirement already satisfied, skipping upgrade: requests>=2.23.0 in /usr/local/lib/python3.6/dist-packages (from pandas-profiling[notebook]) (2.23.0)\n",
            "Collecting confuse>=1.0.0\n",
            "  Downloading https://files.pythonhosted.org/packages/6d/55/b4726d81e5d6509fa3441f770f8a9524612627dc1b2a7d6209d1d20083fe/confuse-1.4.0-py2.py3-none-any.whl\n",
            "Requirement already satisfied, skipping upgrade: seaborn>=0.10.1 in /usr/local/lib/python3.6/dist-packages (from pandas-profiling[notebook]) (0.11.0)\n",
            "Requirement already satisfied, skipping upgrade: numpy>=1.16.0 in /usr/local/lib/python3.6/dist-packages (from pandas-profiling[notebook]) (1.18.5)\n",
            "Collecting visions[type_image_path]==0.5.0\n",
            "\u001b[?25l  Downloading https://files.pythonhosted.org/packages/26/e3/9416e94e767d59a86edcbcb8e1c8f42874d272c3b343676074879e9db0e0/visions-0.5.0-py3-none-any.whl (64kB)\n",
            "\u001b[K     |████████████████████████████████| 71kB 9.1MB/s \n",
            "\u001b[?25hCollecting jupyter-client>=6.0.0; extra == \"notebook\"\n",
            "\u001b[?25l  Downloading https://files.pythonhosted.org/packages/dc/41/9fa443d5ae8907dd8f7d12146cb0092dc053afd67b5b57e7e8786a328547/jupyter_client-6.1.7-py3-none-any.whl (108kB)\n",
            "\u001b[K     |████████████████████████████████| 112kB 48.3MB/s \n",
            "\u001b[?25hRequirement already satisfied, skipping upgrade: jupyter-core>=4.6.3; extra == \"notebook\" in /usr/local/lib/python3.6/dist-packages (from pandas-profiling[notebook]) (4.7.0)\n",
            "Requirement already satisfied, skipping upgrade: python-dateutil>=2.7.3 in /usr/local/lib/python3.6/dist-packages (from pandas!=1.0.0,!=1.0.1,!=1.0.2,!=1.1.0,>=0.25.3->pandas-profiling[notebook]) (2.8.1)\n",
            "Requirement already satisfied, skipping upgrade: pytz>=2017.2 in /usr/local/lib/python3.6/dist-packages (from pandas!=1.0.0,!=1.0.1,!=1.0.2,!=1.1.0,>=0.25.3->pandas-profiling[notebook]) (2018.9)\n",
            "Requirement already satisfied, skipping upgrade: MarkupSafe>=0.23 in /usr/local/lib/python3.6/dist-packages (from jinja2>=2.11.1->pandas-profiling[notebook]) (1.1.1)\n",
            "Requirement already satisfied, skipping upgrade: kiwisolver>=1.0.1 in /usr/local/lib/python3.6/dist-packages (from matplotlib>=3.2.0->pandas-profiling[notebook]) (1.3.1)\n",
            "Requirement already satisfied, skipping upgrade: cycler>=0.10 in /usr/local/lib/python3.6/dist-packages (from matplotlib>=3.2.0->pandas-profiling[notebook]) (0.10.0)\n",
            "Requirement already satisfied, skipping upgrade: pyparsing!=2.0.4,!=2.1.2,!=2.1.6,>=2.0.1 in /usr/local/lib/python3.6/dist-packages (from matplotlib>=3.2.0->pandas-profiling[notebook]) (2.4.7)\n",
            "Requirement already satisfied, skipping upgrade: nbformat>=4.2.0 in /usr/local/lib/python3.6/dist-packages (from ipywidgets>=7.5.1->pandas-profiling[notebook]) (5.0.8)\n",
            "Requirement already satisfied, skipping upgrade: ipython>=4.0.0; python_version >= \"3.3\" in /usr/local/lib/python3.6/dist-packages (from ipywidgets>=7.5.1->pandas-profiling[notebook]) (5.5.0)\n",
            "Requirement already satisfied, skipping upgrade: traitlets>=4.3.1 in /usr/local/lib/python3.6/dist-packages (from ipywidgets>=7.5.1->pandas-profiling[notebook]) (4.3.3)\n",
            "Requirement already satisfied, skipping upgrade: ipykernel>=4.5.1 in /usr/local/lib/python3.6/dist-packages (from ipywidgets>=7.5.1->pandas-profiling[notebook]) (4.10.1)\n",
            "Requirement already satisfied, skipping upgrade: widgetsnbextension~=3.5.0 in /usr/local/lib/python3.6/dist-packages (from ipywidgets>=7.5.1->pandas-profiling[notebook]) (3.5.1)\n",
            "Requirement already satisfied, skipping upgrade: numba>=0.38.1 in /usr/local/lib/python3.6/dist-packages (from phik>=0.9.10->pandas-profiling[notebook]) (0.48.0)\n",
            "Requirement already satisfied, skipping upgrade: chardet<4,>=3.0.2 in /usr/local/lib/python3.6/dist-packages (from requests>=2.23.0->pandas-profiling[notebook]) (3.0.4)\n",
            "Requirement already satisfied, skipping upgrade: certifi>=2017.4.17 in /usr/local/lib/python3.6/dist-packages (from requests>=2.23.0->pandas-profiling[notebook]) (2020.12.5)\n",
            "Requirement already satisfied, skipping upgrade: idna<3,>=2.5 in /usr/local/lib/python3.6/dist-packages (from requests>=2.23.0->pandas-profiling[notebook]) (2.10)\n",
            "Requirement already satisfied, skipping upgrade: urllib3!=1.25.0,!=1.25.1,<1.26,>=1.21.1 in /usr/local/lib/python3.6/dist-packages (from requests>=2.23.0->pandas-profiling[notebook]) (1.24.3)\n",
            "Requirement already satisfied, skipping upgrade: pyyaml in /usr/local/lib/python3.6/dist-packages (from confuse>=1.0.0->pandas-profiling[notebook]) (3.13)\n",
            "Requirement already satisfied, skipping upgrade: networkx>=2.4 in /usr/local/lib/python3.6/dist-packages (from visions[type_image_path]==0.5.0->pandas-profiling[notebook]) (2.5)\n",
            "Requirement already satisfied, skipping upgrade: Pillow; extra == \"type_image_path\" in /usr/local/lib/python3.6/dist-packages (from visions[type_image_path]==0.5.0->pandas-profiling[notebook]) (7.0.0)\n",
            "Collecting imagehash; extra == \"type_image_path\"\n",
            "\u001b[?25l  Downloading https://files.pythonhosted.org/packages/8e/18/9dbb772b5ef73a3069c66bb5bf29b9fb4dd57af0d5790c781c3f559bcca6/ImageHash-4.2.0-py2.py3-none-any.whl (295kB)\n",
            "\u001b[K     |████████████████████████████████| 296kB 49.3MB/s \n",
            "\u001b[?25hRequirement already satisfied, skipping upgrade: tornado>=4.1 in /usr/local/lib/python3.6/dist-packages (from jupyter-client>=6.0.0; extra == \"notebook\"->pandas-profiling[notebook]) (5.1.1)\n",
            "Requirement already satisfied, skipping upgrade: pyzmq>=13 in /usr/local/lib/python3.6/dist-packages (from jupyter-client>=6.0.0; extra == \"notebook\"->pandas-profiling[notebook]) (20.0.0)\n",
            "Requirement already satisfied, skipping upgrade: six>=1.5 in /usr/local/lib/python3.6/dist-packages (from python-dateutil>=2.7.3->pandas!=1.0.0,!=1.0.1,!=1.0.2,!=1.1.0,>=0.25.3->pandas-profiling[notebook]) (1.15.0)\n",
            "Requirement already satisfied, skipping upgrade: jsonschema!=2.5.0,>=2.4 in /usr/local/lib/python3.6/dist-packages (from nbformat>=4.2.0->ipywidgets>=7.5.1->pandas-profiling[notebook]) (2.6.0)\n",
            "Requirement already satisfied, skipping upgrade: ipython-genutils in /usr/local/lib/python3.6/dist-packages (from nbformat>=4.2.0->ipywidgets>=7.5.1->pandas-profiling[notebook]) (0.2.0)\n",
            "Requirement already satisfied, skipping upgrade: prompt-toolkit<2.0.0,>=1.0.4 in /usr/local/lib/python3.6/dist-packages (from ipython>=4.0.0; python_version >= \"3.3\"->ipywidgets>=7.5.1->pandas-profiling[notebook]) (1.0.18)\n",
            "Requirement already satisfied, skipping upgrade: pickleshare in /usr/local/lib/python3.6/dist-packages (from ipython>=4.0.0; python_version >= \"3.3\"->ipywidgets>=7.5.1->pandas-profiling[notebook]) (0.7.5)\n",
            "Requirement already satisfied, skipping upgrade: setuptools>=18.5 in /usr/local/lib/python3.6/dist-packages (from ipython>=4.0.0; python_version >= \"3.3\"->ipywidgets>=7.5.1->pandas-profiling[notebook]) (50.3.2)\n",
            "Requirement already satisfied, skipping upgrade: simplegeneric>0.8 in /usr/local/lib/python3.6/dist-packages (from ipython>=4.0.0; python_version >= \"3.3\"->ipywidgets>=7.5.1->pandas-profiling[notebook]) (0.8.1)\n",
            "Requirement already satisfied, skipping upgrade: pexpect; sys_platform != \"win32\" in /usr/local/lib/python3.6/dist-packages (from ipython>=4.0.0; python_version >= \"3.3\"->ipywidgets>=7.5.1->pandas-profiling[notebook]) (4.8.0)\n",
            "Requirement already satisfied, skipping upgrade: pygments in /usr/local/lib/python3.6/dist-packages (from ipython>=4.0.0; python_version >= \"3.3\"->ipywidgets>=7.5.1->pandas-profiling[notebook]) (2.6.1)\n",
            "Requirement already satisfied, skipping upgrade: decorator in /usr/local/lib/python3.6/dist-packages (from ipython>=4.0.0; python_version >= \"3.3\"->ipywidgets>=7.5.1->pandas-profiling[notebook]) (4.4.2)\n",
            "Requirement already satisfied, skipping upgrade: notebook>=4.4.1 in /usr/local/lib/python3.6/dist-packages (from widgetsnbextension~=3.5.0->ipywidgets>=7.5.1->pandas-profiling[notebook]) (5.3.1)\n",
            "Requirement already satisfied, skipping upgrade: llvmlite<0.32.0,>=0.31.0dev0 in /usr/local/lib/python3.6/dist-packages (from numba>=0.38.1->phik>=0.9.10->pandas-profiling[notebook]) (0.31.0)\n",
            "Requirement already satisfied, skipping upgrade: PyWavelets in /usr/local/lib/python3.6/dist-packages (from imagehash; extra == \"type_image_path\"->visions[type_image_path]==0.5.0->pandas-profiling[notebook]) (1.1.1)\n",
            "Requirement already satisfied, skipping upgrade: wcwidth in /usr/local/lib/python3.6/dist-packages (from prompt-toolkit<2.0.0,>=1.0.4->ipython>=4.0.0; python_version >= \"3.3\"->ipywidgets>=7.5.1->pandas-profiling[notebook]) (0.2.5)\n",
            "Requirement already satisfied, skipping upgrade: ptyprocess>=0.5 in /usr/local/lib/python3.6/dist-packages (from pexpect; sys_platform != \"win32\"->ipython>=4.0.0; python_version >= \"3.3\"->ipywidgets>=7.5.1->pandas-profiling[notebook]) (0.6.0)\n",
            "Requirement already satisfied, skipping upgrade: terminado>=0.8.1 in /usr/local/lib/python3.6/dist-packages (from notebook>=4.4.1->widgetsnbextension~=3.5.0->ipywidgets>=7.5.1->pandas-profiling[notebook]) (0.9.1)\n",
            "Requirement already satisfied, skipping upgrade: Send2Trash in /usr/local/lib/python3.6/dist-packages (from notebook>=4.4.1->widgetsnbextension~=3.5.0->ipywidgets>=7.5.1->pandas-profiling[notebook]) (1.5.0)\n",
            "Requirement already satisfied, skipping upgrade: nbconvert in /usr/local/lib/python3.6/dist-packages (from notebook>=4.4.1->widgetsnbextension~=3.5.0->ipywidgets>=7.5.1->pandas-profiling[notebook]) (5.6.1)\n",
            "Requirement already satisfied, skipping upgrade: bleach in /usr/local/lib/python3.6/dist-packages (from nbconvert->notebook>=4.4.1->widgetsnbextension~=3.5.0->ipywidgets>=7.5.1->pandas-profiling[notebook]) (3.2.1)\n",
            "Requirement already satisfied, skipping upgrade: defusedxml in /usr/local/lib/python3.6/dist-packages (from nbconvert->notebook>=4.4.1->widgetsnbextension~=3.5.0->ipywidgets>=7.5.1->pandas-profiling[notebook]) (0.6.0)\n",
            "Requirement already satisfied, skipping upgrade: testpath in /usr/local/lib/python3.6/dist-packages (from nbconvert->notebook>=4.4.1->widgetsnbextension~=3.5.0->ipywidgets>=7.5.1->pandas-profiling[notebook]) (0.4.4)\n",
            "Requirement already satisfied, skipping upgrade: pandocfilters>=1.4.1 in /usr/local/lib/python3.6/dist-packages (from nbconvert->notebook>=4.4.1->widgetsnbextension~=3.5.0->ipywidgets>=7.5.1->pandas-profiling[notebook]) (1.4.3)\n",
            "Requirement already satisfied, skipping upgrade: mistune<2,>=0.8.1 in /usr/local/lib/python3.6/dist-packages (from nbconvert->notebook>=4.4.1->widgetsnbextension~=3.5.0->ipywidgets>=7.5.1->pandas-profiling[notebook]) (0.8.4)\n",
            "Requirement already satisfied, skipping upgrade: entrypoints>=0.2.2 in /usr/local/lib/python3.6/dist-packages (from nbconvert->notebook>=4.4.1->widgetsnbextension~=3.5.0->ipywidgets>=7.5.1->pandas-profiling[notebook]) (0.3)\n",
            "Requirement already satisfied, skipping upgrade: packaging in /usr/local/lib/python3.6/dist-packages (from bleach->nbconvert->notebook>=4.4.1->widgetsnbextension~=3.5.0->ipywidgets>=7.5.1->pandas-profiling[notebook]) (20.7)\n",
            "Requirement already satisfied, skipping upgrade: webencodings in /usr/local/lib/python3.6/dist-packages (from bleach->nbconvert->notebook>=4.4.1->widgetsnbextension~=3.5.0->ipywidgets>=7.5.1->pandas-profiling[notebook]) (0.5.1)\n",
            "Building wheels for collected packages: htmlmin\n",
            "  Building wheel for htmlmin (setup.py) ... \u001b[?25l\u001b[?25hdone\n",
            "  Created wheel for htmlmin: filename=htmlmin-0.1.12-cp36-none-any.whl size=27085 sha256=7d9d5aafceda5d1278dabeed64ffe544b150ed0242ca7e983abeb2c0bb5e912e\n",
            "  Stored in directory: /root/.cache/pip/wheels/43/07/ac/7c5a9d708d65247ac1f94066cf1db075540b85716c30255459\n",
            "Successfully built htmlmin\n",
            "Installing collected packages: tangled-up-in-unicode, htmlmin, phik, tqdm, confuse, imagehash, visions, jupyter-client, pandas-profiling\n",
            "  Found existing installation: tqdm 4.41.1\n",
            "    Uninstalling tqdm-4.41.1:\n",
            "      Successfully uninstalled tqdm-4.41.1\n",
            "  Found existing installation: jupyter-client 5.3.5\n",
            "    Uninstalling jupyter-client-5.3.5:\n",
            "      Successfully uninstalled jupyter-client-5.3.5\n",
            "  Found existing installation: pandas-profiling 1.4.1\n",
            "    Uninstalling pandas-profiling-1.4.1:\n",
            "      Successfully uninstalled pandas-profiling-1.4.1\n",
            "Successfully installed confuse-1.4.0 htmlmin-0.1.12 imagehash-4.2.0 jupyter-client-6.1.7 pandas-profiling-2.9.0 phik-0.10.0 tangled-up-in-unicode-0.0.6 tqdm-4.54.1 visions-0.5.0\n",
            "Enabling notebook extension jupyter-js-widgets/extension...\n",
            "      - Validating: \u001b[32mOK\u001b[0m\n",
            "Requirement already satisfied: matplotlib in /usr/local/lib/python3.6/dist-packages (3.2.2)\n",
            "Requirement already satisfied: pyparsing!=2.0.4,!=2.1.2,!=2.1.6,>=2.0.1 in /usr/local/lib/python3.6/dist-packages (from matplotlib) (2.4.7)\n",
            "Requirement already satisfied: kiwisolver>=1.0.1 in /usr/local/lib/python3.6/dist-packages (from matplotlib) (1.3.1)\n",
            "Requirement already satisfied: numpy>=1.11 in /usr/local/lib/python3.6/dist-packages (from matplotlib) (1.18.5)\n",
            "Requirement already satisfied: python-dateutil>=2.1 in /usr/local/lib/python3.6/dist-packages (from matplotlib) (2.8.1)\n",
            "Requirement already satisfied: cycler>=0.10 in /usr/local/lib/python3.6/dist-packages (from matplotlib) (0.10.0)\n",
            "Requirement already satisfied: six>=1.5 in /usr/local/lib/python3.6/dist-packages (from python-dateutil>=2.1->matplotlib) (1.15.0)\n",
            "Requirement already satisfied: graphviz in /usr/local/lib/python3.6/dist-packages (0.10.1)\n"
          ],
          "name": "stdout"
        }
      ]
    },
    {
      "cell_type": "markdown",
      "metadata": {
        "id": "D5dPZJebzF-u"
      },
      "source": [
        "Load The dataset"
      ]
    },
    {
      "cell_type": "code",
      "metadata": {
        "id": "wtJYh--XzI33"
      },
      "source": [
        "data_file=\"https://raw.githubusercontent.com/NaseemQurabar/GermanDataset/main/german_credit.csv\"\r\n",
        "\r\n",
        "credit_df= pd.read_csv(data_file)\r\n",
        "\r\n",
        "\r\n"
      ],
      "execution_count": 4,
      "outputs": []
    },
    {
      "cell_type": "markdown",
      "metadata": {
        "id": "PcWEbhsRzXSv"
      },
      "source": [
        "Find information of dataset"
      ]
    },
    {
      "cell_type": "code",
      "metadata": {
        "colab": {
          "base_uri": "https://localhost:8080/"
        },
        "id": "wLHfpOQFzXx0",
        "outputId": "216f8498-9120-435d-ea4a-c225a70ebf98"
      },
      "source": [
        "credit_df.info()"
      ],
      "execution_count": 5,
      "outputs": [
        {
          "output_type": "stream",
          "text": [
            "<class 'pandas.core.frame.DataFrame'>\n",
            "RangeIndex: 1000 entries, 0 to 999\n",
            "Data columns (total 21 columns):\n",
            " #   Column                             Non-Null Count  Dtype\n",
            "---  ------                             --------------  -----\n",
            " 0   Creditability                      1000 non-null   int64\n",
            " 1   Account Balance                    1000 non-null   int64\n",
            " 2   Duration of Credit (month)         1000 non-null   int64\n",
            " 3   Payment Status of Previous Credit  1000 non-null   int64\n",
            " 4   Purpose                            1000 non-null   int64\n",
            " 5   Credit Amount                      1000 non-null   int64\n",
            " 6   Value Savings/Stocks               1000 non-null   int64\n",
            " 7   Length of current employment       1000 non-null   int64\n",
            " 8   Instalment per cent                1000 non-null   int64\n",
            " 9   Sex & Marital Status               1000 non-null   int64\n",
            " 10  Guarantors                         1000 non-null   int64\n",
            " 11  Duration in Current address        1000 non-null   int64\n",
            " 12  Most valuable available asset      1000 non-null   int64\n",
            " 13  Age (years)                        1000 non-null   int64\n",
            " 14  Concurrent Credits                 1000 non-null   int64\n",
            " 15  Type of apartment                  1000 non-null   int64\n",
            " 16  No of Credits at this Bank         1000 non-null   int64\n",
            " 17  Occupation                         1000 non-null   int64\n",
            " 18  No of dependents                   1000 non-null   int64\n",
            " 19  Telephone                          1000 non-null   int64\n",
            " 20  Foreign Worker                     1000 non-null   int64\n",
            "dtypes: int64(21)\n",
            "memory usage: 164.2 KB\n"
          ],
          "name": "stdout"
        }
      ]
    },
    {
      "cell_type": "markdown",
      "metadata": {
        "id": "z6liSzU_zyEi"
      },
      "source": [
        ""
      ]
    },
    {
      "cell_type": "markdown",
      "metadata": {
        "id": "XgSXtJFSz1fu"
      },
      "source": [
        "find the Size of dataset"
      ]
    },
    {
      "cell_type": "code",
      "metadata": {
        "colab": {
          "base_uri": "https://localhost:8080/"
        },
        "id": "0qE9fTgDzxgK",
        "outputId": "adb02cd0-b030-40f3-ad8f-bd56a2093bf9"
      },
      "source": [
        "credit_df.shape"
      ],
      "execution_count": 6,
      "outputs": [
        {
          "output_type": "execute_result",
          "data": {
            "text/plain": [
              "(1000, 21)"
            ]
          },
          "metadata": {
            "tags": []
          },
          "execution_count": 6
        }
      ]
    },
    {
      "cell_type": "markdown",
      "metadata": {
        "id": "i6xGitkUzxRS"
      },
      "source": [
        "show the first few rows of dataset"
      ]
    },
    {
      "cell_type": "code",
      "metadata": {
        "colab": {
          "base_uri": "https://localhost:8080/",
          "height": 282
        },
        "id": "A-CAuQr80Cht",
        "outputId": "c247f13b-096c-46d8-f9dc-657c051cfb45"
      },
      "source": [
        "credit_df.head()"
      ],
      "execution_count": 7,
      "outputs": [
        {
          "output_type": "execute_result",
          "data": {
            "text/html": [
              "<div>\n",
              "<style scoped>\n",
              "    .dataframe tbody tr th:only-of-type {\n",
              "        vertical-align: middle;\n",
              "    }\n",
              "\n",
              "    .dataframe tbody tr th {\n",
              "        vertical-align: top;\n",
              "    }\n",
              "\n",
              "    .dataframe thead th {\n",
              "        text-align: right;\n",
              "    }\n",
              "</style>\n",
              "<table border=\"1\" class=\"dataframe\">\n",
              "  <thead>\n",
              "    <tr style=\"text-align: right;\">\n",
              "      <th></th>\n",
              "      <th>Creditability</th>\n",
              "      <th>Account Balance</th>\n",
              "      <th>Duration of Credit (month)</th>\n",
              "      <th>Payment Status of Previous Credit</th>\n",
              "      <th>Purpose</th>\n",
              "      <th>Credit Amount</th>\n",
              "      <th>Value Savings/Stocks</th>\n",
              "      <th>Length of current employment</th>\n",
              "      <th>Instalment per cent</th>\n",
              "      <th>Sex &amp; Marital Status</th>\n",
              "      <th>Guarantors</th>\n",
              "      <th>Duration in Current address</th>\n",
              "      <th>Most valuable available asset</th>\n",
              "      <th>Age (years)</th>\n",
              "      <th>Concurrent Credits</th>\n",
              "      <th>Type of apartment</th>\n",
              "      <th>No of Credits at this Bank</th>\n",
              "      <th>Occupation</th>\n",
              "      <th>No of dependents</th>\n",
              "      <th>Telephone</th>\n",
              "      <th>Foreign Worker</th>\n",
              "    </tr>\n",
              "  </thead>\n",
              "  <tbody>\n",
              "    <tr>\n",
              "      <th>0</th>\n",
              "      <td>1</td>\n",
              "      <td>1</td>\n",
              "      <td>18</td>\n",
              "      <td>4</td>\n",
              "      <td>2</td>\n",
              "      <td>1049</td>\n",
              "      <td>1</td>\n",
              "      <td>2</td>\n",
              "      <td>4</td>\n",
              "      <td>2</td>\n",
              "      <td>1</td>\n",
              "      <td>4</td>\n",
              "      <td>2</td>\n",
              "      <td>21</td>\n",
              "      <td>3</td>\n",
              "      <td>1</td>\n",
              "      <td>1</td>\n",
              "      <td>3</td>\n",
              "      <td>1</td>\n",
              "      <td>1</td>\n",
              "      <td>1</td>\n",
              "    </tr>\n",
              "    <tr>\n",
              "      <th>1</th>\n",
              "      <td>1</td>\n",
              "      <td>1</td>\n",
              "      <td>9</td>\n",
              "      <td>4</td>\n",
              "      <td>0</td>\n",
              "      <td>2799</td>\n",
              "      <td>1</td>\n",
              "      <td>3</td>\n",
              "      <td>2</td>\n",
              "      <td>3</td>\n",
              "      <td>1</td>\n",
              "      <td>2</td>\n",
              "      <td>1</td>\n",
              "      <td>36</td>\n",
              "      <td>3</td>\n",
              "      <td>1</td>\n",
              "      <td>2</td>\n",
              "      <td>3</td>\n",
              "      <td>2</td>\n",
              "      <td>1</td>\n",
              "      <td>1</td>\n",
              "    </tr>\n",
              "    <tr>\n",
              "      <th>2</th>\n",
              "      <td>1</td>\n",
              "      <td>2</td>\n",
              "      <td>12</td>\n",
              "      <td>2</td>\n",
              "      <td>9</td>\n",
              "      <td>841</td>\n",
              "      <td>2</td>\n",
              "      <td>4</td>\n",
              "      <td>2</td>\n",
              "      <td>2</td>\n",
              "      <td>1</td>\n",
              "      <td>4</td>\n",
              "      <td>1</td>\n",
              "      <td>23</td>\n",
              "      <td>3</td>\n",
              "      <td>1</td>\n",
              "      <td>1</td>\n",
              "      <td>2</td>\n",
              "      <td>1</td>\n",
              "      <td>1</td>\n",
              "      <td>1</td>\n",
              "    </tr>\n",
              "    <tr>\n",
              "      <th>3</th>\n",
              "      <td>1</td>\n",
              "      <td>1</td>\n",
              "      <td>12</td>\n",
              "      <td>4</td>\n",
              "      <td>0</td>\n",
              "      <td>2122</td>\n",
              "      <td>1</td>\n",
              "      <td>3</td>\n",
              "      <td>3</td>\n",
              "      <td>3</td>\n",
              "      <td>1</td>\n",
              "      <td>2</td>\n",
              "      <td>1</td>\n",
              "      <td>39</td>\n",
              "      <td>3</td>\n",
              "      <td>1</td>\n",
              "      <td>2</td>\n",
              "      <td>2</td>\n",
              "      <td>2</td>\n",
              "      <td>1</td>\n",
              "      <td>2</td>\n",
              "    </tr>\n",
              "    <tr>\n",
              "      <th>4</th>\n",
              "      <td>1</td>\n",
              "      <td>1</td>\n",
              "      <td>12</td>\n",
              "      <td>4</td>\n",
              "      <td>0</td>\n",
              "      <td>2171</td>\n",
              "      <td>1</td>\n",
              "      <td>3</td>\n",
              "      <td>4</td>\n",
              "      <td>3</td>\n",
              "      <td>1</td>\n",
              "      <td>4</td>\n",
              "      <td>2</td>\n",
              "      <td>38</td>\n",
              "      <td>1</td>\n",
              "      <td>2</td>\n",
              "      <td>2</td>\n",
              "      <td>2</td>\n",
              "      <td>1</td>\n",
              "      <td>1</td>\n",
              "      <td>2</td>\n",
              "    </tr>\n",
              "  </tbody>\n",
              "</table>\n",
              "</div>"
            ],
            "text/plain": [
              "   Creditability  Account Balance  ...  Telephone  Foreign Worker\n",
              "0              1                1  ...          1               1\n",
              "1              1                1  ...          1               1\n",
              "2              1                2  ...          1               1\n",
              "3              1                1  ...          1               2\n",
              "4              1                1  ...          1               2\n",
              "\n",
              "[5 rows x 21 columns]"
            ]
          },
          "metadata": {
            "tags": []
          },
          "execution_count": 7
        }
      ]
    },
    {
      "cell_type": "markdown",
      "metadata": {
        "id": "2LwYWWcO0N9i"
      },
      "source": [
        "Look at loaded data and data types"
      ]
    },
    {
      "cell_type": "code",
      "metadata": {
        "colab": {
          "base_uri": "https://localhost:8080/"
        },
        "id": "o9IUx_Wb0O7A",
        "outputId": "5996fedf-4623-4ff3-8372-ef49c8df60cc"
      },
      "source": [
        "for col in credit_df.columns:\r\n",
        "  if credit_df[col].dtype=='object':\r\n",
        "    #making sure data is not read as bytes but as string values from a file\r\n",
        "    credit_df[col] = credit_df[col].str.decode('utf-8')\r\n",
        "#Look at loaded data and data types\r\n",
        "print(credit_df.dtypes)"
      ],
      "execution_count": 8,
      "outputs": [
        {
          "output_type": "stream",
          "text": [
            "Creditability                        int64\n",
            "Account Balance                      int64\n",
            "Duration of Credit (month)           int64\n",
            "Payment Status of Previous Credit    int64\n",
            "Purpose                              int64\n",
            "Credit Amount                        int64\n",
            "Value Savings/Stocks                 int64\n",
            "Length of current employment         int64\n",
            "Instalment per cent                  int64\n",
            "Sex & Marital Status                 int64\n",
            "Guarantors                           int64\n",
            "Duration in Current address          int64\n",
            "Most valuable available asset        int64\n",
            "Age (years)                          int64\n",
            "Concurrent Credits                   int64\n",
            "Type of apartment                    int64\n",
            "No of Credits at this Bank           int64\n",
            "Occupation                           int64\n",
            "No of dependents                     int64\n",
            "Telephone                            int64\n",
            "Foreign Worker                       int64\n",
            "dtype: object\n"
          ],
          "name": "stdout"
        }
      ]
    },
    {
      "cell_type": "markdown",
      "metadata": {
        "id": "6zGqIU150tP3"
      },
      "source": [
        ""
      ]
    },
    {
      "cell_type": "code",
      "metadata": {
        "colab": {
          "base_uri": "https://localhost:8080/",
          "height": 669
        },
        "id": "lQdNWyx30uJ7",
        "outputId": "e716f52d-7798-41b0-b09c-ab97f30331bd"
      },
      "source": [
        "np.transpose(credit_df.head())"
      ],
      "execution_count": 9,
      "outputs": [
        {
          "output_type": "execute_result",
          "data": {
            "text/html": [
              "<div>\n",
              "<style scoped>\n",
              "    .dataframe tbody tr th:only-of-type {\n",
              "        vertical-align: middle;\n",
              "    }\n",
              "\n",
              "    .dataframe tbody tr th {\n",
              "        vertical-align: top;\n",
              "    }\n",
              "\n",
              "    .dataframe thead th {\n",
              "        text-align: right;\n",
              "    }\n",
              "</style>\n",
              "<table border=\"1\" class=\"dataframe\">\n",
              "  <thead>\n",
              "    <tr style=\"text-align: right;\">\n",
              "      <th></th>\n",
              "      <th>0</th>\n",
              "      <th>1</th>\n",
              "      <th>2</th>\n",
              "      <th>3</th>\n",
              "      <th>4</th>\n",
              "    </tr>\n",
              "  </thead>\n",
              "  <tbody>\n",
              "    <tr>\n",
              "      <th>Creditability</th>\n",
              "      <td>1</td>\n",
              "      <td>1</td>\n",
              "      <td>1</td>\n",
              "      <td>1</td>\n",
              "      <td>1</td>\n",
              "    </tr>\n",
              "    <tr>\n",
              "      <th>Account Balance</th>\n",
              "      <td>1</td>\n",
              "      <td>1</td>\n",
              "      <td>2</td>\n",
              "      <td>1</td>\n",
              "      <td>1</td>\n",
              "    </tr>\n",
              "    <tr>\n",
              "      <th>Duration of Credit (month)</th>\n",
              "      <td>18</td>\n",
              "      <td>9</td>\n",
              "      <td>12</td>\n",
              "      <td>12</td>\n",
              "      <td>12</td>\n",
              "    </tr>\n",
              "    <tr>\n",
              "      <th>Payment Status of Previous Credit</th>\n",
              "      <td>4</td>\n",
              "      <td>4</td>\n",
              "      <td>2</td>\n",
              "      <td>4</td>\n",
              "      <td>4</td>\n",
              "    </tr>\n",
              "    <tr>\n",
              "      <th>Purpose</th>\n",
              "      <td>2</td>\n",
              "      <td>0</td>\n",
              "      <td>9</td>\n",
              "      <td>0</td>\n",
              "      <td>0</td>\n",
              "    </tr>\n",
              "    <tr>\n",
              "      <th>Credit Amount</th>\n",
              "      <td>1049</td>\n",
              "      <td>2799</td>\n",
              "      <td>841</td>\n",
              "      <td>2122</td>\n",
              "      <td>2171</td>\n",
              "    </tr>\n",
              "    <tr>\n",
              "      <th>Value Savings/Stocks</th>\n",
              "      <td>1</td>\n",
              "      <td>1</td>\n",
              "      <td>2</td>\n",
              "      <td>1</td>\n",
              "      <td>1</td>\n",
              "    </tr>\n",
              "    <tr>\n",
              "      <th>Length of current employment</th>\n",
              "      <td>2</td>\n",
              "      <td>3</td>\n",
              "      <td>4</td>\n",
              "      <td>3</td>\n",
              "      <td>3</td>\n",
              "    </tr>\n",
              "    <tr>\n",
              "      <th>Instalment per cent</th>\n",
              "      <td>4</td>\n",
              "      <td>2</td>\n",
              "      <td>2</td>\n",
              "      <td>3</td>\n",
              "      <td>4</td>\n",
              "    </tr>\n",
              "    <tr>\n",
              "      <th>Sex &amp; Marital Status</th>\n",
              "      <td>2</td>\n",
              "      <td>3</td>\n",
              "      <td>2</td>\n",
              "      <td>3</td>\n",
              "      <td>3</td>\n",
              "    </tr>\n",
              "    <tr>\n",
              "      <th>Guarantors</th>\n",
              "      <td>1</td>\n",
              "      <td>1</td>\n",
              "      <td>1</td>\n",
              "      <td>1</td>\n",
              "      <td>1</td>\n",
              "    </tr>\n",
              "    <tr>\n",
              "      <th>Duration in Current address</th>\n",
              "      <td>4</td>\n",
              "      <td>2</td>\n",
              "      <td>4</td>\n",
              "      <td>2</td>\n",
              "      <td>4</td>\n",
              "    </tr>\n",
              "    <tr>\n",
              "      <th>Most valuable available asset</th>\n",
              "      <td>2</td>\n",
              "      <td>1</td>\n",
              "      <td>1</td>\n",
              "      <td>1</td>\n",
              "      <td>2</td>\n",
              "    </tr>\n",
              "    <tr>\n",
              "      <th>Age (years)</th>\n",
              "      <td>21</td>\n",
              "      <td>36</td>\n",
              "      <td>23</td>\n",
              "      <td>39</td>\n",
              "      <td>38</td>\n",
              "    </tr>\n",
              "    <tr>\n",
              "      <th>Concurrent Credits</th>\n",
              "      <td>3</td>\n",
              "      <td>3</td>\n",
              "      <td>3</td>\n",
              "      <td>3</td>\n",
              "      <td>1</td>\n",
              "    </tr>\n",
              "    <tr>\n",
              "      <th>Type of apartment</th>\n",
              "      <td>1</td>\n",
              "      <td>1</td>\n",
              "      <td>1</td>\n",
              "      <td>1</td>\n",
              "      <td>2</td>\n",
              "    </tr>\n",
              "    <tr>\n",
              "      <th>No of Credits at this Bank</th>\n",
              "      <td>1</td>\n",
              "      <td>2</td>\n",
              "      <td>1</td>\n",
              "      <td>2</td>\n",
              "      <td>2</td>\n",
              "    </tr>\n",
              "    <tr>\n",
              "      <th>Occupation</th>\n",
              "      <td>3</td>\n",
              "      <td>3</td>\n",
              "      <td>2</td>\n",
              "      <td>2</td>\n",
              "      <td>2</td>\n",
              "    </tr>\n",
              "    <tr>\n",
              "      <th>No of dependents</th>\n",
              "      <td>1</td>\n",
              "      <td>2</td>\n",
              "      <td>1</td>\n",
              "      <td>2</td>\n",
              "      <td>1</td>\n",
              "    </tr>\n",
              "    <tr>\n",
              "      <th>Telephone</th>\n",
              "      <td>1</td>\n",
              "      <td>1</td>\n",
              "      <td>1</td>\n",
              "      <td>1</td>\n",
              "      <td>1</td>\n",
              "    </tr>\n",
              "    <tr>\n",
              "      <th>Foreign Worker</th>\n",
              "      <td>1</td>\n",
              "      <td>1</td>\n",
              "      <td>1</td>\n",
              "      <td>2</td>\n",
              "      <td>2</td>\n",
              "    </tr>\n",
              "  </tbody>\n",
              "</table>\n",
              "</div>"
            ],
            "text/plain": [
              "                                      0     1    2     3     4\n",
              "Creditability                         1     1    1     1     1\n",
              "Account Balance                       1     1    2     1     1\n",
              "Duration of Credit (month)           18     9   12    12    12\n",
              "Payment Status of Previous Credit     4     4    2     4     4\n",
              "Purpose                               2     0    9     0     0\n",
              "Credit Amount                      1049  2799  841  2122  2171\n",
              "Value Savings/Stocks                  1     1    2     1     1\n",
              "Length of current employment          2     3    4     3     3\n",
              "Instalment per cent                   4     2    2     3     4\n",
              "Sex & Marital Status                  2     3    2     3     3\n",
              "Guarantors                            1     1    1     1     1\n",
              "Duration in Current address           4     2    4     2     4\n",
              "Most valuable available asset         2     1    1     1     2\n",
              "Age (years)                          21    36   23    39    38\n",
              "Concurrent Credits                    3     3    3     3     1\n",
              "Type of apartment                     1     1    1     1     2\n",
              "No of Credits at this Bank            1     2    1     2     2\n",
              "Occupation                            3     3    2     2     2\n",
              "No of dependents                      1     2    1     2     1\n",
              "Telephone                             1     1    1     1     1\n",
              "Foreign Worker                        1     1    1     2     2"
            ]
          },
          "metadata": {
            "tags": []
          },
          "execution_count": 9
        }
      ]
    },
    {
      "cell_type": "markdown",
      "metadata": {
        "id": "ruD98MJc1BTy"
      },
      "source": [
        "Checking for Null Values"
      ]
    },
    {
      "cell_type": "code",
      "metadata": {
        "colab": {
          "base_uri": "https://localhost:8080/"
        },
        "id": "l1plzvJ91A0B",
        "outputId": "837144bb-4afa-4792-c022-cd077c0a74b5"
      },
      "source": [
        "credit_df.isnull().sum()"
      ],
      "execution_count": 10,
      "outputs": [
        {
          "output_type": "execute_result",
          "data": {
            "text/plain": [
              "Creditability                        0\n",
              "Account Balance                      0\n",
              "Duration of Credit (month)           0\n",
              "Payment Status of Previous Credit    0\n",
              "Purpose                              0\n",
              "Credit Amount                        0\n",
              "Value Savings/Stocks                 0\n",
              "Length of current employment         0\n",
              "Instalment per cent                  0\n",
              "Sex & Marital Status                 0\n",
              "Guarantors                           0\n",
              "Duration in Current address          0\n",
              "Most valuable available asset        0\n",
              "Age (years)                          0\n",
              "Concurrent Credits                   0\n",
              "Type of apartment                    0\n",
              "No of Credits at this Bank           0\n",
              "Occupation                           0\n",
              "No of dependents                     0\n",
              "Telephone                            0\n",
              "Foreign Worker                       0\n",
              "dtype: int64"
            ]
          },
          "metadata": {
            "tags": []
          },
          "execution_count": 10
        }
      ]
    },
    {
      "cell_type": "markdown",
      "metadata": {
        "id": "p7rIxFdX1XmO"
      },
      "source": [
        "find out the summary mean median sd of dataset"
      ]
    },
    {
      "cell_type": "code",
      "metadata": {
        "colab": {
          "base_uri": "https://localhost:8080/",
          "height": 669
        },
        "id": "Uu_x8Ulj1YV2",
        "outputId": "3229b9c2-8cb7-4b8e-c494-1fa215e6ec0c"
      },
      "source": [
        "np.transpose(credit_df.describe())"
      ],
      "execution_count": 11,
      "outputs": [
        {
          "output_type": "execute_result",
          "data": {
            "text/html": [
              "<div>\n",
              "<style scoped>\n",
              "    .dataframe tbody tr th:only-of-type {\n",
              "        vertical-align: middle;\n",
              "    }\n",
              "\n",
              "    .dataframe tbody tr th {\n",
              "        vertical-align: top;\n",
              "    }\n",
              "\n",
              "    .dataframe thead th {\n",
              "        text-align: right;\n",
              "    }\n",
              "</style>\n",
              "<table border=\"1\" class=\"dataframe\">\n",
              "  <thead>\n",
              "    <tr style=\"text-align: right;\">\n",
              "      <th></th>\n",
              "      <th>count</th>\n",
              "      <th>mean</th>\n",
              "      <th>std</th>\n",
              "      <th>min</th>\n",
              "      <th>25%</th>\n",
              "      <th>50%</th>\n",
              "      <th>75%</th>\n",
              "      <th>max</th>\n",
              "    </tr>\n",
              "  </thead>\n",
              "  <tbody>\n",
              "    <tr>\n",
              "      <th>Creditability</th>\n",
              "      <td>1000.0</td>\n",
              "      <td>0.700</td>\n",
              "      <td>0.458487</td>\n",
              "      <td>0.0</td>\n",
              "      <td>0.0</td>\n",
              "      <td>1.0</td>\n",
              "      <td>1.00</td>\n",
              "      <td>1.0</td>\n",
              "    </tr>\n",
              "    <tr>\n",
              "      <th>Account Balance</th>\n",
              "      <td>1000.0</td>\n",
              "      <td>2.577</td>\n",
              "      <td>1.257638</td>\n",
              "      <td>1.0</td>\n",
              "      <td>1.0</td>\n",
              "      <td>2.0</td>\n",
              "      <td>4.00</td>\n",
              "      <td>4.0</td>\n",
              "    </tr>\n",
              "    <tr>\n",
              "      <th>Duration of Credit (month)</th>\n",
              "      <td>1000.0</td>\n",
              "      <td>20.903</td>\n",
              "      <td>12.058814</td>\n",
              "      <td>4.0</td>\n",
              "      <td>12.0</td>\n",
              "      <td>18.0</td>\n",
              "      <td>24.00</td>\n",
              "      <td>72.0</td>\n",
              "    </tr>\n",
              "    <tr>\n",
              "      <th>Payment Status of Previous Credit</th>\n",
              "      <td>1000.0</td>\n",
              "      <td>2.545</td>\n",
              "      <td>1.083120</td>\n",
              "      <td>0.0</td>\n",
              "      <td>2.0</td>\n",
              "      <td>2.0</td>\n",
              "      <td>4.00</td>\n",
              "      <td>4.0</td>\n",
              "    </tr>\n",
              "    <tr>\n",
              "      <th>Purpose</th>\n",
              "      <td>1000.0</td>\n",
              "      <td>2.828</td>\n",
              "      <td>2.744439</td>\n",
              "      <td>0.0</td>\n",
              "      <td>1.0</td>\n",
              "      <td>2.0</td>\n",
              "      <td>3.00</td>\n",
              "      <td>10.0</td>\n",
              "    </tr>\n",
              "    <tr>\n",
              "      <th>Credit Amount</th>\n",
              "      <td>1000.0</td>\n",
              "      <td>3271.248</td>\n",
              "      <td>2822.751760</td>\n",
              "      <td>250.0</td>\n",
              "      <td>1365.5</td>\n",
              "      <td>2319.5</td>\n",
              "      <td>3972.25</td>\n",
              "      <td>18424.0</td>\n",
              "    </tr>\n",
              "    <tr>\n",
              "      <th>Value Savings/Stocks</th>\n",
              "      <td>1000.0</td>\n",
              "      <td>2.105</td>\n",
              "      <td>1.580023</td>\n",
              "      <td>1.0</td>\n",
              "      <td>1.0</td>\n",
              "      <td>1.0</td>\n",
              "      <td>3.00</td>\n",
              "      <td>5.0</td>\n",
              "    </tr>\n",
              "    <tr>\n",
              "      <th>Length of current employment</th>\n",
              "      <td>1000.0</td>\n",
              "      <td>3.384</td>\n",
              "      <td>1.208306</td>\n",
              "      <td>1.0</td>\n",
              "      <td>3.0</td>\n",
              "      <td>3.0</td>\n",
              "      <td>5.00</td>\n",
              "      <td>5.0</td>\n",
              "    </tr>\n",
              "    <tr>\n",
              "      <th>Instalment per cent</th>\n",
              "      <td>1000.0</td>\n",
              "      <td>2.973</td>\n",
              "      <td>1.118715</td>\n",
              "      <td>1.0</td>\n",
              "      <td>2.0</td>\n",
              "      <td>3.0</td>\n",
              "      <td>4.00</td>\n",
              "      <td>4.0</td>\n",
              "    </tr>\n",
              "    <tr>\n",
              "      <th>Sex &amp; Marital Status</th>\n",
              "      <td>1000.0</td>\n",
              "      <td>2.682</td>\n",
              "      <td>0.708080</td>\n",
              "      <td>1.0</td>\n",
              "      <td>2.0</td>\n",
              "      <td>3.0</td>\n",
              "      <td>3.00</td>\n",
              "      <td>4.0</td>\n",
              "    </tr>\n",
              "    <tr>\n",
              "      <th>Guarantors</th>\n",
              "      <td>1000.0</td>\n",
              "      <td>1.145</td>\n",
              "      <td>0.477706</td>\n",
              "      <td>1.0</td>\n",
              "      <td>1.0</td>\n",
              "      <td>1.0</td>\n",
              "      <td>1.00</td>\n",
              "      <td>3.0</td>\n",
              "    </tr>\n",
              "    <tr>\n",
              "      <th>Duration in Current address</th>\n",
              "      <td>1000.0</td>\n",
              "      <td>2.845</td>\n",
              "      <td>1.103718</td>\n",
              "      <td>1.0</td>\n",
              "      <td>2.0</td>\n",
              "      <td>3.0</td>\n",
              "      <td>4.00</td>\n",
              "      <td>4.0</td>\n",
              "    </tr>\n",
              "    <tr>\n",
              "      <th>Most valuable available asset</th>\n",
              "      <td>1000.0</td>\n",
              "      <td>2.358</td>\n",
              "      <td>1.050209</td>\n",
              "      <td>1.0</td>\n",
              "      <td>1.0</td>\n",
              "      <td>2.0</td>\n",
              "      <td>3.00</td>\n",
              "      <td>4.0</td>\n",
              "    </tr>\n",
              "    <tr>\n",
              "      <th>Age (years)</th>\n",
              "      <td>1000.0</td>\n",
              "      <td>35.542</td>\n",
              "      <td>11.352670</td>\n",
              "      <td>19.0</td>\n",
              "      <td>27.0</td>\n",
              "      <td>33.0</td>\n",
              "      <td>42.00</td>\n",
              "      <td>75.0</td>\n",
              "    </tr>\n",
              "    <tr>\n",
              "      <th>Concurrent Credits</th>\n",
              "      <td>1000.0</td>\n",
              "      <td>2.675</td>\n",
              "      <td>0.705601</td>\n",
              "      <td>1.0</td>\n",
              "      <td>3.0</td>\n",
              "      <td>3.0</td>\n",
              "      <td>3.00</td>\n",
              "      <td>3.0</td>\n",
              "    </tr>\n",
              "    <tr>\n",
              "      <th>Type of apartment</th>\n",
              "      <td>1000.0</td>\n",
              "      <td>1.928</td>\n",
              "      <td>0.530186</td>\n",
              "      <td>1.0</td>\n",
              "      <td>2.0</td>\n",
              "      <td>2.0</td>\n",
              "      <td>2.00</td>\n",
              "      <td>3.0</td>\n",
              "    </tr>\n",
              "    <tr>\n",
              "      <th>No of Credits at this Bank</th>\n",
              "      <td>1000.0</td>\n",
              "      <td>1.407</td>\n",
              "      <td>0.577654</td>\n",
              "      <td>1.0</td>\n",
              "      <td>1.0</td>\n",
              "      <td>1.0</td>\n",
              "      <td>2.00</td>\n",
              "      <td>4.0</td>\n",
              "    </tr>\n",
              "    <tr>\n",
              "      <th>Occupation</th>\n",
              "      <td>1000.0</td>\n",
              "      <td>2.904</td>\n",
              "      <td>0.653614</td>\n",
              "      <td>1.0</td>\n",
              "      <td>3.0</td>\n",
              "      <td>3.0</td>\n",
              "      <td>3.00</td>\n",
              "      <td>4.0</td>\n",
              "    </tr>\n",
              "    <tr>\n",
              "      <th>No of dependents</th>\n",
              "      <td>1000.0</td>\n",
              "      <td>1.155</td>\n",
              "      <td>0.362086</td>\n",
              "      <td>1.0</td>\n",
              "      <td>1.0</td>\n",
              "      <td>1.0</td>\n",
              "      <td>1.00</td>\n",
              "      <td>2.0</td>\n",
              "    </tr>\n",
              "    <tr>\n",
              "      <th>Telephone</th>\n",
              "      <td>1000.0</td>\n",
              "      <td>1.404</td>\n",
              "      <td>0.490943</td>\n",
              "      <td>1.0</td>\n",
              "      <td>1.0</td>\n",
              "      <td>1.0</td>\n",
              "      <td>2.00</td>\n",
              "      <td>2.0</td>\n",
              "    </tr>\n",
              "    <tr>\n",
              "      <th>Foreign Worker</th>\n",
              "      <td>1000.0</td>\n",
              "      <td>1.037</td>\n",
              "      <td>0.188856</td>\n",
              "      <td>1.0</td>\n",
              "      <td>1.0</td>\n",
              "      <td>1.0</td>\n",
              "      <td>1.00</td>\n",
              "      <td>2.0</td>\n",
              "    </tr>\n",
              "  </tbody>\n",
              "</table>\n",
              "</div>"
            ],
            "text/plain": [
              "                                    count      mean  ...      75%      max\n",
              "Creditability                      1000.0     0.700  ...     1.00      1.0\n",
              "Account Balance                    1000.0     2.577  ...     4.00      4.0\n",
              "Duration of Credit (month)         1000.0    20.903  ...    24.00     72.0\n",
              "Payment Status of Previous Credit  1000.0     2.545  ...     4.00      4.0\n",
              "Purpose                            1000.0     2.828  ...     3.00     10.0\n",
              "Credit Amount                      1000.0  3271.248  ...  3972.25  18424.0\n",
              "Value Savings/Stocks               1000.0     2.105  ...     3.00      5.0\n",
              "Length of current employment       1000.0     3.384  ...     5.00      5.0\n",
              "Instalment per cent                1000.0     2.973  ...     4.00      4.0\n",
              "Sex & Marital Status               1000.0     2.682  ...     3.00      4.0\n",
              "Guarantors                         1000.0     1.145  ...     1.00      3.0\n",
              "Duration in Current address        1000.0     2.845  ...     4.00      4.0\n",
              "Most valuable available asset      1000.0     2.358  ...     3.00      4.0\n",
              "Age (years)                        1000.0    35.542  ...    42.00     75.0\n",
              "Concurrent Credits                 1000.0     2.675  ...     3.00      3.0\n",
              "Type of apartment                  1000.0     1.928  ...     2.00      3.0\n",
              "No of Credits at this Bank         1000.0     1.407  ...     2.00      4.0\n",
              "Occupation                         1000.0     2.904  ...     3.00      4.0\n",
              "No of dependents                   1000.0     1.155  ...     1.00      2.0\n",
              "Telephone                          1000.0     1.404  ...     2.00      2.0\n",
              "Foreign Worker                     1000.0     1.037  ...     1.00      2.0\n",
              "\n",
              "[21 rows x 8 columns]"
            ]
          },
          "metadata": {
            "tags": []
          },
          "execution_count": 11
        }
      ]
    },
    {
      "cell_type": "markdown",
      "metadata": {
        "id": "29C1Bg-41lqZ"
      },
      "source": [
        "plot the Histogram of variables"
      ]
    },
    {
      "cell_type": "code",
      "metadata": {
        "colab": {
          "base_uri": "https://localhost:8080/",
          "height": 350
        },
        "id": "pt3_Iau31mFf",
        "outputId": "67ea11d4-f23d-4dda-8e40-6c314e128c62"
      },
      "source": [
        "sns.distplot(credit_df['Duration of Credit (month)'])"
      ],
      "execution_count": 12,
      "outputs": [
        {
          "output_type": "stream",
          "text": [
            "/usr/local/lib/python3.6/dist-packages/seaborn/distributions.py:2551: FutureWarning: `distplot` is a deprecated function and will be removed in a future version. Please adapt your code to use either `displot` (a figure-level function with similar flexibility) or `histplot` (an axes-level function for histograms).\n",
            "  warnings.warn(msg, FutureWarning)\n"
          ],
          "name": "stderr"
        },
        {
          "output_type": "execute_result",
          "data": {
            "text/plain": [
              "<matplotlib.axes._subplots.AxesSubplot at 0x7f3a12c1dcf8>"
            ]
          },
          "metadata": {
            "tags": []
          },
          "execution_count": 12
        },
        {
          "output_type": "display_data",
          "data": {
            "image/png": "[encoded data removed]",
            "text/plain": [
              "<Figure size 432x288 with 1 Axes>"
            ]
          },
          "metadata": {
            "tags": [],
            "needs_background": "light"
          }
        }
      ]
    },
    {
      "cell_type": "code",
      "metadata": {
        "colab": {
          "base_uri": "https://localhost:8080/",
          "height": 350
        },
        "id": "dP1gEtYN12Ix",
        "outputId": "764cb896-3545-41a3-bb8f-3ccebba1567c"
      },
      "source": [
        "sns.distplot(credit_df['Credit Amount'])"
      ],
      "execution_count": 13,
      "outputs": [
        {
          "output_type": "stream",
          "text": [
            "/usr/local/lib/python3.6/dist-packages/seaborn/distributions.py:2551: FutureWarning: `distplot` is a deprecated function and will be removed in a future version. Please adapt your code to use either `displot` (a figure-level function with similar flexibility) or `histplot` (an axes-level function for histograms).\n",
            "  warnings.warn(msg, FutureWarning)\n"
          ],
          "name": "stderr"
        },
        {
          "output_type": "execute_result",
          "data": {
            "text/plain": [
              "<matplotlib.axes._subplots.AxesSubplot at 0x7f3a128adac8>"
            ]
          },
          "metadata": {
            "tags": []
          },
          "execution_count": 13
        },
        {
          "output_type": "display_data",
          "data": {
            "image/png": "[encoded data removed]",
            "text/plain": [
              "<Figure size 432x288 with 1 Axes>"
            ]
          },
          "metadata": {
            "tags": [],
            "needs_background": "light"
          }
        }
      ]
    },
    {
      "cell_type": "code",
      "metadata": {
        "colab": {
          "base_uri": "https://localhost:8080/",
          "height": 350
        },
        "id": "5bV0Z6wb1-OM",
        "outputId": "e87477c9-143c-43c9-e572-8215dad8ad1b"
      },
      "source": [
        "sns.distplot(credit_df['Age (years)'])"
      ],
      "execution_count": 14,
      "outputs": [
        {
          "output_type": "stream",
          "text": [
            "/usr/local/lib/python3.6/dist-packages/seaborn/distributions.py:2551: FutureWarning: `distplot` is a deprecated function and will be removed in a future version. Please adapt your code to use either `displot` (a figure-level function with similar flexibility) or `histplot` (an axes-level function for histograms).\n",
            "  warnings.warn(msg, FutureWarning)\n"
          ],
          "name": "stderr"
        },
        {
          "output_type": "execute_result",
          "data": {
            "text/plain": [
              "<matplotlib.axes._subplots.AxesSubplot at 0x7f3a113dcdd8>"
            ]
          },
          "metadata": {
            "tags": []
          },
          "execution_count": 14
        },
        {
          "output_type": "display_data",
          "data": {
            "image/png": "[encoded data removed]",
            "text/plain": [
              "<Figure size 432x288 with 1 Axes>"
            ]
          },
          "metadata": {
            "tags": [],
            "needs_background": "light"
          }
        }
      ]
    },
    {
      "cell_type": "code",
      "metadata": {
        "colab": {
          "base_uri": "https://localhost:8080/",
          "height": 350
        },
        "id": "xG6WQEfW2AIa",
        "outputId": "39f71be9-25e7-43a4-e8d4-d0129a37fc5f"
      },
      "source": [
        "sns.distplot(credit_df['No of Credits at this Bank'])"
      ],
      "execution_count": 15,
      "outputs": [
        {
          "output_type": "stream",
          "text": [
            "/usr/local/lib/python3.6/dist-packages/seaborn/distributions.py:2551: FutureWarning: `distplot` is a deprecated function and will be removed in a future version. Please adapt your code to use either `displot` (a figure-level function with similar flexibility) or `histplot` (an axes-level function for histograms).\n",
            "  warnings.warn(msg, FutureWarning)\n"
          ],
          "name": "stderr"
        },
        {
          "output_type": "execute_result",
          "data": {
            "text/plain": [
              "<matplotlib.axes._subplots.AxesSubplot at 0x7f3a1128f320>"
            ]
          },
          "metadata": {
            "tags": []
          },
          "execution_count": 15
        },
        {
          "output_type": "display_data",
          "data": {
            "image/png": "[encoded data removed]",
            "text/plain": [
              "<Figure size 432x288 with 1 Axes>"
            ]
          },
          "metadata": {
            "tags": [],
            "needs_background": "light"
          }
        }
      ]
    },
    {
      "cell_type": "code",
      "metadata": {
        "colab": {
          "base_uri": "https://localhost:8080/",
          "height": 350
        },
        "id": "zdmQdTNg2I3X",
        "outputId": "5cbccb05-457d-4f69-f6b3-11dd309fc6cf"
      },
      "source": [
        "sns.boxplot(credit_df['Credit Amount'])"
      ],
      "execution_count": 16,
      "outputs": [
        {
          "output_type": "stream",
          "text": [
            "/usr/local/lib/python3.6/dist-packages/seaborn/_decorators.py:43: FutureWarning: Pass the following variable as a keyword arg: x. From version 0.12, the only valid positional argument will be `data`, and passing other arguments without an explicit keyword will result in an error or misinterpretation.\n",
            "  FutureWarning\n"
          ],
          "name": "stderr"
        },
        {
          "output_type": "execute_result",
          "data": {
            "text/plain": [
              "<matplotlib.axes._subplots.AxesSubplot at 0x7f3a112026d8>"
            ]
          },
          "metadata": {
            "tags": []
          },
          "execution_count": 16
        },
        {
          "output_type": "display_data",
          "data": {
            "image/png": "[encoded data removed]",
            "text/plain": [
              "<Figure size 432x288 with 1 Axes>"
            ]
          },
          "metadata": {
            "tags": [],
            "needs_background": "light"
          }
        }
      ]
    },
    {
      "cell_type": "code",
      "metadata": {
        "colab": {
          "base_uri": "https://localhost:8080/",
          "height": 350
        },
        "id": "rUiAVBKL2LUV",
        "outputId": "fd98ac40-829a-4bf9-9486-fcd399bb90ea"
      },
      "source": [
        "sns.boxplot(credit_df['Duration of Credit (month)'])"
      ],
      "execution_count": 17,
      "outputs": [
        {
          "output_type": "stream",
          "text": [
            "/usr/local/lib/python3.6/dist-packages/seaborn/_decorators.py:43: FutureWarning: Pass the following variable as a keyword arg: x. From version 0.12, the only valid positional argument will be `data`, and passing other arguments without an explicit keyword will result in an error or misinterpretation.\n",
            "  FutureWarning\n"
          ],
          "name": "stderr"
        },
        {
          "output_type": "execute_result",
          "data": {
            "text/plain": [
              "<matplotlib.axes._subplots.AxesSubplot at 0x7f3a11187240>"
            ]
          },
          "metadata": {
            "tags": []
          },
          "execution_count": 17
        },
        {
          "output_type": "display_data",
          "data": {
            "image/png": "[encoded data removed]",
            "text/plain": [
              "<Figure size 432x288 with 1 Axes>"
            ]
          },
          "metadata": {
            "tags": [],
            "needs_background": "light"
          }
        }
      ]
    },
    {
      "cell_type": "code",
      "metadata": {
        "colab": {
          "base_uri": "https://localhost:8080/",
          "height": 350
        },
        "id": "NFyD1RmO2V-e",
        "outputId": "87d6f600-f922-4406-f33a-e15143439a93"
      },
      "source": [
        "sns.boxplot(credit_df['No of Credits at this Bank'])"
      ],
      "execution_count": 19,
      "outputs": [
        {
          "output_type": "stream",
          "text": [
            "/usr/local/lib/python3.6/dist-packages/seaborn/_decorators.py:43: FutureWarning: Pass the following variable as a keyword arg: x. From version 0.12, the only valid positional argument will be `data`, and passing other arguments without an explicit keyword will result in an error or misinterpretation.\n",
            "  FutureWarning\n"
          ],
          "name": "stderr"
        },
        {
          "output_type": "execute_result",
          "data": {
            "text/plain": [
              "<matplotlib.axes._subplots.AxesSubplot at 0x7f9187ace7b8>"
            ]
          },
          "metadata": {
            "tags": []
          },
          "execution_count": 19
        },
        {
          "output_type": "display_data",
          "data": {
            "image/png": "[encoded data removed]",
            "text/plain": [
              "<Figure size 432x288 with 1 Axes>"
            ]
          },
          "metadata": {
            "tags": [],
            "needs_background": "light"
          }
        }
      ]
    },
    {
      "cell_type": "markdown",
      "metadata": {
        "id": "AMjf7fuB2kFp"
      },
      "source": [
        "finding out the corelation between different vairables for feature selection."
      ]
    },
    {
      "cell_type": "code",
      "metadata": {
        "colab": {
          "base_uri": "https://localhost:8080/",
          "height": 814
        },
        "id": "TIHXEFuk2Y9x",
        "outputId": "885d2b85-8673-4e12-b347-3784f802f7a6"
      },
      "source": [
        "credit_df.corr().style.format(\"{:.4}\").background_gradient(cmap=plt.get_cmap('coolwarm'), axis=1)"
      ],
      "execution_count": 18,
      "outputs": [
        {
          "output_type": "execute_result",
          "data": {
            "text/html": [
              "<style  type=\"text/css\" >\n",
              "#T_a2de111a_3d83_11eb_84d7_0242ac1c0002row0_col0,#T_a2de111a_3d83_11eb_84d7_0242ac1c0002row1_col1,#T_a2de111a_3d83_11eb_84d7_0242ac1c0002row2_col2,#T_a2de111a_3d83_11eb_84d7_0242ac1c0002row3_col3,#T_a2de111a_3d83_11eb_84d7_0242ac1c0002row4_col4,#T_a2de111a_3d83_11eb_84d7_0242ac1c0002row5_col5,#T_a2de111a_3d83_11eb_84d7_0242ac1c0002row6_col6,#T_a2de111a_3d83_11eb_84d7_0242ac1c0002row7_col7,#T_a2de111a_3d83_11eb_84d7_0242ac1c0002row8_col8,#T_a2de111a_3d83_11eb_84d7_0242ac1c0002row9_col9,#T_a2de111a_3d83_11eb_84d7_0242ac1c0002row10_col10,#T_a2de111a_3d83_11eb_84d7_0242ac1c0002row11_col11,#T_a2de111a_3d83_11eb_84d7_0242ac1c0002row12_col12,#T_a2de111a_3d83_11eb_84d7_0242ac1c0002row13_col13,#T_a2de111a_3d83_11eb_84d7_0242ac1c0002row14_col14,#T_a2de111a_3d83_11eb_84d7_0242ac1c0002row15_col15,#T_a2de111a_3d83_11eb_84d7_0242ac1c0002row16_col16,#T_a2de111a_3d83_11eb_84d7_0242ac1c0002row17_col17,#T_a2de111a_3d83_11eb_84d7_0242ac1c0002row18_col18,#T_a2de111a_3d83_11eb_84d7_0242ac1c0002row19_col19,#T_a2de111a_3d83_11eb_84d7_0242ac1c0002row20_col20{\n",
              "            background-color:  #b40426;\n",
              "            color:  #f1f1f1;\n",
              "        }#T_a2de111a_3d83_11eb_84d7_0242ac1c0002row0_col1,#T_a2de111a_3d83_11eb_84d7_0242ac1c0002row16_col3{\n",
              "            background-color:  #d4dbe6;\n",
              "            color:  #000000;\n",
              "        }#T_a2de111a_3d83_11eb_84d7_0242ac1c0002row0_col2,#T_a2de111a_3d83_11eb_84d7_0242ac1c0002row1_col10,#T_a2de111a_3d83_11eb_84d7_0242ac1c0002row2_col0,#T_a2de111a_3d83_11eb_84d7_0242ac1c0002row3_col4,#T_a2de111a_3d83_11eb_84d7_0242ac1c0002row4_col20,#T_a2de111a_3d83_11eb_84d7_0242ac1c0002row5_col8,#T_a2de111a_3d83_11eb_84d7_0242ac1c0002row6_col10,#T_a2de111a_3d83_11eb_84d7_0242ac1c0002row7_col20,#T_a2de111a_3d83_11eb_84d7_0242ac1c0002row8_col5,#T_a2de111a_3d83_11eb_84d7_0242ac1c0002row9_col11,#T_a2de111a_3d83_11eb_84d7_0242ac1c0002row9_col14,#T_a2de111a_3d83_11eb_84d7_0242ac1c0002row10_col12,#T_a2de111a_3d83_11eb_84d7_0242ac1c0002row11_col1,#T_a2de111a_3d83_11eb_84d7_0242ac1c0002row11_col4,#T_a2de111a_3d83_11eb_84d7_0242ac1c0002row11_col20,#T_a2de111a_3d83_11eb_84d7_0242ac1c0002row12_col10,#T_a2de111a_3d83_11eb_84d7_0242ac1c0002row13_col2,#T_a2de111a_3d83_11eb_84d7_0242ac1c0002row14_col12,#T_a2de111a_3d83_11eb_84d7_0242ac1c0002row15_col14,#T_a2de111a_3d83_11eb_84d7_0242ac1c0002row16_col14,#T_a2de111a_3d83_11eb_84d7_0242ac1c0002row17_col18,#T_a2de111a_3d83_11eb_84d7_0242ac1c0002row17_col20,#T_a2de111a_3d83_11eb_84d7_0242ac1c0002row18_col17,#T_a2de111a_3d83_11eb_84d7_0242ac1c0002row19_col10,#T_a2de111a_3d83_11eb_84d7_0242ac1c0002row19_col20,#T_a2de111a_3d83_11eb_84d7_0242ac1c0002row20_col2,#T_a2de111a_3d83_11eb_84d7_0242ac1c0002row20_col12{\n",
              "            background-color:  #3b4cc0;\n",
              "            color:  #f1f1f1;\n",
              "        }#T_a2de111a_3d83_11eb_84d7_0242ac1c0002row0_col3,#T_a2de111a_3d83_11eb_84d7_0242ac1c0002row15_col13{\n",
              "            background-color:  #b5cdfa;\n",
              "            color:  #000000;\n",
              "        }#T_a2de111a_3d83_11eb_84d7_0242ac1c0002row0_col4,#T_a2de111a_3d83_11eb_84d7_0242ac1c0002row4_col5,#T_a2de111a_3d83_11eb_84d7_0242ac1c0002row19_col15{\n",
              "            background-color:  #6e90f2;\n",
              "            color:  #000000;\n",
              "        }#T_a2de111a_3d83_11eb_84d7_0242ac1c0002row0_col5,#T_a2de111a_3d83_11eb_84d7_0242ac1c0002row1_col2,#T_a2de111a_3d83_11eb_84d7_0242ac1c0002row11_col15,#T_a2de111a_3d83_11eb_84d7_0242ac1c0002row13_col20{\n",
              "            background-color:  #4961d2;\n",
              "            color:  #f1f1f1;\n",
              "        }#T_a2de111a_3d83_11eb_84d7_0242ac1c0002row0_col6{\n",
              "            background-color:  #a6c4fe;\n",
              "            color:  #000000;\n",
              "        }#T_a2de111a_3d83_11eb_84d7_0242ac1c0002row0_col7,#T_a2de111a_3d83_11eb_84d7_0242ac1c0002row8_col2{\n",
              "            background-color:  #94b6ff;\n",
              "            color:  #000000;\n",
              "        }#T_a2de111a_3d83_11eb_84d7_0242ac1c0002row0_col8,#T_a2de111a_3d83_11eb_84d7_0242ac1c0002row2_col1,#T_a2de111a_3d83_11eb_84d7_0242ac1c0002row3_col6,#T_a2de111a_3d83_11eb_84d7_0242ac1c0002row6_col18,#T_a2de111a_3d83_11eb_84d7_0242ac1c0002row7_col18,#T_a2de111a_3d83_11eb_84d7_0242ac1c0002row10_col4,#T_a2de111a_3d83_11eb_84d7_0242ac1c0002row14_col11,#T_a2de111a_3d83_11eb_84d7_0242ac1c0002row19_col3{\n",
              "            background-color:  #5f7fe8;\n",
              "            color:  #000000;\n",
              "        }#T_a2de111a_3d83_11eb_84d7_0242ac1c0002row0_col9,#T_a2de111a_3d83_11eb_84d7_0242ac1c0002row8_col3{\n",
              "            background-color:  #8caffe;\n",
              "            color:  #000000;\n",
              "        }#T_a2de111a_3d83_11eb_84d7_0242ac1c0002row0_col10,#T_a2de111a_3d83_11eb_84d7_0242ac1c0002row12_col13,#T_a2de111a_3d83_11eb_84d7_0242ac1c0002row14_col0,#T_a2de111a_3d83_11eb_84d7_0242ac1c0002row16_col13,#T_a2de111a_3d83_11eb_84d7_0242ac1c0002row18_col9{\n",
              "            background-color:  #7a9df8;\n",
              "            color:  #000000;\n",
              "        }#T_a2de111a_3d83_11eb_84d7_0242ac1c0002row0_col11,#T_a2de111a_3d83_11eb_84d7_0242ac1c0002row1_col14,#T_a2de111a_3d83_11eb_84d7_0242ac1c0002row1_col19,#T_a2de111a_3d83_11eb_84d7_0242ac1c0002row4_col19,#T_a2de111a_3d83_11eb_84d7_0242ac1c0002row6_col19,#T_a2de111a_3d83_11eb_84d7_0242ac1c0002row13_col19,#T_a2de111a_3d83_11eb_84d7_0242ac1c0002row15_col8,#T_a2de111a_3d83_11eb_84d7_0242ac1c0002row16_col7,#T_a2de111a_3d83_11eb_84d7_0242ac1c0002row17_col8,#T_a2de111a_3d83_11eb_84d7_0242ac1c0002row18_col7{\n",
              "            background-color:  #7295f4;\n",
              "            color:  #000000;\n",
              "        }#T_a2de111a_3d83_11eb_84d7_0242ac1c0002row0_col12,#T_a2de111a_3d83_11eb_84d7_0242ac1c0002row11_col14,#T_a2de111a_3d83_11eb_84d7_0242ac1c0002row17_col16{\n",
              "            background-color:  #4c66d6;\n",
              "            color:  #000000;\n",
              "        }#T_a2de111a_3d83_11eb_84d7_0242ac1c0002row0_col13,#T_a2de111a_3d83_11eb_84d7_0242ac1c0002row8_col4,#T_a2de111a_3d83_11eb_84d7_0242ac1c0002row8_col11,#T_a2de111a_3d83_11eb_84d7_0242ac1c0002row19_col12{\n",
              "            background-color:  #8db0fe;\n",
              "            color:  #000000;\n",
              "        }#T_a2de111a_3d83_11eb_84d7_0242ac1c0002row0_col14,#T_a2de111a_3d83_11eb_84d7_0242ac1c0002row5_col4{\n",
              "            background-color:  #93b5fe;\n",
              "            color:  #000000;\n",
              "        }#T_a2de111a_3d83_11eb_84d7_0242ac1c0002row0_col15,#T_a2de111a_3d83_11eb_84d7_0242ac1c0002row5_col10,#T_a2de111a_3d83_11eb_84d7_0242ac1c0002row15_col7,#T_a2de111a_3d83_11eb_84d7_0242ac1c0002row15_col18,#T_a2de111a_3d83_11eb_84d7_0242ac1c0002row18_col13{\n",
              "            background-color:  #799cf8;\n",
              "            color:  #000000;\n",
              "        }#T_a2de111a_3d83_11eb_84d7_0242ac1c0002row0_col16{\n",
              "            background-color:  #80a3fa;\n",
              "            color:  #000000;\n",
              "        }#T_a2de111a_3d83_11eb_84d7_0242ac1c0002row0_col17,#T_a2de111a_3d83_11eb_84d7_0242ac1c0002row1_col9,#T_a2de111a_3d83_11eb_84d7_0242ac1c0002row1_col17,#T_a2de111a_3d83_11eb_84d7_0242ac1c0002row4_col16,#T_a2de111a_3d83_11eb_84d7_0242ac1c0002row10_col18,#T_a2de111a_3d83_11eb_84d7_0242ac1c0002row12_col6,#T_a2de111a_3d83_11eb_84d7_0242ac1c0002row13_col18,#T_a2de111a_3d83_11eb_84d7_0242ac1c0002row19_col6{\n",
              "            background-color:  #6a8bef;\n",
              "            color:  #000000;\n",
              "        }#T_a2de111a_3d83_11eb_84d7_0242ac1c0002row0_col18,#T_a2de111a_3d83_11eb_84d7_0242ac1c0002row6_col11,#T_a2de111a_3d83_11eb_84d7_0242ac1c0002row10_col9,#T_a2de111a_3d83_11eb_84d7_0242ac1c0002row13_col3,#T_a2de111a_3d83_11eb_84d7_0242ac1c0002row15_col9,#T_a2de111a_3d83_11eb_84d7_0242ac1c0002row17_col7{\n",
              "            background-color:  #7396f5;\n",
              "            color:  #000000;\n",
              "        }#T_a2de111a_3d83_11eb_84d7_0242ac1c0002row0_col19,#T_a2de111a_3d83_11eb_84d7_0242ac1c0002row2_col11,#T_a2de111a_3d83_11eb_84d7_0242ac1c0002row5_col7,#T_a2de111a_3d83_11eb_84d7_0242ac1c0002row6_col7,#T_a2de111a_3d83_11eb_84d7_0242ac1c0002row8_col10,#T_a2de111a_3d83_11eb_84d7_0242ac1c0002row19_col13{\n",
              "            background-color:  #7da0f9;\n",
              "            color:  #000000;\n",
              "        }#T_a2de111a_3d83_11eb_84d7_0242ac1c0002row0_col20,#T_a2de111a_3d83_11eb_84d7_0242ac1c0002row20_col10{\n",
              "            background-color:  #8badfd;\n",
              "            color:  #000000;\n",
              "        }#T_a2de111a_3d83_11eb_84d7_0242ac1c0002row1_col0{\n",
              "            background-color:  #c7d7f0;\n",
              "            color:  #000000;\n",
              "        }#T_a2de111a_3d83_11eb_84d7_0242ac1c0002row1_col3{\n",
              "            background-color:  #98b9ff;\n",
              "            color:  #000000;\n",
              "        }#T_a2de111a_3d83_11eb_84d7_0242ac1c0002row1_col4,#T_a2de111a_3d83_11eb_84d7_0242ac1c0002row3_col15,#T_a2de111a_3d83_11eb_84d7_0242ac1c0002row6_col2,#T_a2de111a_3d83_11eb_84d7_0242ac1c0002row7_col6,#T_a2de111a_3d83_11eb_84d7_0242ac1c0002row8_col20,#T_a2de111a_3d83_11eb_84d7_0242ac1c0002row16_col11{\n",
              "            background-color:  #6687ed;\n",
              "            color:  #000000;\n",
              "        }#T_a2de111a_3d83_11eb_84d7_0242ac1c0002row1_col5,#T_a2de111a_3d83_11eb_84d7_0242ac1c0002row1_col11,#T_a2de111a_3d83_11eb_84d7_0242ac1c0002row6_col16,#T_a2de111a_3d83_11eb_84d7_0242ac1c0002row9_col10,#T_a2de111a_3d83_11eb_84d7_0242ac1c0002row10_col15,#T_a2de111a_3d83_11eb_84d7_0242ac1c0002row14_col19,#T_a2de111a_3d83_11eb_84d7_0242ac1c0002row17_col9{\n",
              "            background-color:  #516ddb;\n",
              "            color:  #000000;\n",
              "        }#T_a2de111a_3d83_11eb_84d7_0242ac1c0002row1_col6,#T_a2de111a_3d83_11eb_84d7_0242ac1c0002row2_col19{\n",
              "            background-color:  #a2c1ff;\n",
              "            color:  #000000;\n",
              "        }#T_a2de111a_3d83_11eb_84d7_0242ac1c0002row1_col7,#T_a2de111a_3d83_11eb_84d7_0242ac1c0002row3_col7,#T_a2de111a_3d83_11eb_84d7_0242ac1c0002row8_col1,#T_a2de111a_3d83_11eb_84d7_0242ac1c0002row12_col7,#T_a2de111a_3d83_11eb_84d7_0242ac1c0002row15_col5{\n",
              "            background-color:  #7ea1fa;\n",
              "            color:  #000000;\n",
              "        }#T_a2de111a_3d83_11eb_84d7_0242ac1c0002row1_col8,#T_a2de111a_3d83_11eb_84d7_0242ac1c0002row3_col20,#T_a2de111a_3d83_11eb_84d7_0242ac1c0002row4_col17,#T_a2de111a_3d83_11eb_84d7_0242ac1c0002row6_col17,#T_a2de111a_3d83_11eb_84d7_0242ac1c0002row7_col12,#T_a2de111a_3d83_11eb_84d7_0242ac1c0002row10_col13,#T_a2de111a_3d83_11eb_84d7_0242ac1c0002row12_col1,#T_a2de111a_3d83_11eb_84d7_0242ac1c0002row13_col12{\n",
              "            background-color:  #5b7ae5;\n",
              "            color:  #000000;\n",
              "        }#T_a2de111a_3d83_11eb_84d7_0242ac1c0002row1_col12,#T_a2de111a_3d83_11eb_84d7_0242ac1c0002row1_col20,#T_a2de111a_3d83_11eb_84d7_0242ac1c0002row4_col0,#T_a2de111a_3d83_11eb_84d7_0242ac1c0002row4_col6,#T_a2de111a_3d83_11eb_84d7_0242ac1c0002row4_col10,#T_a2de111a_3d83_11eb_84d7_0242ac1c0002row10_col17,#T_a2de111a_3d83_11eb_84d7_0242ac1c0002row19_col8,#T_a2de111a_3d83_11eb_84d7_0242ac1c0002row20_col11{\n",
              "            background-color:  #5470de;\n",
              "            color:  #000000;\n",
              "        }#T_a2de111a_3d83_11eb_84d7_0242ac1c0002row1_col13,#T_a2de111a_3d83_11eb_84d7_0242ac1c0002row2_col16,#T_a2de111a_3d83_11eb_84d7_0242ac1c0002row5_col3{\n",
              "            background-color:  #6f92f3;\n",
              "            color:  #000000;\n",
              "        }#T_a2de111a_3d83_11eb_84d7_0242ac1c0002row1_col15,#T_a2de111a_3d83_11eb_84d7_0242ac1c0002row7_col0,#T_a2de111a_3d83_11eb_84d7_0242ac1c0002row7_col15,#T_a2de111a_3d83_11eb_84d7_0242ac1c0002row9_col7,#T_a2de111a_3d83_11eb_84d7_0242ac1c0002row15_col16{\n",
              "            background-color:  #6485ec;\n",
              "            color:  #000000;\n",
              "        }#T_a2de111a_3d83_11eb_84d7_0242ac1c0002row1_col16,#T_a2de111a_3d83_11eb_84d7_0242ac1c0002row5_col1,#T_a2de111a_3d83_11eb_84d7_0242ac1c0002row11_col12,#T_a2de111a_3d83_11eb_84d7_0242ac1c0002row12_col8,#T_a2de111a_3d83_11eb_84d7_0242ac1c0002row13_col16,#T_a2de111a_3d83_11eb_84d7_0242ac1c0002row15_col19,#T_a2de111a_3d83_11eb_84d7_0242ac1c0002row17_col15,#T_a2de111a_3d83_11eb_84d7_0242ac1c0002row20_col9{\n",
              "            background-color:  #7597f6;\n",
              "            color:  #000000;\n",
              "        }#T_a2de111a_3d83_11eb_84d7_0242ac1c0002row1_col18,#T_a2de111a_3d83_11eb_84d7_0242ac1c0002row4_col13,#T_a2de111a_3d83_11eb_84d7_0242ac1c0002row6_col15,#T_a2de111a_3d83_11eb_84d7_0242ac1c0002row9_col20,#T_a2de111a_3d83_11eb_84d7_0242ac1c0002row10_col3,#T_a2de111a_3d83_11eb_84d7_0242ac1c0002row10_col14,#T_a2de111a_3d83_11eb_84d7_0242ac1c0002row11_col3,#T_a2de111a_3d83_11eb_84d7_0242ac1c0002row14_col6,#T_a2de111a_3d83_11eb_84d7_0242ac1c0002row15_col4,#T_a2de111a_3d83_11eb_84d7_0242ac1c0002row15_col11,#T_a2de111a_3d83_11eb_84d7_0242ac1c0002row16_col15,#T_a2de111a_3d83_11eb_84d7_0242ac1c0002row17_col13,#T_a2de111a_3d83_11eb_84d7_0242ac1c0002row18_col5,#T_a2de111a_3d83_11eb_84d7_0242ac1c0002row20_col7{\n",
              "            background-color:  #5977e3;\n",
              "            color:  #000000;\n",
              "        }#T_a2de111a_3d83_11eb_84d7_0242ac1c0002row2_col3,#T_a2de111a_3d83_11eb_84d7_0242ac1c0002row4_col7,#T_a2de111a_3d83_11eb_84d7_0242ac1c0002row4_col15,#T_a2de111a_3d83_11eb_84d7_0242ac1c0002row6_col8,#T_a2de111a_3d83_11eb_84d7_0242ac1c0002row10_col2,#T_a2de111a_3d83_11eb_84d7_0242ac1c0002row13_col6,#T_a2de111a_3d83_11eb_84d7_0242ac1c0002row16_col9,#T_a2de111a_3d83_11eb_84d7_0242ac1c0002row16_col19{\n",
              "            background-color:  #5e7de7;\n",
              "            color:  #000000;\n",
              "        }#T_a2de111a_3d83_11eb_84d7_0242ac1c0002row2_col4{\n",
              "            background-color:  #9ebeff;\n",
              "            color:  #000000;\n",
              "        }#T_a2de111a_3d83_11eb_84d7_0242ac1c0002row2_col5{\n",
              "            background-color:  #f7b093;\n",
              "            color:  #000000;\n",
              "        }#T_a2de111a_3d83_11eb_84d7_0242ac1c0002row2_col6,#T_a2de111a_3d83_11eb_84d7_0242ac1c0002row3_col13{\n",
              "            background-color:  #81a4fb;\n",
              "            color:  #000000;\n",
              "        }#T_a2de111a_3d83_11eb_84d7_0242ac1c0002row2_col7,#T_a2de111a_3d83_11eb_84d7_0242ac1c0002row8_col19,#T_a2de111a_3d83_11eb_84d7_0242ac1c0002row19_col2{\n",
              "            background-color:  #84a7fc;\n",
              "            color:  #000000;\n",
              "        }#T_a2de111a_3d83_11eb_84d7_0242ac1c0002row2_col8,#T_a2de111a_3d83_11eb_84d7_0242ac1c0002row5_col13,#T_a2de111a_3d83_11eb_84d7_0242ac1c0002row14_col3{\n",
              "            background-color:  #89acfd;\n",
              "            color:  #000000;\n",
              "        }#T_a2de111a_3d83_11eb_84d7_0242ac1c0002row2_col9,#T_a2de111a_3d83_11eb_84d7_0242ac1c0002row5_col20,#T_a2de111a_3d83_11eb_84d7_0242ac1c0002row18_col15,#T_a2de111a_3d83_11eb_84d7_0242ac1c0002row20_col0{\n",
              "            background-color:  #779af7;\n",
              "            color:  #000000;\n",
              "        }#T_a2de111a_3d83_11eb_84d7_0242ac1c0002row2_col10,#T_a2de111a_3d83_11eb_84d7_0242ac1c0002row2_col18,#T_a2de111a_3d83_11eb_84d7_0242ac1c0002row5_col14,#T_a2de111a_3d83_11eb_84d7_0242ac1c0002row7_col3,#T_a2de111a_3d83_11eb_84d7_0242ac1c0002row8_col0,#T_a2de111a_3d83_11eb_84d7_0242ac1c0002row8_col18,#T_a2de111a_3d83_11eb_84d7_0242ac1c0002row10_col0,#T_a2de111a_3d83_11eb_84d7_0242ac1c0002row14_col1,#T_a2de111a_3d83_11eb_84d7_0242ac1c0002row16_col18,#T_a2de111a_3d83_11eb_84d7_0242ac1c0002row19_col11{\n",
              "            background-color:  #6c8ff1;\n",
              "            color:  #000000;\n",
              "        }#T_a2de111a_3d83_11eb_84d7_0242ac1c0002row2_col12,#T_a2de111a_3d83_11eb_84d7_0242ac1c0002row19_col17{\n",
              "            background-color:  #c9d7f0;\n",
              "            color:  #000000;\n",
              "        }#T_a2de111a_3d83_11eb_84d7_0242ac1c0002row2_col13,#T_a2de111a_3d83_11eb_84d7_0242ac1c0002row4_col8,#T_a2de111a_3d83_11eb_84d7_0242ac1c0002row7_col8,#T_a2de111a_3d83_11eb_84d7_0242ac1c0002row7_col16,#T_a2de111a_3d83_11eb_84d7_0242ac1c0002row9_col18,#T_a2de111a_3d83_11eb_84d7_0242ac1c0002row12_col18,#T_a2de111a_3d83_11eb_84d7_0242ac1c0002row15_col3{\n",
              "            background-color:  #688aef;\n",
              "            color:  #000000;\n",
              "        }#T_a2de111a_3d83_11eb_84d7_0242ac1c0002row2_col14,#T_a2de111a_3d83_11eb_84d7_0242ac1c0002row4_col1,#T_a2de111a_3d83_11eb_84d7_0242ac1c0002row7_col1,#T_a2de111a_3d83_11eb_84d7_0242ac1c0002row10_col7,#T_a2de111a_3d83_11eb_84d7_0242ac1c0002row11_col6,#T_a2de111a_3d83_11eb_84d7_0242ac1c0002row11_col16,#T_a2de111a_3d83_11eb_84d7_0242ac1c0002row12_col9,#T_a2de111a_3d83_11eb_84d7_0242ac1c0002row12_col16,#T_a2de111a_3d83_11eb_84d7_0242ac1c0002row19_col7,#T_a2de111a_3d83_11eb_84d7_0242ac1c0002row20_col6,#T_a2de111a_3d83_11eb_84d7_0242ac1c0002row20_col14{\n",
              "            background-color:  #6282ea;\n",
              "            color:  #000000;\n",
              "        }#T_a2de111a_3d83_11eb_84d7_0242ac1c0002row2_col15{\n",
              "            background-color:  #9fbfff;\n",
              "            color:  #000000;\n",
              "        }#T_a2de111a_3d83_11eb_84d7_0242ac1c0002row2_col17{\n",
              "            background-color:  #afcafc;\n",
              "            color:  #000000;\n",
              "        }#T_a2de111a_3d83_11eb_84d7_0242ac1c0002row2_col20,#T_a2de111a_3d83_11eb_84d7_0242ac1c0002row14_col10,#T_a2de111a_3d83_11eb_84d7_0242ac1c0002row18_col2{\n",
              "            background-color:  #4e68d8;\n",
              "            color:  #000000;\n",
              "        }#T_a2de111a_3d83_11eb_84d7_0242ac1c0002row3_col0,#T_a2de111a_3d83_11eb_84d7_0242ac1c0002row8_col17,#T_a2de111a_3d83_11eb_84d7_0242ac1c0002row13_col11{\n",
              "            background-color:  #9bbcff;\n",
              "            color:  #000000;\n",
              "        }#T_a2de111a_3d83_11eb_84d7_0242ac1c0002row3_col1,#T_a2de111a_3d83_11eb_84d7_0242ac1c0002row8_col13{\n",
              "            background-color:  #90b2fe;\n",
              "            color:  #000000;\n",
              "        }#T_a2de111a_3d83_11eb_84d7_0242ac1c0002row3_col2,#T_a2de111a_3d83_11eb_84d7_0242ac1c0002row7_col5,#T_a2de111a_3d83_11eb_84d7_0242ac1c0002row7_col10,#T_a2de111a_3d83_11eb_84d7_0242ac1c0002row7_col14,#T_a2de111a_3d83_11eb_84d7_0242ac1c0002row9_col17,#T_a2de111a_3d83_11eb_84d7_0242ac1c0002row11_col9,#T_a2de111a_3d83_11eb_84d7_0242ac1c0002row15_col20,#T_a2de111a_3d83_11eb_84d7_0242ac1c0002row18_col14{\n",
              "            background-color:  #3e51c5;\n",
              "            color:  #f1f1f1;\n",
              "        }#T_a2de111a_3d83_11eb_84d7_0242ac1c0002row3_col5,#T_a2de111a_3d83_11eb_84d7_0242ac1c0002row14_col18,#T_a2de111a_3d83_11eb_84d7_0242ac1c0002row15_col10,#T_a2de111a_3d83_11eb_84d7_0242ac1c0002row16_col10,#T_a2de111a_3d83_11eb_84d7_0242ac1c0002row16_col17{\n",
              "            background-color:  #4358cb;\n",
              "            color:  #f1f1f1;\n",
              "        }#T_a2de111a_3d83_11eb_84d7_0242ac1c0002row3_col8,#T_a2de111a_3d83_11eb_84d7_0242ac1c0002row3_col9,#T_a2de111a_3d83_11eb_84d7_0242ac1c0002row7_col17,#T_a2de111a_3d83_11eb_84d7_0242ac1c0002row9_col15,#T_a2de111a_3d83_11eb_84d7_0242ac1c0002row10_col8,#T_a2de111a_3d83_11eb_84d7_0242ac1c0002row13_col0,#T_a2de111a_3d83_11eb_84d7_0242ac1c0002row16_col1,#T_a2de111a_3d83_11eb_84d7_0242ac1c0002row17_col1,#T_a2de111a_3d83_11eb_84d7_0242ac1c0002row18_col11{\n",
              "            background-color:  #6180e9;\n",
              "            color:  #000000;\n",
              "        }#T_a2de111a_3d83_11eb_84d7_0242ac1c0002row3_col10,#T_a2de111a_3d83_11eb_84d7_0242ac1c0002row9_col6,#T_a2de111a_3d83_11eb_84d7_0242ac1c0002row10_col6,#T_a2de111a_3d83_11eb_84d7_0242ac1c0002row14_col16,#T_a2de111a_3d83_11eb_84d7_0242ac1c0002row16_col12,#T_a2de111a_3d83_11eb_84d7_0242ac1c0002row19_col14,#T_a2de111a_3d83_11eb_84d7_0242ac1c0002row20_col15{\n",
              "            background-color:  #485fd1;\n",
              "            color:  #f1f1f1;\n",
              "        }#T_a2de111a_3d83_11eb_84d7_0242ac1c0002row3_col11,#T_a2de111a_3d83_11eb_84d7_0242ac1c0002row9_col8,#T_a2de111a_3d83_11eb_84d7_0242ac1c0002row12_col4,#T_a2de111a_3d83_11eb_84d7_0242ac1c0002row19_col4,#T_a2de111a_3d83_11eb_84d7_0242ac1c0002row20_col3{\n",
              "            background-color:  #6788ee;\n",
              "            color:  #000000;\n",
              "        }#T_a2de111a_3d83_11eb_84d7_0242ac1c0002row3_col12,#T_a2de111a_3d83_11eb_84d7_0242ac1c0002row9_col13,#T_a2de111a_3d83_11eb_84d7_0242ac1c0002row14_col5,#T_a2de111a_3d83_11eb_84d7_0242ac1c0002row16_col6,#T_a2de111a_3d83_11eb_84d7_0242ac1c0002row16_col20,#T_a2de111a_3d83_11eb_84d7_0242ac1c0002row17_col10{\n",
              "            background-color:  #445acc;\n",
              "            color:  #f1f1f1;\n",
              "        }#T_a2de111a_3d83_11eb_84d7_0242ac1c0002row3_col14,#T_a2de111a_3d83_11eb_84d7_0242ac1c0002row5_col16,#T_a2de111a_3d83_11eb_84d7_0242ac1c0002row5_col18,#T_a2de111a_3d83_11eb_84d7_0242ac1c0002row8_col16,#T_a2de111a_3d83_11eb_84d7_0242ac1c0002row15_col2{\n",
              "            background-color:  #85a8fc;\n",
              "            color:  #000000;\n",
              "        }#T_a2de111a_3d83_11eb_84d7_0242ac1c0002row3_col16{\n",
              "            background-color:  #d8dce2;\n",
              "            color:  #000000;\n",
              "        }#T_a2de111a_3d83_11eb_84d7_0242ac1c0002row3_col17,#T_a2de111a_3d83_11eb_84d7_0242ac1c0002row3_col18,#T_a2de111a_3d83_11eb_84d7_0242ac1c0002row5_col0,#T_a2de111a_3d83_11eb_84d7_0242ac1c0002row13_col1,#T_a2de111a_3d83_11eb_84d7_0242ac1c0002row13_col8,#T_a2de111a_3d83_11eb_84d7_0242ac1c0002row14_col7,#T_a2de111a_3d83_11eb_84d7_0242ac1c0002row17_col4,#T_a2de111a_3d83_11eb_84d7_0242ac1c0002row17_col14,#T_a2de111a_3d83_11eb_84d7_0242ac1c0002row20_col5{\n",
              "            background-color:  #5673e0;\n",
              "            color:  #000000;\n",
              "        }#T_a2de111a_3d83_11eb_84d7_0242ac1c0002row3_col19,#T_a2de111a_3d83_11eb_84d7_0242ac1c0002row6_col3,#T_a2de111a_3d83_11eb_84d7_0242ac1c0002row7_col9,#T_a2de111a_3d83_11eb_84d7_0242ac1c0002row11_col19,#T_a2de111a_3d83_11eb_84d7_0242ac1c0002row19_col1,#T_a2de111a_3d83_11eb_84d7_0242ac1c0002row19_col16,#T_a2de111a_3d83_11eb_84d7_0242ac1c0002row20_col13{\n",
              "            background-color:  #6384eb;\n",
              "            color:  #000000;\n",
              "        }#T_a2de111a_3d83_11eb_84d7_0242ac1c0002row4_col2,#T_a2de111a_3d83_11eb_84d7_0242ac1c0002row8_col6{\n",
              "            background-color:  #86a9fc;\n",
              "            color:  #000000;\n",
              "        }#T_a2de111a_3d83_11eb_84d7_0242ac1c0002row4_col3,#T_a2de111a_3d83_11eb_84d7_0242ac1c0002row9_col12,#T_a2de111a_3d83_11eb_84d7_0242ac1c0002row12_col20,#T_a2de111a_3d83_11eb_84d7_0242ac1c0002row18_col8{\n",
              "            background-color:  #4055c8;\n",
              "            color:  #f1f1f1;\n",
              "        }#T_a2de111a_3d83_11eb_84d7_0242ac1c0002row4_col9,#T_a2de111a_3d83_11eb_84d7_0242ac1c0002row6_col20,#T_a2de111a_3d83_11eb_84d7_0242ac1c0002row14_col8,#T_a2de111a_3d83_11eb_84d7_0242ac1c0002row14_col17,#T_a2de111a_3d83_11eb_84d7_0242ac1c0002row14_col20,#T_a2de111a_3d83_11eb_84d7_0242ac1c0002row15_col0,#T_a2de111a_3d83_11eb_84d7_0242ac1c0002row16_col4,#T_a2de111a_3d83_11eb_84d7_0242ac1c0002row18_col10,#T_a2de111a_3d83_11eb_84d7_0242ac1c0002row19_col0,#T_a2de111a_3d83_11eb_84d7_0242ac1c0002row20_col16{\n",
              "            background-color:  #5a78e4;\n",
              "            color:  #000000;\n",
              "        }#T_a2de111a_3d83_11eb_84d7_0242ac1c0002row4_col11,#T_a2de111a_3d83_11eb_84d7_0242ac1c0002row9_col1,#T_a2de111a_3d83_11eb_84d7_0242ac1c0002row9_col3,#T_a2de111a_3d83_11eb_84d7_0242ac1c0002row10_col19,#T_a2de111a_3d83_11eb_84d7_0242ac1c0002row11_col5,#T_a2de111a_3d83_11eb_84d7_0242ac1c0002row13_col5,#T_a2de111a_3d83_11eb_84d7_0242ac1c0002row14_col13{\n",
              "            background-color:  #4f69d9;\n",
              "            color:  #000000;\n",
              "        }#T_a2de111a_3d83_11eb_84d7_0242ac1c0002row4_col12,#T_a2de111a_3d83_11eb_84d7_0242ac1c0002row6_col9,#T_a2de111a_3d83_11eb_84d7_0242ac1c0002row6_col12,#T_a2de111a_3d83_11eb_84d7_0242ac1c0002row9_col0,#T_a2de111a_3d83_11eb_84d7_0242ac1c0002row10_col5,#T_a2de111a_3d83_11eb_84d7_0242ac1c0002row10_col11,#T_a2de111a_3d83_11eb_84d7_0242ac1c0002row10_col16,#T_a2de111a_3d83_11eb_84d7_0242ac1c0002row15_col1,#T_a2de111a_3d83_11eb_84d7_0242ac1c0002row18_col6{\n",
              "            background-color:  #5d7ce6;\n",
              "            color:  #000000;\n",
              "        }#T_a2de111a_3d83_11eb_84d7_0242ac1c0002row4_col14,#T_a2de111a_3d83_11eb_84d7_0242ac1c0002row9_col5,#T_a2de111a_3d83_11eb_84d7_0242ac1c0002row12_col0,#T_a2de111a_3d83_11eb_84d7_0242ac1c0002row14_col15{\n",
              "            background-color:  #3d50c3;\n",
              "            color:  #f1f1f1;\n",
              "        }#T_a2de111a_3d83_11eb_84d7_0242ac1c0002row4_col18,#T_a2de111a_3d83_11eb_84d7_0242ac1c0002row11_col2,#T_a2de111a_3d83_11eb_84d7_0242ac1c0002row14_col9,#T_a2de111a_3d83_11eb_84d7_0242ac1c0002row16_col5,#T_a2de111a_3d83_11eb_84d7_0242ac1c0002row16_col8,#T_a2de111a_3d83_11eb_84d7_0242ac1c0002row18_col1,#T_a2de111a_3d83_11eb_84d7_0242ac1c0002row18_col19{\n",
              "            background-color:  #506bda;\n",
              "            color:  #000000;\n",
              "        }#T_a2de111a_3d83_11eb_84d7_0242ac1c0002row5_col2{\n",
              "            background-color:  #f7aa8c;\n",
              "            color:  #000000;\n",
              "        }#T_a2de111a_3d83_11eb_84d7_0242ac1c0002row5_col6,#T_a2de111a_3d83_11eb_84d7_0242ac1c0002row7_col11,#T_a2de111a_3d83_11eb_84d7_0242ac1c0002row12_col11{\n",
              "            background-color:  #92b4fe;\n",
              "            color:  #000000;\n",
              "        }#T_a2de111a_3d83_11eb_84d7_0242ac1c0002row5_col9{\n",
              "            background-color:  #7b9ff9;\n",
              "            color:  #000000;\n",
              "        }#T_a2de111a_3d83_11eb_84d7_0242ac1c0002row5_col11{\n",
              "            background-color:  #88abfd;\n",
              "            color:  #000000;\n",
              "        }#T_a2de111a_3d83_11eb_84d7_0242ac1c0002row5_col12{\n",
              "            background-color:  #d2dbe8;\n",
              "            color:  #000000;\n",
              "        }#T_a2de111a_3d83_11eb_84d7_0242ac1c0002row5_col15{\n",
              "            background-color:  #a5c3fe;\n",
              "            color:  #000000;\n",
              "        }#T_a2de111a_3d83_11eb_84d7_0242ac1c0002row5_col17{\n",
              "            background-color:  #ccd9ed;\n",
              "            color:  #000000;\n",
              "        }#T_a2de111a_3d83_11eb_84d7_0242ac1c0002row5_col19,#T_a2de111a_3d83_11eb_84d7_0242ac1c0002row12_col15{\n",
              "            background-color:  #cad8ef;\n",
              "            color:  #000000;\n",
              "        }#T_a2de111a_3d83_11eb_84d7_0242ac1c0002row6_col0,#T_a2de111a_3d83_11eb_84d7_0242ac1c0002row8_col12,#T_a2de111a_3d83_11eb_84d7_0242ac1c0002row10_col20{\n",
              "            background-color:  #8fb1fe;\n",
              "            color:  #000000;\n",
              "        }#T_a2de111a_3d83_11eb_84d7_0242ac1c0002row6_col1,#T_a2de111a_3d83_11eb_84d7_0242ac1c0002row11_col13{\n",
              "            background-color:  #9dbdff;\n",
              "            color:  #000000;\n",
              "        }#T_a2de111a_3d83_11eb_84d7_0242ac1c0002row6_col4,#T_a2de111a_3d83_11eb_84d7_0242ac1c0002row7_col2,#T_a2de111a_3d83_11eb_84d7_0242ac1c0002row7_col19,#T_a2de111a_3d83_11eb_84d7_0242ac1c0002row11_col18{\n",
              "            background-color:  #536edd;\n",
              "            color:  #000000;\n",
              "        }#T_a2de111a_3d83_11eb_84d7_0242ac1c0002row6_col5,#T_a2de111a_3d83_11eb_84d7_0242ac1c0002row18_col20{\n",
              "            background-color:  #6b8df0;\n",
              "            color:  #000000;\n",
              "        }#T_a2de111a_3d83_11eb_84d7_0242ac1c0002row6_col13{\n",
              "            background-color:  #7093f3;\n",
              "            color:  #000000;\n",
              "        }#T_a2de111a_3d83_11eb_84d7_0242ac1c0002row6_col14,#T_a2de111a_3d83_11eb_84d7_0242ac1c0002row15_col6,#T_a2de111a_3d83_11eb_84d7_0242ac1c0002row16_col0,#T_a2de111a_3d83_11eb_84d7_0242ac1c0002row17_col3,#T_a2de111a_3d83_11eb_84d7_0242ac1c0002row17_col6,#T_a2de111a_3d83_11eb_84d7_0242ac1c0002row17_col11,#T_a2de111a_3d83_11eb_84d7_0242ac1c0002row18_col3,#T_a2de111a_3d83_11eb_84d7_0242ac1c0002row18_col12,#T_a2de111a_3d83_11eb_84d7_0242ac1c0002row19_col9{\n",
              "            background-color:  #5875e1;\n",
              "            color:  #000000;\n",
              "        }#T_a2de111a_3d83_11eb_84d7_0242ac1c0002row7_col4,#T_a2de111a_3d83_11eb_84d7_0242ac1c0002row11_col0,#T_a2de111a_3d83_11eb_84d7_0242ac1c0002row13_col4,#T_a2de111a_3d83_11eb_84d7_0242ac1c0002row20_col8,#T_a2de111a_3d83_11eb_84d7_0242ac1c0002row20_col17{\n",
              "            background-color:  #455cce;\n",
              "            color:  #f1f1f1;\n",
              "        }#T_a2de111a_3d83_11eb_84d7_0242ac1c0002row7_col13,#T_a2de111a_3d83_11eb_84d7_0242ac1c0002row11_col7{\n",
              "            background-color:  #96b7ff;\n",
              "            color:  #000000;\n",
              "        }#T_a2de111a_3d83_11eb_84d7_0242ac1c0002row8_col7{\n",
              "            background-color:  #a3c2fe;\n",
              "            color:  #000000;\n",
              "        }#T_a2de111a_3d83_11eb_84d7_0242ac1c0002row8_col9,#T_a2de111a_3d83_11eb_84d7_0242ac1c0002row12_col19{\n",
              "            background-color:  #a1c0ff;\n",
              "            color:  #000000;\n",
              "        }#T_a2de111a_3d83_11eb_84d7_0242ac1c0002row8_col14{\n",
              "            background-color:  #82a6fb;\n",
              "            color:  #000000;\n",
              "        }#T_a2de111a_3d83_11eb_84d7_0242ac1c0002row8_col15,#T_a2de111a_3d83_11eb_84d7_0242ac1c0002row13_col7{\n",
              "            background-color:  #9abbff;\n",
              "            color:  #000000;\n",
              "        }#T_a2de111a_3d83_11eb_84d7_0242ac1c0002row9_col2,#T_a2de111a_3d83_11eb_84d7_0242ac1c0002row12_col14,#T_a2de111a_3d83_11eb_84d7_0242ac1c0002row13_col9,#T_a2de111a_3d83_11eb_84d7_0242ac1c0002row14_col2,#T_a2de111a_3d83_11eb_84d7_0242ac1c0002row16_col2{\n",
              "            background-color:  #465ecf;\n",
              "            color:  #f1f1f1;\n",
              "        }#T_a2de111a_3d83_11eb_84d7_0242ac1c0002row9_col4,#T_a2de111a_3d83_11eb_84d7_0242ac1c0002row10_col1{\n",
              "            background-color:  #4257c9;\n",
              "            color:  #f1f1f1;\n",
              "        }#T_a2de111a_3d83_11eb_84d7_0242ac1c0002row9_col16,#T_a2de111a_3d83_11eb_84d7_0242ac1c0002row11_col8,#T_a2de111a_3d83_11eb_84d7_0242ac1c0002row12_col3,#T_a2de111a_3d83_11eb_84d7_0242ac1c0002row18_col0,#T_a2de111a_3d83_11eb_84d7_0242ac1c0002row20_col1{\n",
              "            background-color:  #5572df;\n",
              "            color:  #000000;\n",
              "        }#T_a2de111a_3d83_11eb_84d7_0242ac1c0002row9_col19,#T_a2de111a_3d83_11eb_84d7_0242ac1c0002row11_col17,#T_a2de111a_3d83_11eb_84d7_0242ac1c0002row13_col17,#T_a2de111a_3d83_11eb_84d7_0242ac1c0002row20_col19{\n",
              "            background-color:  #4a63d3;\n",
              "            color:  #f1f1f1;\n",
              "        }#T_a2de111a_3d83_11eb_84d7_0242ac1c0002row11_col10,#T_a2de111a_3d83_11eb_84d7_0242ac1c0002row20_col4{\n",
              "            background-color:  #3f53c6;\n",
              "            color:  #f1f1f1;\n",
              "        }#T_a2de111a_3d83_11eb_84d7_0242ac1c0002row12_col2{\n",
              "            background-color:  #bfd3f6;\n",
              "            color:  #000000;\n",
              "        }#T_a2de111a_3d83_11eb_84d7_0242ac1c0002row12_col5{\n",
              "            background-color:  #c1d4f4;\n",
              "            color:  #000000;\n",
              "        }#T_a2de111a_3d83_11eb_84d7_0242ac1c0002row12_col17{\n",
              "            background-color:  #b7cff9;\n",
              "            color:  #000000;\n",
              "        }#T_a2de111a_3d83_11eb_84d7_0242ac1c0002row13_col10,#T_a2de111a_3d83_11eb_84d7_0242ac1c0002row13_col14,#T_a2de111a_3d83_11eb_84d7_0242ac1c0002row14_col4{\n",
              "            background-color:  #3c4ec2;\n",
              "            color:  #f1f1f1;\n",
              "        }#T_a2de111a_3d83_11eb_84d7_0242ac1c0002row13_col15{\n",
              "            background-color:  #a9c6fd;\n",
              "            color:  #000000;\n",
              "        }#T_a2de111a_3d83_11eb_84d7_0242ac1c0002row15_col12{\n",
              "            background-color:  #c0d4f5;\n",
              "            color:  #000000;\n",
              "        }#T_a2de111a_3d83_11eb_84d7_0242ac1c0002row15_col17,#T_a2de111a_3d83_11eb_84d7_0242ac1c0002row18_col16,#T_a2de111a_3d83_11eb_84d7_0242ac1c0002row20_col18{\n",
              "            background-color:  #7699f6;\n",
              "            color:  #000000;\n",
              "        }#T_a2de111a_3d83_11eb_84d7_0242ac1c0002row17_col0,#T_a2de111a_3d83_11eb_84d7_0242ac1c0002row18_col4,#T_a2de111a_3d83_11eb_84d7_0242ac1c0002row19_col18{\n",
              "            background-color:  #4b64d5;\n",
              "            color:  #f1f1f1;\n",
              "        }#T_a2de111a_3d83_11eb_84d7_0242ac1c0002row17_col2{\n",
              "            background-color:  #97b8ff;\n",
              "            color:  #000000;\n",
              "        }#T_a2de111a_3d83_11eb_84d7_0242ac1c0002row17_col5{\n",
              "            background-color:  #aec9fc;\n",
              "            color:  #000000;\n",
              "        }#T_a2de111a_3d83_11eb_84d7_0242ac1c0002row17_col12{\n",
              "            background-color:  #abc8fd;\n",
              "            color:  #000000;\n",
              "        }#T_a2de111a_3d83_11eb_84d7_0242ac1c0002row17_col19{\n",
              "            background-color:  #cbd8ee;\n",
              "            color:  #000000;\n",
              "        }#T_a2de111a_3d83_11eb_84d7_0242ac1c0002row19_col5{\n",
              "            background-color:  #a7c5fe;\n",
              "            color:  #000000;\n",
              "        }</style><table id=\"T_a2de111a_3d83_11eb_84d7_0242ac1c0002\" ><thead>    <tr>        <th class=\"blank level0\" ></th>        <th class=\"col_heading level0 col0\" >Creditability</th>        <th class=\"col_heading level0 col1\" >Account Balance</th>        <th class=\"col_heading level0 col2\" >Duration of Credit (month)</th>        <th class=\"col_heading level0 col3\" >Payment Status of Previous Credit</th>        <th class=\"col_heading level0 col4\" >Purpose</th>        <th class=\"col_heading level0 col5\" >Credit Amount</th>        <th class=\"col_heading level0 col6\" >Value Savings/Stocks</th>        <th class=\"col_heading level0 col7\" >Length of current employment</th>        <th class=\"col_heading level0 col8\" >Instalment per cent</th>        <th class=\"col_heading level0 col9\" >Sex & Marital Status</th>        <th class=\"col_heading level0 col10\" >Guarantors</th>        <th class=\"col_heading level0 col11\" >Duration in Current address</th>        <th class=\"col_heading level0 col12\" >Most valuable available asset</th>        <th class=\"col_heading level0 col13\" >Age (years)</th>        <th class=\"col_heading level0 col14\" >Concurrent Credits</th>        <th class=\"col_heading level0 col15\" >Type of apartment</th>        <th class=\"col_heading level0 col16\" >No of Credits at this Bank</th>        <th class=\"col_heading level0 col17\" >Occupation</th>        <th class=\"col_heading level0 col18\" >No of dependents</th>        <th class=\"col_heading level0 col19\" >Telephone</th>        <th class=\"col_heading level0 col20\" >Foreign Worker</th>    </tr></thead><tbody>\n",
              "                <tr>\n",
              "                        <th id=\"T_a2de111a_3d83_11eb_84d7_0242ac1c0002level0_row0\" class=\"row_heading level0 row0\" >Creditability</th>\n",
              "                        <td id=\"T_a2de111a_3d83_11eb_84d7_0242ac1c0002row0_col0\" class=\"data row0 col0\" >1.0</td>\n",
              "                        <td id=\"T_a2de111a_3d83_11eb_84d7_0242ac1c0002row0_col1\" class=\"data row0 col1\" >0.3508</td>\n",
              "                        <td id=\"T_a2de111a_3d83_11eb_84d7_0242ac1c0002row0_col2\" class=\"data row0 col2\" >-0.2149</td>\n",
              "                        <td id=\"T_a2de111a_3d83_11eb_84d7_0242ac1c0002row0_col3\" class=\"data row0 col3\" >0.2288</td>\n",
              "                        <td id=\"T_a2de111a_3d83_11eb_84d7_0242ac1c0002row0_col4\" class=\"data row0 col4\" >-0.01798</td>\n",
              "                        <td id=\"T_a2de111a_3d83_11eb_84d7_0242ac1c0002row0_col5\" class=\"data row0 col5\" >-0.1547</td>\n",
              "                        <td id=\"T_a2de111a_3d83_11eb_84d7_0242ac1c0002row0_col6\" class=\"data row0 col6\" >0.1789</td>\n",
              "                        <td id=\"T_a2de111a_3d83_11eb_84d7_0242ac1c0002row0_col7\" class=\"data row0 col7\" >0.116</td>\n",
              "                        <td id=\"T_a2de111a_3d83_11eb_84d7_0242ac1c0002row0_col8\" class=\"data row0 col8\" >-0.0724</td>\n",
              "                        <td id=\"T_a2de111a_3d83_11eb_84d7_0242ac1c0002row0_col9\" class=\"data row0 col9\" >0.08818</td>\n",
              "                        <td id=\"T_a2de111a_3d83_11eb_84d7_0242ac1c0002row0_col10\" class=\"data row0 col10\" >0.02514</td>\n",
              "                        <td id=\"T_a2de111a_3d83_11eb_84d7_0242ac1c0002row0_col11\" class=\"data row0 col11\" >-0.002967</td>\n",
              "                        <td id=\"T_a2de111a_3d83_11eb_84d7_0242ac1c0002row0_col12\" class=\"data row0 col12\" >-0.1426</td>\n",
              "                        <td id=\"T_a2de111a_3d83_11eb_84d7_0242ac1c0002row0_col13\" class=\"data row0 col13\" >0.09127</td>\n",
              "                        <td id=\"T_a2de111a_3d83_11eb_84d7_0242ac1c0002row0_col14\" class=\"data row0 col14\" >0.1098</td>\n",
              "                        <td id=\"T_a2de111a_3d83_11eb_84d7_0242ac1c0002row0_col15\" class=\"data row0 col15\" >0.01812</td>\n",
              "                        <td id=\"T_a2de111a_3d83_11eb_84d7_0242ac1c0002row0_col16\" class=\"data row0 col16\" >0.04573</td>\n",
              "                        <td id=\"T_a2de111a_3d83_11eb_84d7_0242ac1c0002row0_col17\" class=\"data row0 col17\" >-0.03274</td>\n",
              "                        <td id=\"T_a2de111a_3d83_11eb_84d7_0242ac1c0002row0_col18\" class=\"data row0 col18\" >0.003015</td>\n",
              "                        <td id=\"T_a2de111a_3d83_11eb_84d7_0242ac1c0002row0_col19\" class=\"data row0 col19\" >0.03647</td>\n",
              "                        <td id=\"T_a2de111a_3d83_11eb_84d7_0242ac1c0002row0_col20\" class=\"data row0 col20\" >0.08208</td>\n",
              "            </tr>\n",
              "            <tr>\n",
              "                        <th id=\"T_a2de111a_3d83_11eb_84d7_0242ac1c0002level0_row1\" class=\"row_heading level0 row1\" >Account Balance</th>\n",
              "                        <td id=\"T_a2de111a_3d83_11eb_84d7_0242ac1c0002row1_col0\" class=\"data row1 col0\" >0.3508</td>\n",
              "                        <td id=\"T_a2de111a_3d83_11eb_84d7_0242ac1c0002row1_col1\" class=\"data row1 col1\" >1.0</td>\n",
              "                        <td id=\"T_a2de111a_3d83_11eb_84d7_0242ac1c0002row1_col2\" class=\"data row1 col2\" >-0.07201</td>\n",
              "                        <td id=\"T_a2de111a_3d83_11eb_84d7_0242ac1c0002row1_col3\" class=\"data row1 col3\" >0.1922</td>\n",
              "                        <td id=\"T_a2de111a_3d83_11eb_84d7_0242ac1c0002row1_col4\" class=\"data row1 col4\" >0.02878</td>\n",
              "                        <td id=\"T_a2de111a_3d83_11eb_84d7_0242ac1c0002row1_col5\" class=\"data row1 col5\" >-0.0427</td>\n",
              "                        <td id=\"T_a2de111a_3d83_11eb_84d7_0242ac1c0002row1_col6\" class=\"data row1 col6\" >0.2229</td>\n",
              "                        <td id=\"T_a2de111a_3d83_11eb_84d7_0242ac1c0002row1_col7\" class=\"data row1 col7\" >0.1063</td>\n",
              "                        <td id=\"T_a2de111a_3d83_11eb_84d7_0242ac1c0002row1_col8\" class=\"data row1 col8\" >-0.00528</td>\n",
              "                        <td id=\"T_a2de111a_3d83_11eb_84d7_0242ac1c0002row1_col9\" class=\"data row1 col9\" >0.04326</td>\n",
              "                        <td id=\"T_a2de111a_3d83_11eb_84d7_0242ac1c0002row1_col10\" class=\"data row1 col10\" >-0.1277</td>\n",
              "                        <td id=\"T_a2de111a_3d83_11eb_84d7_0242ac1c0002row1_col11\" class=\"data row1 col11\" >-0.04223</td>\n",
              "                        <td id=\"T_a2de111a_3d83_11eb_84d7_0242ac1c0002row1_col12\" class=\"data row1 col12\" >-0.03226</td>\n",
              "                        <td id=\"T_a2de111a_3d83_11eb_84d7_0242ac1c0002row1_col13\" class=\"data row1 col13\" >0.05863</td>\n",
              "                        <td id=\"T_a2de111a_3d83_11eb_84d7_0242ac1c0002row1_col14\" class=\"data row1 col14\" >0.06827</td>\n",
              "                        <td id=\"T_a2de111a_3d83_11eb_84d7_0242ac1c0002row1_col15\" class=\"data row1 col15\" >0.02334</td>\n",
              "                        <td id=\"T_a2de111a_3d83_11eb_84d7_0242ac1c0002row1_col16\" class=\"data row1 col16\" >0.07601</td>\n",
              "                        <td id=\"T_a2de111a_3d83_11eb_84d7_0242ac1c0002row1_col17\" class=\"data row1 col17\" >0.04066</td>\n",
              "                        <td id=\"T_a2de111a_3d83_11eb_84d7_0242ac1c0002row1_col18\" class=\"data row1 col18\" >-0.01415</td>\n",
              "                        <td id=\"T_a2de111a_3d83_11eb_84d7_0242ac1c0002row1_col19\" class=\"data row1 col19\" >0.0663</td>\n",
              "                        <td id=\"T_a2de111a_3d83_11eb_84d7_0242ac1c0002row1_col20\" class=\"data row1 col20\" >-0.03519</td>\n",
              "            </tr>\n",
              "            <tr>\n",
              "                        <th id=\"T_a2de111a_3d83_11eb_84d7_0242ac1c0002level0_row2\" class=\"row_heading level0 row2\" >Duration of Credit (month)</th>\n",
              "                        <td id=\"T_a2de111a_3d83_11eb_84d7_0242ac1c0002row2_col0\" class=\"data row2 col0\" >-0.2149</td>\n",
              "                        <td id=\"T_a2de111a_3d83_11eb_84d7_0242ac1c0002row2_col1\" class=\"data row2 col1\" >-0.07201</td>\n",
              "                        <td id=\"T_a2de111a_3d83_11eb_84d7_0242ac1c0002row2_col2\" class=\"data row2 col2\" >1.0</td>\n",
              "                        <td id=\"T_a2de111a_3d83_11eb_84d7_0242ac1c0002row2_col3\" class=\"data row2 col3\" >-0.07719</td>\n",
              "                        <td id=\"T_a2de111a_3d83_11eb_84d7_0242ac1c0002row2_col4\" class=\"data row2 col4\" >0.1475</td>\n",
              "                        <td id=\"T_a2de111a_3d83_11eb_84d7_0242ac1c0002row2_col5\" class=\"data row2 col5\" >0.625</td>\n",
              "                        <td id=\"T_a2de111a_3d83_11eb_84d7_0242ac1c0002row2_col6\" class=\"data row2 col6\" >0.04766</td>\n",
              "                        <td id=\"T_a2de111a_3d83_11eb_84d7_0242ac1c0002row2_col7\" class=\"data row2 col7\" >0.05738</td>\n",
              "                        <td id=\"T_a2de111a_3d83_11eb_84d7_0242ac1c0002row2_col8\" class=\"data row2 col8\" >0.07475</td>\n",
              "                        <td id=\"T_a2de111a_3d83_11eb_84d7_0242ac1c0002row2_col9\" class=\"data row2 col9\" >0.01479</td>\n",
              "                        <td id=\"T_a2de111a_3d83_11eb_84d7_0242ac1c0002row2_col10\" class=\"data row2 col10\" >-0.02449</td>\n",
              "                        <td id=\"T_a2de111a_3d83_11eb_84d7_0242ac1c0002row2_col11\" class=\"data row2 col11\" >0.03407</td>\n",
              "                        <td id=\"T_a2de111a_3d83_11eb_84d7_0242ac1c0002row2_col12\" class=\"data row2 col12\" >0.304</td>\n",
              "                        <td id=\"T_a2de111a_3d83_11eb_84d7_0242ac1c0002row2_col13\" class=\"data row2 col13\" >-0.03755</td>\n",
              "                        <td id=\"T_a2de111a_3d83_11eb_84d7_0242ac1c0002row2_col14\" class=\"data row2 col14\" >-0.06288</td>\n",
              "                        <td id=\"T_a2de111a_3d83_11eb_84d7_0242ac1c0002row2_col15\" class=\"data row2 col15\" >0.1531</td>\n",
              "                        <td id=\"T_a2de111a_3d83_11eb_84d7_0242ac1c0002row2_col16\" class=\"data row2 col16\" >-0.01128</td>\n",
              "                        <td id=\"T_a2de111a_3d83_11eb_84d7_0242ac1c0002row2_col17\" class=\"data row2 col17\" >0.2109</td>\n",
              "                        <td id=\"T_a2de111a_3d83_11eb_84d7_0242ac1c0002row2_col18\" class=\"data row2 col18\" >-0.02383</td>\n",
              "                        <td id=\"T_a2de111a_3d83_11eb_84d7_0242ac1c0002row2_col19\" class=\"data row2 col19\" >0.1647</td>\n",
              "                        <td id=\"T_a2de111a_3d83_11eb_84d7_0242ac1c0002row2_col20\" class=\"data row2 col20\" >-0.1347</td>\n",
              "            </tr>\n",
              "            <tr>\n",
              "                        <th id=\"T_a2de111a_3d83_11eb_84d7_0242ac1c0002level0_row3\" class=\"row_heading level0 row3\" >Payment Status of Previous Credit</th>\n",
              "                        <td id=\"T_a2de111a_3d83_11eb_84d7_0242ac1c0002row3_col0\" class=\"data row3 col0\" >0.2288</td>\n",
              "                        <td id=\"T_a2de111a_3d83_11eb_84d7_0242ac1c0002row3_col1\" class=\"data row3 col1\" >0.1922</td>\n",
              "                        <td id=\"T_a2de111a_3d83_11eb_84d7_0242ac1c0002row3_col2\" class=\"data row3 col2\" >-0.07719</td>\n",
              "                        <td id=\"T_a2de111a_3d83_11eb_84d7_0242ac1c0002row3_col3\" class=\"data row3 col3\" >1.0</td>\n",
              "                        <td id=\"T_a2de111a_3d83_11eb_84d7_0242ac1c0002row3_col4\" class=\"data row3 col4\" >-0.09034</td>\n",
              "                        <td id=\"T_a2de111a_3d83_11eb_84d7_0242ac1c0002row3_col5\" class=\"data row3 col5\" >-0.05991</td>\n",
              "                        <td id=\"T_a2de111a_3d83_11eb_84d7_0242ac1c0002row3_col6\" class=\"data row3 col6\" >0.03906</td>\n",
              "                        <td id=\"T_a2de111a_3d83_11eb_84d7_0242ac1c0002row3_col7\" class=\"data row3 col7\" >0.1382</td>\n",
              "                        <td id=\"T_a2de111a_3d83_11eb_84d7_0242ac1c0002row3_col8\" class=\"data row3 col8\" >0.04437</td>\n",
              "                        <td id=\"T_a2de111a_3d83_11eb_84d7_0242ac1c0002row3_col9\" class=\"data row3 col9\" >0.04217</td>\n",
              "                        <td id=\"T_a2de111a_3d83_11eb_84d7_0242ac1c0002row3_col10\" class=\"data row3 col10\" >-0.04068</td>\n",
              "                        <td id=\"T_a2de111a_3d83_11eb_84d7_0242ac1c0002row3_col11\" class=\"data row3 col11\" >0.0632</td>\n",
              "                        <td id=\"T_a2de111a_3d83_11eb_84d7_0242ac1c0002row3_col12\" class=\"data row3 col12\" >-0.05378</td>\n",
              "                        <td id=\"T_a2de111a_3d83_11eb_84d7_0242ac1c0002row3_col13\" class=\"data row3 col13\" >0.1463</td>\n",
              "                        <td id=\"T_a2de111a_3d83_11eb_84d7_0242ac1c0002row3_col14\" class=\"data row3 col14\" >0.16</td>\n",
              "                        <td id=\"T_a2de111a_3d83_11eb_84d7_0242ac1c0002row3_col15\" class=\"data row3 col15\" >0.06143</td>\n",
              "                        <td id=\"T_a2de111a_3d83_11eb_84d7_0242ac1c0002row3_col16\" class=\"data row3 col16\" >0.4371</td>\n",
              "                        <td id=\"T_a2de111a_3d83_11eb_84d7_0242ac1c0002row3_col17\" class=\"data row3 col17\" >0.01035</td>\n",
              "                        <td id=\"T_a2de111a_3d83_11eb_84d7_0242ac1c0002row3_col18\" class=\"data row3 col18\" >0.01155</td>\n",
              "                        <td id=\"T_a2de111a_3d83_11eb_84d7_0242ac1c0002row3_col19\" class=\"data row3 col19\" >0.05237</td>\n",
              "                        <td id=\"T_a2de111a_3d83_11eb_84d7_0242ac1c0002row3_col20\" class=\"data row3 col20\" >0.02855</td>\n",
              "            </tr>\n",
              "            <tr>\n",
              "                        <th id=\"T_a2de111a_3d83_11eb_84d7_0242ac1c0002level0_row4\" class=\"row_heading level0 row4\" >Purpose</th>\n",
              "                        <td id=\"T_a2de111a_3d83_11eb_84d7_0242ac1c0002row4_col0\" class=\"data row4 col0\" >-0.01798</td>\n",
              "                        <td id=\"T_a2de111a_3d83_11eb_84d7_0242ac1c0002row4_col1\" class=\"data row4 col1\" >0.02878</td>\n",
              "                        <td id=\"T_a2de111a_3d83_11eb_84d7_0242ac1c0002row4_col2\" class=\"data row4 col2\" >0.1475</td>\n",
              "                        <td id=\"T_a2de111a_3d83_11eb_84d7_0242ac1c0002row4_col3\" class=\"data row4 col3\" >-0.09034</td>\n",
              "                        <td id=\"T_a2de111a_3d83_11eb_84d7_0242ac1c0002row4_col4\" class=\"data row4 col4\" >1.0</td>\n",
              "                        <td id=\"T_a2de111a_3d83_11eb_84d7_0242ac1c0002row4_col5\" class=\"data row4 col5\" >0.06848</td>\n",
              "                        <td id=\"T_a2de111a_3d83_11eb_84d7_0242ac1c0002row4_col6\" class=\"data row4 col6\" >-0.01868</td>\n",
              "                        <td id=\"T_a2de111a_3d83_11eb_84d7_0242ac1c0002row4_col7\" class=\"data row4 col7\" >0.01601</td>\n",
              "                        <td id=\"T_a2de111a_3d83_11eb_84d7_0242ac1c0002row4_col8\" class=\"data row4 col8\" >0.04837</td>\n",
              "                        <td id=\"T_a2de111a_3d83_11eb_84d7_0242ac1c0002row4_col9\" class=\"data row4 col9\" >0.0001566</td>\n",
              "                        <td id=\"T_a2de111a_3d83_11eb_84d7_0242ac1c0002row4_col10\" class=\"data row4 col10\" >-0.01761</td>\n",
              "                        <td id=\"T_a2de111a_3d83_11eb_84d7_0242ac1c0002row4_col11\" class=\"data row4 col11\" >-0.03822</td>\n",
              "                        <td id=\"T_a2de111a_3d83_11eb_84d7_0242ac1c0002row4_col12\" class=\"data row4 col12\" >0.01097</td>\n",
              "                        <td id=\"T_a2de111a_3d83_11eb_84d7_0242ac1c0002row4_col13\" class=\"data row4 col13\" >-0.0008924</td>\n",
              "                        <td id=\"T_a2de111a_3d83_11eb_84d7_0242ac1c0002row4_col14\" class=\"data row4 col14\" >-0.1002</td>\n",
              "                        <td id=\"T_a2de111a_3d83_11eb_84d7_0242ac1c0002row4_col15\" class=\"data row4 col15\" >0.01349</td>\n",
              "                        <td id=\"T_a2de111a_3d83_11eb_84d7_0242ac1c0002row4_col16\" class=\"data row4 col16\" >0.05494</td>\n",
              "                        <td id=\"T_a2de111a_3d83_11eb_84d7_0242ac1c0002row4_col17\" class=\"data row4 col17\" >0.008085</td>\n",
              "                        <td id=\"T_a2de111a_3d83_11eb_84d7_0242ac1c0002row4_col18\" class=\"data row4 col18\" >-0.03258</td>\n",
              "                        <td id=\"T_a2de111a_3d83_11eb_84d7_0242ac1c0002row4_col19\" class=\"data row4 col19\" >0.07837</td>\n",
              "                        <td id=\"T_a2de111a_3d83_11eb_84d7_0242ac1c0002row4_col20\" class=\"data row4 col20\" >-0.1132</td>\n",
              "            </tr>\n",
              "            <tr>\n",
              "                        <th id=\"T_a2de111a_3d83_11eb_84d7_0242ac1c0002level0_row5\" class=\"row_heading level0 row5\" >Credit Amount</th>\n",
              "                        <td id=\"T_a2de111a_3d83_11eb_84d7_0242ac1c0002row5_col0\" class=\"data row5 col0\" >-0.1547</td>\n",
              "                        <td id=\"T_a2de111a_3d83_11eb_84d7_0242ac1c0002row5_col1\" class=\"data row5 col1\" >-0.0427</td>\n",
              "                        <td id=\"T_a2de111a_3d83_11eb_84d7_0242ac1c0002row5_col2\" class=\"data row5 col2\" >0.625</td>\n",
              "                        <td id=\"T_a2de111a_3d83_11eb_84d7_0242ac1c0002row5_col3\" class=\"data row5 col3\" >-0.05991</td>\n",
              "                        <td id=\"T_a2de111a_3d83_11eb_84d7_0242ac1c0002row5_col4\" class=\"data row5 col4\" >0.06848</td>\n",
              "                        <td id=\"T_a2de111a_3d83_11eb_84d7_0242ac1c0002row5_col5\" class=\"data row5 col5\" >1.0</td>\n",
              "                        <td id=\"T_a2de111a_3d83_11eb_84d7_0242ac1c0002row5_col6\" class=\"data row5 col6\" >0.06463</td>\n",
              "                        <td id=\"T_a2de111a_3d83_11eb_84d7_0242ac1c0002row5_col7\" class=\"data row5 col7\" >-0.008376</td>\n",
              "                        <td id=\"T_a2de111a_3d83_11eb_84d7_0242ac1c0002row5_col8\" class=\"data row5 col8\" >-0.2713</td>\n",
              "                        <td id=\"T_a2de111a_3d83_11eb_84d7_0242ac1c0002row5_col9\" class=\"data row5 col9\" >-0.01609</td>\n",
              "                        <td id=\"T_a2de111a_3d83_11eb_84d7_0242ac1c0002row5_col10\" class=\"data row5 col10\" >-0.02783</td>\n",
              "                        <td id=\"T_a2de111a_3d83_11eb_84d7_0242ac1c0002row5_col11\" class=\"data row5 col11\" >0.02892</td>\n",
              "                        <td id=\"T_a2de111a_3d83_11eb_84d7_0242ac1c0002row5_col12\" class=\"data row5 col12\" >0.3116</td>\n",
              "                        <td id=\"T_a2de111a_3d83_11eb_84d7_0242ac1c0002row5_col13\" class=\"data row5 col13\" >0.03227</td>\n",
              "                        <td id=\"T_a2de111a_3d83_11eb_84d7_0242ac1c0002row5_col14\" class=\"data row5 col14\" >-0.06939</td>\n",
              "                        <td id=\"T_a2de111a_3d83_11eb_84d7_0242ac1c0002row5_col15\" class=\"data row5 col15\" >0.133</td>\n",
              "                        <td id=\"T_a2de111a_3d83_11eb_84d7_0242ac1c0002row5_col16\" class=\"data row5 col16\" >0.02079</td>\n",
              "                        <td id=\"T_a2de111a_3d83_11eb_84d7_0242ac1c0002row5_col17\" class=\"data row5 col17\" >0.2854</td>\n",
              "                        <td id=\"T_a2de111a_3d83_11eb_84d7_0242ac1c0002row5_col18\" class=\"data row5 col18\" >0.01714</td>\n",
              "                        <td id=\"T_a2de111a_3d83_11eb_84d7_0242ac1c0002row5_col19\" class=\"data row5 col19\" >0.277</td>\n",
              "                        <td id=\"T_a2de111a_3d83_11eb_84d7_0242ac1c0002row5_col20\" class=\"data row5 col20\" >-0.03066</td>\n",
              "            </tr>\n",
              "            <tr>\n",
              "                        <th id=\"T_a2de111a_3d83_11eb_84d7_0242ac1c0002level0_row6\" class=\"row_heading level0 row6\" >Value Savings/Stocks</th>\n",
              "                        <td id=\"T_a2de111a_3d83_11eb_84d7_0242ac1c0002row6_col0\" class=\"data row6 col0\" >0.1789</td>\n",
              "                        <td id=\"T_a2de111a_3d83_11eb_84d7_0242ac1c0002row6_col1\" class=\"data row6 col1\" >0.2229</td>\n",
              "                        <td id=\"T_a2de111a_3d83_11eb_84d7_0242ac1c0002row6_col2\" class=\"data row6 col2\" >0.04766</td>\n",
              "                        <td id=\"T_a2de111a_3d83_11eb_84d7_0242ac1c0002row6_col3\" class=\"data row6 col3\" >0.03906</td>\n",
              "                        <td id=\"T_a2de111a_3d83_11eb_84d7_0242ac1c0002row6_col4\" class=\"data row6 col4\" >-0.01868</td>\n",
              "                        <td id=\"T_a2de111a_3d83_11eb_84d7_0242ac1c0002row6_col5\" class=\"data row6 col5\" >0.06463</td>\n",
              "                        <td id=\"T_a2de111a_3d83_11eb_84d7_0242ac1c0002row6_col6\" class=\"data row6 col6\" >1.0</td>\n",
              "                        <td id=\"T_a2de111a_3d83_11eb_84d7_0242ac1c0002row6_col7\" class=\"data row6 col7\" >0.1209</td>\n",
              "                        <td id=\"T_a2de111a_3d83_11eb_84d7_0242ac1c0002row6_col8\" class=\"data row6 col8\" >0.02199</td>\n",
              "                        <td id=\"T_a2de111a_3d83_11eb_84d7_0242ac1c0002row6_col9\" class=\"data row6 col9\" >0.01735</td>\n",
              "                        <td id=\"T_a2de111a_3d83_11eb_84d7_0242ac1c0002row6_col10\" class=\"data row6 col10\" >-0.1051</td>\n",
              "                        <td id=\"T_a2de111a_3d83_11eb_84d7_0242ac1c0002row6_col11\" class=\"data row6 col11\" >0.09142</td>\n",
              "                        <td id=\"T_a2de111a_3d83_11eb_84d7_0242ac1c0002row6_col12\" class=\"data row6 col12\" >0.01895</td>\n",
              "                        <td id=\"T_a2de111a_3d83_11eb_84d7_0242ac1c0002row6_col13\" class=\"data row6 col13\" >0.08343</td>\n",
              "                        <td id=\"T_a2de111a_3d83_11eb_84d7_0242ac1c0002row6_col14\" class=\"data row6 col14\" >0.001908</td>\n",
              "                        <td id=\"T_a2de111a_3d83_11eb_84d7_0242ac1c0002row6_col15\" class=\"data row6 col15\" >0.006644</td>\n",
              "                        <td id=\"T_a2de111a_3d83_11eb_84d7_0242ac1c0002row6_col16\" class=\"data row6 col16\" >-0.02164</td>\n",
              "                        <td id=\"T_a2de111a_3d83_11eb_84d7_0242ac1c0002row6_col17\" class=\"data row6 col17\" >0.01171</td>\n",
              "                        <td id=\"T_a2de111a_3d83_11eb_84d7_0242ac1c0002row6_col18\" class=\"data row6 col18\" >0.02751</td>\n",
              "                        <td id=\"T_a2de111a_3d83_11eb_84d7_0242ac1c0002row6_col19\" class=\"data row6 col19\" >0.08721</td>\n",
              "                        <td id=\"T_a2de111a_3d83_11eb_84d7_0242ac1c0002row6_col20\" class=\"data row6 col20\" >0.01045</td>\n",
              "            </tr>\n",
              "            <tr>\n",
              "                        <th id=\"T_a2de111a_3d83_11eb_84d7_0242ac1c0002level0_row7\" class=\"row_heading level0 row7\" >Length of current employment</th>\n",
              "                        <td id=\"T_a2de111a_3d83_11eb_84d7_0242ac1c0002row7_col0\" class=\"data row7 col0\" >0.116</td>\n",
              "                        <td id=\"T_a2de111a_3d83_11eb_84d7_0242ac1c0002row7_col1\" class=\"data row7 col1\" >0.1063</td>\n",
              "                        <td id=\"T_a2de111a_3d83_11eb_84d7_0242ac1c0002row7_col2\" class=\"data row7 col2\" >0.05738</td>\n",
              "                        <td id=\"T_a2de111a_3d83_11eb_84d7_0242ac1c0002row7_col3\" class=\"data row7 col3\" >0.1382</td>\n",
              "                        <td id=\"T_a2de111a_3d83_11eb_84d7_0242ac1c0002row7_col4\" class=\"data row7 col4\" >0.01601</td>\n",
              "                        <td id=\"T_a2de111a_3d83_11eb_84d7_0242ac1c0002row7_col5\" class=\"data row7 col5\" >-0.008376</td>\n",
              "                        <td id=\"T_a2de111a_3d83_11eb_84d7_0242ac1c0002row7_col6\" class=\"data row7 col6\" >0.1209</td>\n",
              "                        <td id=\"T_a2de111a_3d83_11eb_84d7_0242ac1c0002row7_col7\" class=\"data row7 col7\" >1.0</td>\n",
              "                        <td id=\"T_a2de111a_3d83_11eb_84d7_0242ac1c0002row7_col8\" class=\"data row7 col8\" >0.1262</td>\n",
              "                        <td id=\"T_a2de111a_3d83_11eb_84d7_0242ac1c0002row7_col9\" class=\"data row7 col9\" >0.1113</td>\n",
              "                        <td id=\"T_a2de111a_3d83_11eb_84d7_0242ac1c0002row7_col10\" class=\"data row7 col10\" >-0.008116</td>\n",
              "                        <td id=\"T_a2de111a_3d83_11eb_84d7_0242ac1c0002row7_col11\" class=\"data row7 col11\" >0.2451</td>\n",
              "                        <td id=\"T_a2de111a_3d83_11eb_84d7_0242ac1c0002row7_col12\" class=\"data row7 col12\" >0.08719</td>\n",
              "                        <td id=\"T_a2de111a_3d83_11eb_84d7_0242ac1c0002row7_col13\" class=\"data row7 col13\" >0.2591</td>\n",
              "                        <td id=\"T_a2de111a_3d83_11eb_84d7_0242ac1c0002row7_col14\" class=\"data row7 col14\" >-0.007279</td>\n",
              "                        <td id=\"T_a2de111a_3d83_11eb_84d7_0242ac1c0002row7_col15\" class=\"data row7 col15\" >0.1151</td>\n",
              "                        <td id=\"T_a2de111a_3d83_11eb_84d7_0242ac1c0002row7_col16\" class=\"data row7 col16\" >0.1258</td>\n",
              "                        <td id=\"T_a2de111a_3d83_11eb_84d7_0242ac1c0002row7_col17\" class=\"data row7 col17\" >0.1012</td>\n",
              "                        <td id=\"T_a2de111a_3d83_11eb_84d7_0242ac1c0002row7_col18\" class=\"data row7 col18\" >0.09719</td>\n",
              "                        <td id=\"T_a2de111a_3d83_11eb_84d7_0242ac1c0002row7_col19\" class=\"data row7 col19\" >0.06052</td>\n",
              "                        <td id=\"T_a2de111a_3d83_11eb_84d7_0242ac1c0002row7_col20\" class=\"data row7 col20\" >-0.02285</td>\n",
              "            </tr>\n",
              "            <tr>\n",
              "                        <th id=\"T_a2de111a_3d83_11eb_84d7_0242ac1c0002level0_row8\" class=\"row_heading level0 row8\" >Instalment per cent</th>\n",
              "                        <td id=\"T_a2de111a_3d83_11eb_84d7_0242ac1c0002row8_col0\" class=\"data row8 col0\" >-0.0724</td>\n",
              "                        <td id=\"T_a2de111a_3d83_11eb_84d7_0242ac1c0002row8_col1\" class=\"data row8 col1\" >-0.00528</td>\n",
              "                        <td id=\"T_a2de111a_3d83_11eb_84d7_0242ac1c0002row8_col2\" class=\"data row8 col2\" >0.07475</td>\n",
              "                        <td id=\"T_a2de111a_3d83_11eb_84d7_0242ac1c0002row8_col3\" class=\"data row8 col3\" >0.04437</td>\n",
              "                        <td id=\"T_a2de111a_3d83_11eb_84d7_0242ac1c0002row8_col4\" class=\"data row8 col4\" >0.04837</td>\n",
              "                        <td id=\"T_a2de111a_3d83_11eb_84d7_0242ac1c0002row8_col5\" class=\"data row8 col5\" >-0.2713</td>\n",
              "                        <td id=\"T_a2de111a_3d83_11eb_84d7_0242ac1c0002row8_col6\" class=\"data row8 col6\" >0.02199</td>\n",
              "                        <td id=\"T_a2de111a_3d83_11eb_84d7_0242ac1c0002row8_col7\" class=\"data row8 col7\" >0.1262</td>\n",
              "                        <td id=\"T_a2de111a_3d83_11eb_84d7_0242ac1c0002row8_col8\" class=\"data row8 col8\" >1.0</td>\n",
              "                        <td id=\"T_a2de111a_3d83_11eb_84d7_0242ac1c0002row8_col9\" class=\"data row8 col9\" >0.1193</td>\n",
              "                        <td id=\"T_a2de111a_3d83_11eb_84d7_0242ac1c0002row8_col10\" class=\"data row8 col10\" >-0.0114</td>\n",
              "                        <td id=\"T_a2de111a_3d83_11eb_84d7_0242ac1c0002row8_col11\" class=\"data row8 col11\" >0.0493</td>\n",
              "                        <td id=\"T_a2de111a_3d83_11eb_84d7_0242ac1c0002row8_col12\" class=\"data row8 col12\" >0.05339</td>\n",
              "                        <td id=\"T_a2de111a_3d83_11eb_84d7_0242ac1c0002row8_col13\" class=\"data row8 col13\" >0.05727</td>\n",
              "                        <td id=\"T_a2de111a_3d83_11eb_84d7_0242ac1c0002row8_col14\" class=\"data row8 col14\" >0.007894</td>\n",
              "                        <td id=\"T_a2de111a_3d83_11eb_84d7_0242ac1c0002row8_col15\" class=\"data row8 col15\" >0.09123</td>\n",
              "                        <td id=\"T_a2de111a_3d83_11eb_84d7_0242ac1c0002row8_col16\" class=\"data row8 col16\" >0.02167</td>\n",
              "                        <td id=\"T_a2de111a_3d83_11eb_84d7_0242ac1c0002row8_col17\" class=\"data row8 col17\" >0.09776</td>\n",
              "                        <td id=\"T_a2de111a_3d83_11eb_84d7_0242ac1c0002row8_col18\" class=\"data row8 col18\" >-0.07121</td>\n",
              "                        <td id=\"T_a2de111a_3d83_11eb_84d7_0242ac1c0002row8_col19\" class=\"data row8 col19\" >0.01441</td>\n",
              "                        <td id=\"T_a2de111a_3d83_11eb_84d7_0242ac1c0002row8_col20\" class=\"data row8 col20\" >-0.09476</td>\n",
              "            </tr>\n",
              "            <tr>\n",
              "                        <th id=\"T_a2de111a_3d83_11eb_84d7_0242ac1c0002level0_row9\" class=\"row_heading level0 row9\" >Sex & Marital Status</th>\n",
              "                        <td id=\"T_a2de111a_3d83_11eb_84d7_0242ac1c0002row9_col0\" class=\"data row9 col0\" >0.08818</td>\n",
              "                        <td id=\"T_a2de111a_3d83_11eb_84d7_0242ac1c0002row9_col1\" class=\"data row9 col1\" >0.04326</td>\n",
              "                        <td id=\"T_a2de111a_3d83_11eb_84d7_0242ac1c0002row9_col2\" class=\"data row9 col2\" >0.01479</td>\n",
              "                        <td id=\"T_a2de111a_3d83_11eb_84d7_0242ac1c0002row9_col3\" class=\"data row9 col3\" >0.04217</td>\n",
              "                        <td id=\"T_a2de111a_3d83_11eb_84d7_0242ac1c0002row9_col4\" class=\"data row9 col4\" >0.0001566</td>\n",
              "                        <td id=\"T_a2de111a_3d83_11eb_84d7_0242ac1c0002row9_col5\" class=\"data row9 col5\" >-0.01609</td>\n",
              "                        <td id=\"T_a2de111a_3d83_11eb_84d7_0242ac1c0002row9_col6\" class=\"data row9 col6\" >0.01735</td>\n",
              "                        <td id=\"T_a2de111a_3d83_11eb_84d7_0242ac1c0002row9_col7\" class=\"data row9 col7\" >0.1113</td>\n",
              "                        <td id=\"T_a2de111a_3d83_11eb_84d7_0242ac1c0002row9_col8\" class=\"data row9 col8\" >0.1193</td>\n",
              "                        <td id=\"T_a2de111a_3d83_11eb_84d7_0242ac1c0002row9_col9\" class=\"data row9 col9\" >1.0</td>\n",
              "                        <td id=\"T_a2de111a_3d83_11eb_84d7_0242ac1c0002row9_col10\" class=\"data row9 col10\" >0.05063</td>\n",
              "                        <td id=\"T_a2de111a_3d83_11eb_84d7_0242ac1c0002row9_col11\" class=\"data row9 col11\" >-0.02727</td>\n",
              "                        <td id=\"T_a2de111a_3d83_11eb_84d7_0242ac1c0002row9_col12\" class=\"data row9 col12\" >-0.00694</td>\n",
              "                        <td id=\"T_a2de111a_3d83_11eb_84d7_0242ac1c0002row9_col13\" class=\"data row9 col13\" >0.00515</td>\n",
              "                        <td id=\"T_a2de111a_3d83_11eb_84d7_0242ac1c0002row9_col14\" class=\"data row9 col14\" >-0.02675</td>\n",
              "                        <td id=\"T_a2de111a_3d83_11eb_84d7_0242ac1c0002row9_col15\" class=\"data row9 col15\" >0.09893</td>\n",
              "                        <td id=\"T_a2de111a_3d83_11eb_84d7_0242ac1c0002row9_col16\" class=\"data row9 col16\" >0.06467</td>\n",
              "                        <td id=\"T_a2de111a_3d83_11eb_84d7_0242ac1c0002row9_col17\" class=\"data row9 col17\" >-0.01196</td>\n",
              "                        <td id=\"T_a2de111a_3d83_11eb_84d7_0242ac1c0002row9_col18\" class=\"data row9 col18\" >0.1222</td>\n",
              "                        <td id=\"T_a2de111a_3d83_11eb_84d7_0242ac1c0002row9_col19\" class=\"data row9 col19\" >0.02727</td>\n",
              "                        <td id=\"T_a2de111a_3d83_11eb_84d7_0242ac1c0002row9_col20\" class=\"data row9 col20\" >0.0731</td>\n",
              "            </tr>\n",
              "            <tr>\n",
              "                        <th id=\"T_a2de111a_3d83_11eb_84d7_0242ac1c0002level0_row10\" class=\"row_heading level0 row10\" >Guarantors</th>\n",
              "                        <td id=\"T_a2de111a_3d83_11eb_84d7_0242ac1c0002row10_col0\" class=\"data row10 col0\" >0.02514</td>\n",
              "                        <td id=\"T_a2de111a_3d83_11eb_84d7_0242ac1c0002row10_col1\" class=\"data row10 col1\" >-0.1277</td>\n",
              "                        <td id=\"T_a2de111a_3d83_11eb_84d7_0242ac1c0002row10_col2\" class=\"data row10 col2\" >-0.02449</td>\n",
              "                        <td id=\"T_a2de111a_3d83_11eb_84d7_0242ac1c0002row10_col3\" class=\"data row10 col3\" >-0.04068</td>\n",
              "                        <td id=\"T_a2de111a_3d83_11eb_84d7_0242ac1c0002row10_col4\" class=\"data row10 col4\" >-0.01761</td>\n",
              "                        <td id=\"T_a2de111a_3d83_11eb_84d7_0242ac1c0002row10_col5\" class=\"data row10 col5\" >-0.02783</td>\n",
              "                        <td id=\"T_a2de111a_3d83_11eb_84d7_0242ac1c0002row10_col6\" class=\"data row10 col6\" >-0.1051</td>\n",
              "                        <td id=\"T_a2de111a_3d83_11eb_84d7_0242ac1c0002row10_col7\" class=\"data row10 col7\" >-0.008116</td>\n",
              "                        <td id=\"T_a2de111a_3d83_11eb_84d7_0242ac1c0002row10_col8\" class=\"data row10 col8\" >-0.0114</td>\n",
              "                        <td id=\"T_a2de111a_3d83_11eb_84d7_0242ac1c0002row10_col9\" class=\"data row10 col9\" >0.05063</td>\n",
              "                        <td id=\"T_a2de111a_3d83_11eb_84d7_0242ac1c0002row10_col10\" class=\"data row10 col10\" >1.0</td>\n",
              "                        <td id=\"T_a2de111a_3d83_11eb_84d7_0242ac1c0002row10_col11\" class=\"data row10 col11\" >-0.02568</td>\n",
              "                        <td id=\"T_a2de111a_3d83_11eb_84d7_0242ac1c0002row10_col12\" class=\"data row10 col12\" >-0.1555</td>\n",
              "                        <td id=\"T_a2de111a_3d83_11eb_84d7_0242ac1c0002row10_col13\" class=\"data row10 col13\" >-0.02983</td>\n",
              "                        <td id=\"T_a2de111a_3d83_11eb_84d7_0242ac1c0002row10_col14\" class=\"data row10 col14\" >-0.03824</td>\n",
              "                        <td id=\"T_a2de111a_3d83_11eb_84d7_0242ac1c0002row10_col15\" class=\"data row10 col15\" >-0.06545</td>\n",
              "                        <td id=\"T_a2de111a_3d83_11eb_84d7_0242ac1c0002row10_col16\" class=\"data row10 col16\" >-0.02545</td>\n",
              "                        <td id=\"T_a2de111a_3d83_11eb_84d7_0242ac1c0002row10_col17\" class=\"data row10 col17\" >-0.05796</td>\n",
              "                        <td id=\"T_a2de111a_3d83_11eb_84d7_0242ac1c0002row10_col18\" class=\"data row10 col18\" >0.0204</td>\n",
              "                        <td id=\"T_a2de111a_3d83_11eb_84d7_0242ac1c0002row10_col19\" class=\"data row10 col19\" >-0.07503</td>\n",
              "                        <td id=\"T_a2de111a_3d83_11eb_84d7_0242ac1c0002row10_col20\" class=\"data row10 col20\" >0.1402</td>\n",
              "            </tr>\n",
              "            <tr>\n",
              "                        <th id=\"T_a2de111a_3d83_11eb_84d7_0242ac1c0002level0_row11\" class=\"row_heading level0 row11\" >Duration in Current address</th>\n",
              "                        <td id=\"T_a2de111a_3d83_11eb_84d7_0242ac1c0002row11_col0\" class=\"data row11 col0\" >-0.002967</td>\n",
              "                        <td id=\"T_a2de111a_3d83_11eb_84d7_0242ac1c0002row11_col1\" class=\"data row11 col1\" >-0.04223</td>\n",
              "                        <td id=\"T_a2de111a_3d83_11eb_84d7_0242ac1c0002row11_col2\" class=\"data row11 col2\" >0.03407</td>\n",
              "                        <td id=\"T_a2de111a_3d83_11eb_84d7_0242ac1c0002row11_col3\" class=\"data row11 col3\" >0.0632</td>\n",
              "                        <td id=\"T_a2de111a_3d83_11eb_84d7_0242ac1c0002row11_col4\" class=\"data row11 col4\" >-0.03822</td>\n",
              "                        <td id=\"T_a2de111a_3d83_11eb_84d7_0242ac1c0002row11_col5\" class=\"data row11 col5\" >0.02892</td>\n",
              "                        <td id=\"T_a2de111a_3d83_11eb_84d7_0242ac1c0002row11_col6\" class=\"data row11 col6\" >0.09142</td>\n",
              "                        <td id=\"T_a2de111a_3d83_11eb_84d7_0242ac1c0002row11_col7\" class=\"data row11 col7\" >0.2451</td>\n",
              "                        <td id=\"T_a2de111a_3d83_11eb_84d7_0242ac1c0002row11_col8\" class=\"data row11 col8\" >0.0493</td>\n",
              "                        <td id=\"T_a2de111a_3d83_11eb_84d7_0242ac1c0002row11_col9\" class=\"data row11 col9\" >-0.02727</td>\n",
              "                        <td id=\"T_a2de111a_3d83_11eb_84d7_0242ac1c0002row11_col10\" class=\"data row11 col10\" >-0.02568</td>\n",
              "                        <td id=\"T_a2de111a_3d83_11eb_84d7_0242ac1c0002row11_col11\" class=\"data row11 col11\" >1.0</td>\n",
              "                        <td id=\"T_a2de111a_3d83_11eb_84d7_0242ac1c0002row11_col12\" class=\"data row11 col12\" >0.1472</td>\n",
              "                        <td id=\"T_a2de111a_3d83_11eb_84d7_0242ac1c0002row11_col13\" class=\"data row11 col13\" >0.2656</td>\n",
              "                        <td id=\"T_a2de111a_3d83_11eb_84d7_0242ac1c0002row11_col14\" class=\"data row11 col14\" >0.02265</td>\n",
              "                        <td id=\"T_a2de111a_3d83_11eb_84d7_0242ac1c0002row11_col15\" class=\"data row11 col15\" >0.00999</td>\n",
              "                        <td id=\"T_a2de111a_3d83_11eb_84d7_0242ac1c0002row11_col16\" class=\"data row11 col16\" >0.08963</td>\n",
              "                        <td id=\"T_a2de111a_3d83_11eb_84d7_0242ac1c0002row11_col17\" class=\"data row11 col17\" >0.01265</td>\n",
              "                        <td id=\"T_a2de111a_3d83_11eb_84d7_0242ac1c0002row11_col18\" class=\"data row11 col18\" >0.04264</td>\n",
              "                        <td id=\"T_a2de111a_3d83_11eb_84d7_0242ac1c0002row11_col19\" class=\"data row11 col19\" >0.09536</td>\n",
              "                        <td id=\"T_a2de111a_3d83_11eb_84d7_0242ac1c0002row11_col20\" class=\"data row11 col20\" >-0.03969</td>\n",
              "            </tr>\n",
              "            <tr>\n",
              "                        <th id=\"T_a2de111a_3d83_11eb_84d7_0242ac1c0002level0_row12\" class=\"row_heading level0 row12\" >Most valuable available asset</th>\n",
              "                        <td id=\"T_a2de111a_3d83_11eb_84d7_0242ac1c0002row12_col0\" class=\"data row12 col0\" >-0.1426</td>\n",
              "                        <td id=\"T_a2de111a_3d83_11eb_84d7_0242ac1c0002row12_col1\" class=\"data row12 col1\" >-0.03226</td>\n",
              "                        <td id=\"T_a2de111a_3d83_11eb_84d7_0242ac1c0002row12_col2\" class=\"data row12 col2\" >0.304</td>\n",
              "                        <td id=\"T_a2de111a_3d83_11eb_84d7_0242ac1c0002row12_col3\" class=\"data row12 col3\" >-0.05378</td>\n",
              "                        <td id=\"T_a2de111a_3d83_11eb_84d7_0242ac1c0002row12_col4\" class=\"data row12 col4\" >0.01097</td>\n",
              "                        <td id=\"T_a2de111a_3d83_11eb_84d7_0242ac1c0002row12_col5\" class=\"data row12 col5\" >0.3116</td>\n",
              "                        <td id=\"T_a2de111a_3d83_11eb_84d7_0242ac1c0002row12_col6\" class=\"data row12 col6\" >0.01895</td>\n",
              "                        <td id=\"T_a2de111a_3d83_11eb_84d7_0242ac1c0002row12_col7\" class=\"data row12 col7\" >0.08719</td>\n",
              "                        <td id=\"T_a2de111a_3d83_11eb_84d7_0242ac1c0002row12_col8\" class=\"data row12 col8\" >0.05339</td>\n",
              "                        <td id=\"T_a2de111a_3d83_11eb_84d7_0242ac1c0002row12_col9\" class=\"data row12 col9\" >-0.00694</td>\n",
              "                        <td id=\"T_a2de111a_3d83_11eb_84d7_0242ac1c0002row12_col10\" class=\"data row12 col10\" >-0.1555</td>\n",
              "                        <td id=\"T_a2de111a_3d83_11eb_84d7_0242ac1c0002row12_col11\" class=\"data row12 col11\" >0.1472</td>\n",
              "                        <td id=\"T_a2de111a_3d83_11eb_84d7_0242ac1c0002row12_col12\" class=\"data row12 col12\" >1.0</td>\n",
              "                        <td id=\"T_a2de111a_3d83_11eb_84d7_0242ac1c0002row12_col13\" class=\"data row12 col13\" >0.07455</td>\n",
              "                        <td id=\"T_a2de111a_3d83_11eb_84d7_0242ac1c0002row12_col14\" class=\"data row12 col14\" >-0.1076</td>\n",
              "                        <td id=\"T_a2de111a_3d83_11eb_84d7_0242ac1c0002row12_col15\" class=\"data row12 col15\" >0.343</td>\n",
              "                        <td id=\"T_a2de111a_3d83_11eb_84d7_0242ac1c0002row12_col16\" class=\"data row12 col16\" >-0.007765</td>\n",
              "                        <td id=\"T_a2de111a_3d83_11eb_84d7_0242ac1c0002row12_col17\" class=\"data row12 col17\" >0.2761</td>\n",
              "                        <td id=\"T_a2de111a_3d83_11eb_84d7_0242ac1c0002row12_col18\" class=\"data row12 col18\" >0.01187</td>\n",
              "                        <td id=\"T_a2de111a_3d83_11eb_84d7_0242ac1c0002row12_col19\" class=\"data row12 col19\" >0.1968</td>\n",
              "                        <td id=\"T_a2de111a_3d83_11eb_84d7_0242ac1c0002row12_col20\" class=\"data row12 col20\" >-0.1325</td>\n",
              "            </tr>\n",
              "            <tr>\n",
              "                        <th id=\"T_a2de111a_3d83_11eb_84d7_0242ac1c0002level0_row13\" class=\"row_heading level0 row13\" >Age (years)</th>\n",
              "                        <td id=\"T_a2de111a_3d83_11eb_84d7_0242ac1c0002row13_col0\" class=\"data row13 col0\" >0.09127</td>\n",
              "                        <td id=\"T_a2de111a_3d83_11eb_84d7_0242ac1c0002row13_col1\" class=\"data row13 col1\" >0.05863</td>\n",
              "                        <td id=\"T_a2de111a_3d83_11eb_84d7_0242ac1c0002row13_col2\" class=\"data row13 col2\" >-0.03755</td>\n",
              "                        <td id=\"T_a2de111a_3d83_11eb_84d7_0242ac1c0002row13_col3\" class=\"data row13 col3\" >0.1463</td>\n",
              "                        <td id=\"T_a2de111a_3d83_11eb_84d7_0242ac1c0002row13_col4\" class=\"data row13 col4\" >-0.0008924</td>\n",
              "                        <td id=\"T_a2de111a_3d83_11eb_84d7_0242ac1c0002row13_col5\" class=\"data row13 col5\" >0.03227</td>\n",
              "                        <td id=\"T_a2de111a_3d83_11eb_84d7_0242ac1c0002row13_col6\" class=\"data row13 col6\" >0.08343</td>\n",
              "                        <td id=\"T_a2de111a_3d83_11eb_84d7_0242ac1c0002row13_col7\" class=\"data row13 col7\" >0.2591</td>\n",
              "                        <td id=\"T_a2de111a_3d83_11eb_84d7_0242ac1c0002row13_col8\" class=\"data row13 col8\" >0.05727</td>\n",
              "                        <td id=\"T_a2de111a_3d83_11eb_84d7_0242ac1c0002row13_col9\" class=\"data row13 col9\" >0.00515</td>\n",
              "                        <td id=\"T_a2de111a_3d83_11eb_84d7_0242ac1c0002row13_col10\" class=\"data row13 col10\" >-0.02983</td>\n",
              "                        <td id=\"T_a2de111a_3d83_11eb_84d7_0242ac1c0002row13_col11\" class=\"data row13 col11\" >0.2656</td>\n",
              "                        <td id=\"T_a2de111a_3d83_11eb_84d7_0242ac1c0002row13_col12\" class=\"data row13 col12\" >0.07455</td>\n",
              "                        <td id=\"T_a2de111a_3d83_11eb_84d7_0242ac1c0002row13_col13\" class=\"data row13 col13\" >1.0</td>\n",
              "                        <td id=\"T_a2de111a_3d83_11eb_84d7_0242ac1c0002row13_col14\" class=\"data row13 col14\" >-0.03047</td>\n",
              "                        <td id=\"T_a2de111a_3d83_11eb_84d7_0242ac1c0002row13_col15\" class=\"data row13 col15\" >0.3033</td>\n",
              "                        <td id=\"T_a2de111a_3d83_11eb_84d7_0242ac1c0002row13_col16\" class=\"data row13 col16\" >0.1507</td>\n",
              "                        <td id=\"T_a2de111a_3d83_11eb_84d7_0242ac1c0002row13_col17\" class=\"data row13 col17\" >0.01538</td>\n",
              "                        <td id=\"T_a2de111a_3d83_11eb_84d7_0242ac1c0002row13_col18\" class=\"data row13 col18\" >0.1186</td>\n",
              "                        <td id=\"T_a2de111a_3d83_11eb_84d7_0242ac1c0002row13_col19\" class=\"data row13 col19\" >0.1435</td>\n",
              "                        <td id=\"T_a2de111a_3d83_11eb_84d7_0242ac1c0002row13_col20\" class=\"data row13 col20\" >0.01398</td>\n",
              "            </tr>\n",
              "            <tr>\n",
              "                        <th id=\"T_a2de111a_3d83_11eb_84d7_0242ac1c0002level0_row14\" class=\"row_heading level0 row14\" >Concurrent Credits</th>\n",
              "                        <td id=\"T_a2de111a_3d83_11eb_84d7_0242ac1c0002row14_col0\" class=\"data row14 col0\" >0.1098</td>\n",
              "                        <td id=\"T_a2de111a_3d83_11eb_84d7_0242ac1c0002row14_col1\" class=\"data row14 col1\" >0.06827</td>\n",
              "                        <td id=\"T_a2de111a_3d83_11eb_84d7_0242ac1c0002row14_col2\" class=\"data row14 col2\" >-0.06288</td>\n",
              "                        <td id=\"T_a2de111a_3d83_11eb_84d7_0242ac1c0002row14_col3\" class=\"data row14 col3\" >0.16</td>\n",
              "                        <td id=\"T_a2de111a_3d83_11eb_84d7_0242ac1c0002row14_col4\" class=\"data row14 col4\" >-0.1002</td>\n",
              "                        <td id=\"T_a2de111a_3d83_11eb_84d7_0242ac1c0002row14_col5\" class=\"data row14 col5\" >-0.06939</td>\n",
              "                        <td id=\"T_a2de111a_3d83_11eb_84d7_0242ac1c0002row14_col6\" class=\"data row14 col6\" >0.001908</td>\n",
              "                        <td id=\"T_a2de111a_3d83_11eb_84d7_0242ac1c0002row14_col7\" class=\"data row14 col7\" >-0.007279</td>\n",
              "                        <td id=\"T_a2de111a_3d83_11eb_84d7_0242ac1c0002row14_col8\" class=\"data row14 col8\" >0.007894</td>\n",
              "                        <td id=\"T_a2de111a_3d83_11eb_84d7_0242ac1c0002row14_col9\" class=\"data row14 col9\" >-0.02675</td>\n",
              "                        <td id=\"T_a2de111a_3d83_11eb_84d7_0242ac1c0002row14_col10\" class=\"data row14 col10\" >-0.03824</td>\n",
              "                        <td id=\"T_a2de111a_3d83_11eb_84d7_0242ac1c0002row14_col11\" class=\"data row14 col11\" >0.02265</td>\n",
              "                        <td id=\"T_a2de111a_3d83_11eb_84d7_0242ac1c0002row14_col12\" class=\"data row14 col12\" >-0.1076</td>\n",
              "                        <td id=\"T_a2de111a_3d83_11eb_84d7_0242ac1c0002row14_col13\" class=\"data row14 col13\" >-0.03047</td>\n",
              "                        <td id=\"T_a2de111a_3d83_11eb_84d7_0242ac1c0002row14_col14\" class=\"data row14 col14\" >1.0</td>\n",
              "                        <td id=\"T_a2de111a_3d83_11eb_84d7_0242ac1c0002row14_col15\" class=\"data row14 col15\" >-0.0974</td>\n",
              "                        <td id=\"T_a2de111a_3d83_11eb_84d7_0242ac1c0002row14_col16\" class=\"data row14 col16\" >-0.05581</td>\n",
              "                        <td id=\"T_a2de111a_3d83_11eb_84d7_0242ac1c0002row14_col17\" class=\"data row14 col17\" >0.006077</td>\n",
              "                        <td id=\"T_a2de111a_3d83_11eb_84d7_0242ac1c0002row14_col18\" class=\"data row14 col18\" >-0.07689</td>\n",
              "                        <td id=\"T_a2de111a_3d83_11eb_84d7_0242ac1c0002row14_col19\" class=\"data row14 col19\" >-0.02514</td>\n",
              "                        <td id=\"T_a2de111a_3d83_11eb_84d7_0242ac1c0002row14_col20\" class=\"data row14 col20\" >0.0077</td>\n",
              "            </tr>\n",
              "            <tr>\n",
              "                        <th id=\"T_a2de111a_3d83_11eb_84d7_0242ac1c0002level0_row15\" class=\"row_heading level0 row15\" >Type of apartment</th>\n",
              "                        <td id=\"T_a2de111a_3d83_11eb_84d7_0242ac1c0002row15_col0\" class=\"data row15 col0\" >0.01812</td>\n",
              "                        <td id=\"T_a2de111a_3d83_11eb_84d7_0242ac1c0002row15_col1\" class=\"data row15 col1\" >0.02334</td>\n",
              "                        <td id=\"T_a2de111a_3d83_11eb_84d7_0242ac1c0002row15_col2\" class=\"data row15 col2\" >0.1531</td>\n",
              "                        <td id=\"T_a2de111a_3d83_11eb_84d7_0242ac1c0002row15_col3\" class=\"data row15 col3\" >0.06143</td>\n",
              "                        <td id=\"T_a2de111a_3d83_11eb_84d7_0242ac1c0002row15_col4\" class=\"data row15 col4\" >0.01349</td>\n",
              "                        <td id=\"T_a2de111a_3d83_11eb_84d7_0242ac1c0002row15_col5\" class=\"data row15 col5\" >0.133</td>\n",
              "                        <td id=\"T_a2de111a_3d83_11eb_84d7_0242ac1c0002row15_col6\" class=\"data row15 col6\" >0.006644</td>\n",
              "                        <td id=\"T_a2de111a_3d83_11eb_84d7_0242ac1c0002row15_col7\" class=\"data row15 col7\" >0.1151</td>\n",
              "                        <td id=\"T_a2de111a_3d83_11eb_84d7_0242ac1c0002row15_col8\" class=\"data row15 col8\" >0.09123</td>\n",
              "                        <td id=\"T_a2de111a_3d83_11eb_84d7_0242ac1c0002row15_col9\" class=\"data row15 col9\" >0.09893</td>\n",
              "                        <td id=\"T_a2de111a_3d83_11eb_84d7_0242ac1c0002row15_col10\" class=\"data row15 col10\" >-0.06545</td>\n",
              "                        <td id=\"T_a2de111a_3d83_11eb_84d7_0242ac1c0002row15_col11\" class=\"data row15 col11\" >0.00999</td>\n",
              "                        <td id=\"T_a2de111a_3d83_11eb_84d7_0242ac1c0002row15_col12\" class=\"data row15 col12\" >0.343</td>\n",
              "                        <td id=\"T_a2de111a_3d83_11eb_84d7_0242ac1c0002row15_col13\" class=\"data row15 col13\" >0.3033</td>\n",
              "                        <td id=\"T_a2de111a_3d83_11eb_84d7_0242ac1c0002row15_col14\" class=\"data row15 col14\" >-0.0974</td>\n",
              "                        <td id=\"T_a2de111a_3d83_11eb_84d7_0242ac1c0002row15_col15\" class=\"data row15 col15\" >1.0</td>\n",
              "                        <td id=\"T_a2de111a_3d83_11eb_84d7_0242ac1c0002row15_col16\" class=\"data row15 col16\" >0.05002</td>\n",
              "                        <td id=\"T_a2de111a_3d83_11eb_84d7_0242ac1c0002row15_col17\" class=\"data row15 col17\" >0.1042</td>\n",
              "                        <td id=\"T_a2de111a_3d83_11eb_84d7_0242ac1c0002row15_col18\" class=\"data row15 col18\" >0.1155</td>\n",
              "                        <td id=\"T_a2de111a_3d83_11eb_84d7_0242ac1c0002row15_col19\" class=\"data row15 col19\" >0.1003</td>\n",
              "                        <td id=\"T_a2de111a_3d83_11eb_84d7_0242ac1c0002row15_col20\" class=\"data row15 col20\" >-0.08334</td>\n",
              "            </tr>\n",
              "            <tr>\n",
              "                        <th id=\"T_a2de111a_3d83_11eb_84d7_0242ac1c0002level0_row16\" class=\"row_heading level0 row16\" >No of Credits at this Bank</th>\n",
              "                        <td id=\"T_a2de111a_3d83_11eb_84d7_0242ac1c0002row16_col0\" class=\"data row16 col0\" >0.04573</td>\n",
              "                        <td id=\"T_a2de111a_3d83_11eb_84d7_0242ac1c0002row16_col1\" class=\"data row16 col1\" >0.07601</td>\n",
              "                        <td id=\"T_a2de111a_3d83_11eb_84d7_0242ac1c0002row16_col2\" class=\"data row16 col2\" >-0.01128</td>\n",
              "                        <td id=\"T_a2de111a_3d83_11eb_84d7_0242ac1c0002row16_col3\" class=\"data row16 col3\" >0.4371</td>\n",
              "                        <td id=\"T_a2de111a_3d83_11eb_84d7_0242ac1c0002row16_col4\" class=\"data row16 col4\" >0.05494</td>\n",
              "                        <td id=\"T_a2de111a_3d83_11eb_84d7_0242ac1c0002row16_col5\" class=\"data row16 col5\" >0.02079</td>\n",
              "                        <td id=\"T_a2de111a_3d83_11eb_84d7_0242ac1c0002row16_col6\" class=\"data row16 col6\" >-0.02164</td>\n",
              "                        <td id=\"T_a2de111a_3d83_11eb_84d7_0242ac1c0002row16_col7\" class=\"data row16 col7\" >0.1258</td>\n",
              "                        <td id=\"T_a2de111a_3d83_11eb_84d7_0242ac1c0002row16_col8\" class=\"data row16 col8\" >0.02167</td>\n",
              "                        <td id=\"T_a2de111a_3d83_11eb_84d7_0242ac1c0002row16_col9\" class=\"data row16 col9\" >0.06467</td>\n",
              "                        <td id=\"T_a2de111a_3d83_11eb_84d7_0242ac1c0002row16_col10\" class=\"data row16 col10\" >-0.02545</td>\n",
              "                        <td id=\"T_a2de111a_3d83_11eb_84d7_0242ac1c0002row16_col11\" class=\"data row16 col11\" >0.08963</td>\n",
              "                        <td id=\"T_a2de111a_3d83_11eb_84d7_0242ac1c0002row16_col12\" class=\"data row16 col12\" >-0.007765</td>\n",
              "                        <td id=\"T_a2de111a_3d83_11eb_84d7_0242ac1c0002row16_col13\" class=\"data row16 col13\" >0.1507</td>\n",
              "                        <td id=\"T_a2de111a_3d83_11eb_84d7_0242ac1c0002row16_col14\" class=\"data row16 col14\" >-0.05581</td>\n",
              "                        <td id=\"T_a2de111a_3d83_11eb_84d7_0242ac1c0002row16_col15\" class=\"data row16 col15\" >0.05002</td>\n",
              "                        <td id=\"T_a2de111a_3d83_11eb_84d7_0242ac1c0002row16_col16\" class=\"data row16 col16\" >1.0</td>\n",
              "                        <td id=\"T_a2de111a_3d83_11eb_84d7_0242ac1c0002row16_col17\" class=\"data row16 col17\" >-0.02632</td>\n",
              "                        <td id=\"T_a2de111a_3d83_11eb_84d7_0242ac1c0002row16_col18\" class=\"data row16 col18\" >0.1097</td>\n",
              "                        <td id=\"T_a2de111a_3d83_11eb_84d7_0242ac1c0002row16_col19\" class=\"data row16 col19\" >0.06555</td>\n",
              "                        <td id=\"T_a2de111a_3d83_11eb_84d7_0242ac1c0002row16_col20\" class=\"data row16 col20\" >-0.01889</td>\n",
              "            </tr>\n",
              "            <tr>\n",
              "                        <th id=\"T_a2de111a_3d83_11eb_84d7_0242ac1c0002level0_row17\" class=\"row_heading level0 row17\" >Occupation</th>\n",
              "                        <td id=\"T_a2de111a_3d83_11eb_84d7_0242ac1c0002row17_col0\" class=\"data row17 col0\" >-0.03274</td>\n",
              "                        <td id=\"T_a2de111a_3d83_11eb_84d7_0242ac1c0002row17_col1\" class=\"data row17 col1\" >0.04066</td>\n",
              "                        <td id=\"T_a2de111a_3d83_11eb_84d7_0242ac1c0002row17_col2\" class=\"data row17 col2\" >0.2109</td>\n",
              "                        <td id=\"T_a2de111a_3d83_11eb_84d7_0242ac1c0002row17_col3\" class=\"data row17 col3\" >0.01035</td>\n",
              "                        <td id=\"T_a2de111a_3d83_11eb_84d7_0242ac1c0002row17_col4\" class=\"data row17 col4\" >0.008085</td>\n",
              "                        <td id=\"T_a2de111a_3d83_11eb_84d7_0242ac1c0002row17_col5\" class=\"data row17 col5\" >0.2854</td>\n",
              "                        <td id=\"T_a2de111a_3d83_11eb_84d7_0242ac1c0002row17_col6\" class=\"data row17 col6\" >0.01171</td>\n",
              "                        <td id=\"T_a2de111a_3d83_11eb_84d7_0242ac1c0002row17_col7\" class=\"data row17 col7\" >0.1012</td>\n",
              "                        <td id=\"T_a2de111a_3d83_11eb_84d7_0242ac1c0002row17_col8\" class=\"data row17 col8\" >0.09776</td>\n",
              "                        <td id=\"T_a2de111a_3d83_11eb_84d7_0242ac1c0002row17_col9\" class=\"data row17 col9\" >-0.01196</td>\n",
              "                        <td id=\"T_a2de111a_3d83_11eb_84d7_0242ac1c0002row17_col10\" class=\"data row17 col10\" >-0.05796</td>\n",
              "                        <td id=\"T_a2de111a_3d83_11eb_84d7_0242ac1c0002row17_col11\" class=\"data row17 col11\" >0.01265</td>\n",
              "                        <td id=\"T_a2de111a_3d83_11eb_84d7_0242ac1c0002row17_col12\" class=\"data row17 col12\" >0.2761</td>\n",
              "                        <td id=\"T_a2de111a_3d83_11eb_84d7_0242ac1c0002row17_col13\" class=\"data row17 col13\" >0.01538</td>\n",
              "                        <td id=\"T_a2de111a_3d83_11eb_84d7_0242ac1c0002row17_col14\" class=\"data row17 col14\" >0.006077</td>\n",
              "                        <td id=\"T_a2de111a_3d83_11eb_84d7_0242ac1c0002row17_col15\" class=\"data row17 col15\" >0.1042</td>\n",
              "                        <td id=\"T_a2de111a_3d83_11eb_84d7_0242ac1c0002row17_col16\" class=\"data row17 col16\" >-0.02632</td>\n",
              "                        <td id=\"T_a2de111a_3d83_11eb_84d7_0242ac1c0002row17_col17\" class=\"data row17 col17\" >1.0</td>\n",
              "                        <td id=\"T_a2de111a_3d83_11eb_84d7_0242ac1c0002row17_col18\" class=\"data row17 col18\" >-0.09356</td>\n",
              "                        <td id=\"T_a2de111a_3d83_11eb_84d7_0242ac1c0002row17_col19\" class=\"data row17 col19\" >0.383</td>\n",
              "                        <td id=\"T_a2de111a_3d83_11eb_84d7_0242ac1c0002row17_col20\" class=\"data row17 col20\" >-0.09283</td>\n",
              "            </tr>\n",
              "            <tr>\n",
              "                        <th id=\"T_a2de111a_3d83_11eb_84d7_0242ac1c0002level0_row18\" class=\"row_heading level0 row18\" >No of dependents</th>\n",
              "                        <td id=\"T_a2de111a_3d83_11eb_84d7_0242ac1c0002row18_col0\" class=\"data row18 col0\" >0.003015</td>\n",
              "                        <td id=\"T_a2de111a_3d83_11eb_84d7_0242ac1c0002row18_col1\" class=\"data row18 col1\" >-0.01415</td>\n",
              "                        <td id=\"T_a2de111a_3d83_11eb_84d7_0242ac1c0002row18_col2\" class=\"data row18 col2\" >-0.02383</td>\n",
              "                        <td id=\"T_a2de111a_3d83_11eb_84d7_0242ac1c0002row18_col3\" class=\"data row18 col3\" >0.01155</td>\n",
              "                        <td id=\"T_a2de111a_3d83_11eb_84d7_0242ac1c0002row18_col4\" class=\"data row18 col4\" >-0.03258</td>\n",
              "                        <td id=\"T_a2de111a_3d83_11eb_84d7_0242ac1c0002row18_col5\" class=\"data row18 col5\" >0.01714</td>\n",
              "                        <td id=\"T_a2de111a_3d83_11eb_84d7_0242ac1c0002row18_col6\" class=\"data row18 col6\" >0.02751</td>\n",
              "                        <td id=\"T_a2de111a_3d83_11eb_84d7_0242ac1c0002row18_col7\" class=\"data row18 col7\" >0.09719</td>\n",
              "                        <td id=\"T_a2de111a_3d83_11eb_84d7_0242ac1c0002row18_col8\" class=\"data row18 col8\" >-0.07121</td>\n",
              "                        <td id=\"T_a2de111a_3d83_11eb_84d7_0242ac1c0002row18_col9\" class=\"data row18 col9\" >0.1222</td>\n",
              "                        <td id=\"T_a2de111a_3d83_11eb_84d7_0242ac1c0002row18_col10\" class=\"data row18 col10\" >0.0204</td>\n",
              "                        <td id=\"T_a2de111a_3d83_11eb_84d7_0242ac1c0002row18_col11\" class=\"data row18 col11\" >0.04264</td>\n",
              "                        <td id=\"T_a2de111a_3d83_11eb_84d7_0242ac1c0002row18_col12\" class=\"data row18 col12\" >0.01187</td>\n",
              "                        <td id=\"T_a2de111a_3d83_11eb_84d7_0242ac1c0002row18_col13\" class=\"data row18 col13\" >0.1186</td>\n",
              "                        <td id=\"T_a2de111a_3d83_11eb_84d7_0242ac1c0002row18_col14\" class=\"data row18 col14\" >-0.07689</td>\n",
              "                        <td id=\"T_a2de111a_3d83_11eb_84d7_0242ac1c0002row18_col15\" class=\"data row18 col15\" >0.1155</td>\n",
              "                        <td id=\"T_a2de111a_3d83_11eb_84d7_0242ac1c0002row18_col16\" class=\"data row18 col16\" >0.1097</td>\n",
              "                        <td id=\"T_a2de111a_3d83_11eb_84d7_0242ac1c0002row18_col17\" class=\"data row18 col17\" >-0.09356</td>\n",
              "                        <td id=\"T_a2de111a_3d83_11eb_84d7_0242ac1c0002row18_col18\" class=\"data row18 col18\" >1.0</td>\n",
              "                        <td id=\"T_a2de111a_3d83_11eb_84d7_0242ac1c0002row18_col19\" class=\"data row18 col19\" >-0.01475</td>\n",
              "                        <td id=\"T_a2de111a_3d83_11eb_84d7_0242ac1c0002row18_col20\" class=\"data row18 col20\" >0.07707</td>\n",
              "            </tr>\n",
              "            <tr>\n",
              "                        <th id=\"T_a2de111a_3d83_11eb_84d7_0242ac1c0002level0_row19\" class=\"row_heading level0 row19\" >Telephone</th>\n",
              "                        <td id=\"T_a2de111a_3d83_11eb_84d7_0242ac1c0002row19_col0\" class=\"data row19 col0\" >0.03647</td>\n",
              "                        <td id=\"T_a2de111a_3d83_11eb_84d7_0242ac1c0002row19_col1\" class=\"data row19 col1\" >0.0663</td>\n",
              "                        <td id=\"T_a2de111a_3d83_11eb_84d7_0242ac1c0002row19_col2\" class=\"data row19 col2\" >0.1647</td>\n",
              "                        <td id=\"T_a2de111a_3d83_11eb_84d7_0242ac1c0002row19_col3\" class=\"data row19 col3\" >0.05237</td>\n",
              "                        <td id=\"T_a2de111a_3d83_11eb_84d7_0242ac1c0002row19_col4\" class=\"data row19 col4\" >0.07837</td>\n",
              "                        <td id=\"T_a2de111a_3d83_11eb_84d7_0242ac1c0002row19_col5\" class=\"data row19 col5\" >0.277</td>\n",
              "                        <td id=\"T_a2de111a_3d83_11eb_84d7_0242ac1c0002row19_col6\" class=\"data row19 col6\" >0.08721</td>\n",
              "                        <td id=\"T_a2de111a_3d83_11eb_84d7_0242ac1c0002row19_col7\" class=\"data row19 col7\" >0.06052</td>\n",
              "                        <td id=\"T_a2de111a_3d83_11eb_84d7_0242ac1c0002row19_col8\" class=\"data row19 col8\" >0.01441</td>\n",
              "                        <td id=\"T_a2de111a_3d83_11eb_84d7_0242ac1c0002row19_col9\" class=\"data row19 col9\" >0.02727</td>\n",
              "                        <td id=\"T_a2de111a_3d83_11eb_84d7_0242ac1c0002row19_col10\" class=\"data row19 col10\" >-0.07503</td>\n",
              "                        <td id=\"T_a2de111a_3d83_11eb_84d7_0242ac1c0002row19_col11\" class=\"data row19 col11\" >0.09536</td>\n",
              "                        <td id=\"T_a2de111a_3d83_11eb_84d7_0242ac1c0002row19_col12\" class=\"data row19 col12\" >0.1968</td>\n",
              "                        <td id=\"T_a2de111a_3d83_11eb_84d7_0242ac1c0002row19_col13\" class=\"data row19 col13\" >0.1435</td>\n",
              "                        <td id=\"T_a2de111a_3d83_11eb_84d7_0242ac1c0002row19_col14\" class=\"data row19 col14\" >-0.02514</td>\n",
              "                        <td id=\"T_a2de111a_3d83_11eb_84d7_0242ac1c0002row19_col15\" class=\"data row19 col15\" >0.1003</td>\n",
              "                        <td id=\"T_a2de111a_3d83_11eb_84d7_0242ac1c0002row19_col16\" class=\"data row19 col16\" >0.06555</td>\n",
              "                        <td id=\"T_a2de111a_3d83_11eb_84d7_0242ac1c0002row19_col17\" class=\"data row19 col17\" >0.383</td>\n",
              "                        <td id=\"T_a2de111a_3d83_11eb_84d7_0242ac1c0002row19_col18\" class=\"data row19 col18\" >-0.01475</td>\n",
              "                        <td id=\"T_a2de111a_3d83_11eb_84d7_0242ac1c0002row19_col19\" class=\"data row19 col19\" >1.0</td>\n",
              "                        <td id=\"T_a2de111a_3d83_11eb_84d7_0242ac1c0002row19_col20\" class=\"data row19 col20\" >-0.07501</td>\n",
              "            </tr>\n",
              "            <tr>\n",
              "                        <th id=\"T_a2de111a_3d83_11eb_84d7_0242ac1c0002level0_row20\" class=\"row_heading level0 row20\" >Foreign Worker</th>\n",
              "                        <td id=\"T_a2de111a_3d83_11eb_84d7_0242ac1c0002row20_col0\" class=\"data row20 col0\" >0.08208</td>\n",
              "                        <td id=\"T_a2de111a_3d83_11eb_84d7_0242ac1c0002row20_col1\" class=\"data row20 col1\" >-0.03519</td>\n",
              "                        <td id=\"T_a2de111a_3d83_11eb_84d7_0242ac1c0002row20_col2\" class=\"data row20 col2\" >-0.1347</td>\n",
              "                        <td id=\"T_a2de111a_3d83_11eb_84d7_0242ac1c0002row20_col3\" class=\"data row20 col3\" >0.02855</td>\n",
              "                        <td id=\"T_a2de111a_3d83_11eb_84d7_0242ac1c0002row20_col4\" class=\"data row20 col4\" >-0.1132</td>\n",
              "                        <td id=\"T_a2de111a_3d83_11eb_84d7_0242ac1c0002row20_col5\" class=\"data row20 col5\" >-0.03066</td>\n",
              "                        <td id=\"T_a2de111a_3d83_11eb_84d7_0242ac1c0002row20_col6\" class=\"data row20 col6\" >0.01045</td>\n",
              "                        <td id=\"T_a2de111a_3d83_11eb_84d7_0242ac1c0002row20_col7\" class=\"data row20 col7\" >-0.02285</td>\n",
              "                        <td id=\"T_a2de111a_3d83_11eb_84d7_0242ac1c0002row20_col8\" class=\"data row20 col8\" >-0.09476</td>\n",
              "                        <td id=\"T_a2de111a_3d83_11eb_84d7_0242ac1c0002row20_col9\" class=\"data row20 col9\" >0.0731</td>\n",
              "                        <td id=\"T_a2de111a_3d83_11eb_84d7_0242ac1c0002row20_col10\" class=\"data row20 col10\" >0.1402</td>\n",
              "                        <td id=\"T_a2de111a_3d83_11eb_84d7_0242ac1c0002row20_col11\" class=\"data row20 col11\" >-0.03969</td>\n",
              "                        <td id=\"T_a2de111a_3d83_11eb_84d7_0242ac1c0002row20_col12\" class=\"data row20 col12\" >-0.1325</td>\n",
              "                        <td id=\"T_a2de111a_3d83_11eb_84d7_0242ac1c0002row20_col13\" class=\"data row20 col13\" >0.01398</td>\n",
              "                        <td id=\"T_a2de111a_3d83_11eb_84d7_0242ac1c0002row20_col14\" class=\"data row20 col14\" >0.0077</td>\n",
              "                        <td id=\"T_a2de111a_3d83_11eb_84d7_0242ac1c0002row20_col15\" class=\"data row20 col15\" >-0.08334</td>\n",
              "                        <td id=\"T_a2de111a_3d83_11eb_84d7_0242ac1c0002row20_col16\" class=\"data row20 col16\" >-0.01889</td>\n",
              "                        <td id=\"T_a2de111a_3d83_11eb_84d7_0242ac1c0002row20_col17\" class=\"data row20 col17\" >-0.09283</td>\n",
              "                        <td id=\"T_a2de111a_3d83_11eb_84d7_0242ac1c0002row20_col18\" class=\"data row20 col18\" >0.07707</td>\n",
              "                        <td id=\"T_a2de111a_3d83_11eb_84d7_0242ac1c0002row20_col19\" class=\"data row20 col19\" >-0.07501</td>\n",
              "                        <td id=\"T_a2de111a_3d83_11eb_84d7_0242ac1c0002row20_col20\" class=\"data row20 col20\" >1.0</td>\n",
              "            </tr>\n",
              "    </tbody></table>"
            ],
            "text/plain": [
              "<pandas.io.formats.style.Styler at 0x7f3a1116cba8>"
            ]
          },
          "metadata": {
            "tags": []
          },
          "execution_count": 18
        }
      ]
    },
    {
      "cell_type": "markdown",
      "metadata": {
        "id": "uXPhRODm23zP"
      },
      "source": [
        "For feature selection setting the Threshold=0.1 and looking for strong correlation among all variables"
      ]
    },
    {
      "cell_type": "code",
      "metadata": {
        "colab": {
          "base_uri": "https://localhost:8080/"
        },
        "id": "sf3vpxeu22WY",
        "outputId": "783fe2bc-449a-4700-c1d6-8d65e0cc0984"
      },
      "source": [
        "cor=credit_df.corr()\r\n",
        "threshold = 0.1\r\n",
        "a=abs(cor['Creditability'])\r\n",
        "result=a[a > 0.1]\r\n",
        "result"
      ],
      "execution_count": 19,
      "outputs": [
        {
          "output_type": "execute_result",
          "data": {
            "text/plain": [
              "Creditability                        1.000000\n",
              "Account Balance                      0.350847\n",
              "Duration of Credit (month)           0.214927\n",
              "Payment Status of Previous Credit    0.228785\n",
              "Credit Amount                        0.154740\n",
              "Value Savings/Stocks                 0.178943\n",
              "Length of current employment         0.116002\n",
              "Most valuable available asset        0.142612\n",
              "Concurrent Credits                   0.109844\n",
              "Name: Creditability, dtype: float64"
            ]
          },
          "metadata": {
            "tags": []
          },
          "execution_count": 19
        }
      ]
    },
    {
      "cell_type": "markdown",
      "metadata": {
        "id": "gpmUEj4m3tZ2"
      },
      "source": [
        "copying dataset"
      ]
    },
    {
      "cell_type": "code",
      "metadata": {
        "id": "9c5ADoDJ3tvM"
      },
      "source": [
        "credit_df_fs = credit_df"
      ],
      "execution_count": 20,
      "outputs": []
    },
    {
      "cell_type": "markdown",
      "metadata": {
        "id": "h9L5QMcV22IS"
      },
      "source": [
        "drop all other variable which is not strongly related with class variable"
      ]
    },
    {
      "cell_type": "code",
      "metadata": {
        "id": "-I2dNsZQ4Vim"
      },
      "source": [
        "credit_df.drop([\"Purpose\",\"Sex & Marital Status\",\"Instalment per cent\" \\\r\n",
        "          ,\"Guarantors\",\"Age (years)\",\"Duration in Current address\",\"Type of apartment\",\"No of Credits at this Bank\",\"Occupation\", \\\r\n",
        "          \"No of dependents\",\"Telephone\",\"Foreign Worker\"], axis=1, inplace=True)"
      ],
      "execution_count": 21,
      "outputs": []
    },
    {
      "cell_type": "code",
      "metadata": {
        "colab": {
          "base_uri": "https://localhost:8080/",
          "height": 212
        },
        "id": "-Lc4u1Kq4buI",
        "outputId": "05d02039-623a-4a9b-bc59-f1dfcd6daabf"
      },
      "source": [
        "credit_df.head()"
      ],
      "execution_count": 73,
      "outputs": [
        {
          "output_type": "execute_result",
          "data": {
            "text/html": [
              "<div>\n",
              "<style scoped>\n",
              "    .dataframe tbody tr th:only-of-type {\n",
              "        vertical-align: middle;\n",
              "    }\n",
              "\n",
              "    .dataframe tbody tr th {\n",
              "        vertical-align: top;\n",
              "    }\n",
              "\n",
              "    .dataframe thead th {\n",
              "        text-align: right;\n",
              "    }\n",
              "</style>\n",
              "<table border=\"1\" class=\"dataframe\">\n",
              "  <thead>\n",
              "    <tr style=\"text-align: right;\">\n",
              "      <th></th>\n",
              "      <th>Creditability</th>\n",
              "      <th>Account Balance</th>\n",
              "      <th>Duration of Credit (month)</th>\n",
              "      <th>Payment Status of Previous Credit</th>\n",
              "      <th>Credit Amount</th>\n",
              "      <th>Value Savings/Stocks</th>\n",
              "      <th>Length of current employment</th>\n",
              "      <th>Most valuable available asset</th>\n",
              "      <th>Concurrent Credits</th>\n",
              "    </tr>\n",
              "  </thead>\n",
              "  <tbody>\n",
              "    <tr>\n",
              "      <th>0</th>\n",
              "      <td>1</td>\n",
              "      <td>1</td>\n",
              "      <td>18</td>\n",
              "      <td>4</td>\n",
              "      <td>1049</td>\n",
              "      <td>1</td>\n",
              "      <td>2</td>\n",
              "      <td>2</td>\n",
              "      <td>3</td>\n",
              "    </tr>\n",
              "    <tr>\n",
              "      <th>1</th>\n",
              "      <td>1</td>\n",
              "      <td>1</td>\n",
              "      <td>9</td>\n",
              "      <td>4</td>\n",
              "      <td>2799</td>\n",
              "      <td>1</td>\n",
              "      <td>3</td>\n",
              "      <td>1</td>\n",
              "      <td>3</td>\n",
              "    </tr>\n",
              "    <tr>\n",
              "      <th>2</th>\n",
              "      <td>1</td>\n",
              "      <td>2</td>\n",
              "      <td>12</td>\n",
              "      <td>2</td>\n",
              "      <td>841</td>\n",
              "      <td>2</td>\n",
              "      <td>4</td>\n",
              "      <td>1</td>\n",
              "      <td>3</td>\n",
              "    </tr>\n",
              "    <tr>\n",
              "      <th>3</th>\n",
              "      <td>1</td>\n",
              "      <td>1</td>\n",
              "      <td>12</td>\n",
              "      <td>4</td>\n",
              "      <td>2122</td>\n",
              "      <td>1</td>\n",
              "      <td>3</td>\n",
              "      <td>1</td>\n",
              "      <td>3</td>\n",
              "    </tr>\n",
              "    <tr>\n",
              "      <th>4</th>\n",
              "      <td>1</td>\n",
              "      <td>1</td>\n",
              "      <td>12</td>\n",
              "      <td>4</td>\n",
              "      <td>2171</td>\n",
              "      <td>1</td>\n",
              "      <td>3</td>\n",
              "      <td>2</td>\n",
              "      <td>1</td>\n",
              "    </tr>\n",
              "  </tbody>\n",
              "</table>\n",
              "</div>"
            ],
            "text/plain": [
              "   Creditability  ...  Concurrent Credits\n",
              "0              1  ...                   3\n",
              "1              1  ...                   3\n",
              "2              1  ...                   3\n",
              "3              1  ...                   3\n",
              "4              1  ...                   1\n",
              "\n",
              "[5 rows x 9 columns]"
            ]
          },
          "metadata": {
            "tags": []
          },
          "execution_count": 73
        }
      ]
    },
    {
      "cell_type": "markdown",
      "metadata": {
        "id": "Hy4Jxb2g4mn9"
      },
      "source": [
        "Spliting the Data Into Training and Test with Test Size = 30%"
      ]
    },
    {
      "cell_type": "code",
      "metadata": {
        "id": "J-AYONFE4ewU"
      },
      "source": [
        "class_col_name='Creditability' \r\n",
        "feature_names=credit_df.columns[credit_df.columns != class_col_name ]\r\n",
        "\r\n",
        "X_train, X_test, y_train, y_test = train_test_split(credit_df.loc[:, feature_names], credit_df[class_col_name], test_size=0.3,random_state=1)"
      ],
      "execution_count": 23,
      "outputs": []
    },
    {
      "cell_type": "code",
      "metadata": {
        "id": "t40bwxk51Rvj"
      },
      "source": [
        "from sklearn.model_selection import train_test_split\r\n",
        "\r\n",
        "class_col_name='Creditability' \r\n",
        "feature_names=credit_df.columns[credit_df.columns != class_col_name ]\r\n",
        "\r\n",
        "X_train, X_test, y_train, y_test = train_test_split(credit_df.loc[:, feature_names], credit_df[class_col_name], test_size=0.5,random_state=1) "
      ],
      "execution_count": 22,
      "outputs": []
    },
    {
      "cell_type": "code",
      "metadata": {
        "colab": {
          "base_uri": "https://localhost:8080/"
        },
        "id": "44-ofAG45DG9",
        "outputId": "403a644d-efe7-4e17-c797-3c98cd0fa13c"
      },
      "source": [
        "print('Training Dataset', X_train.shape, y_train.shape)\r\n",
        "print('Test Dataset', X_test.shape, y_test.shape)"
      ],
      "execution_count": 23,
      "outputs": [
        {
          "output_type": "stream",
          "text": [
            "Training Dataset (500, 8) (500,)\n",
            "Test Dataset (500, 8) (500,)\n"
          ],
          "name": "stdout"
        }
      ]
    },
    {
      "cell_type": "markdown",
      "metadata": {
        "id": "ngmlbqBf5J9o"
      },
      "source": [
        "Identify Outliers in the Training Dataset"
      ]
    },
    {
      "cell_type": "code",
      "metadata": {
        "colab": {
          "base_uri": "https://localhost:8080/",
          "height": 350
        },
        "id": "HTJEGtno5LKS",
        "outputId": "1d1a330e-984a-45be-b65b-4daa0b43bf25"
      },
      "source": [
        "sns.boxplot(X_train['Credit Amount'])"
      ],
      "execution_count": 24,
      "outputs": [
        {
          "output_type": "stream",
          "text": [
            "/usr/local/lib/python3.6/dist-packages/seaborn/_decorators.py:43: FutureWarning: Pass the following variable as a keyword arg: x. From version 0.12, the only valid positional argument will be `data`, and passing other arguments without an explicit keyword will result in an error or misinterpretation.\n",
            "  FutureWarning\n"
          ],
          "name": "stderr"
        },
        {
          "output_type": "execute_result",
          "data": {
            "text/plain": [
              "<matplotlib.axes._subplots.AxesSubplot at 0x7f3a10e32c88>"
            ]
          },
          "metadata": {
            "tags": []
          },
          "execution_count": 24
        },
        {
          "output_type": "display_data",
          "data": {
            "image/png": "[encoded data removed]",
            "text/plain": [
              "<Figure size 432x288 with 1 Axes>"
            ]
          },
          "metadata": {
            "tags": [],
            "needs_background": "light"
          }
        }
      ]
    },
    {
      "cell_type": "code",
      "metadata": {
        "colab": {
          "base_uri": "https://localhost:8080/",
          "height": 350
        },
        "id": "vw76L0t95WD9",
        "outputId": "b05d63f4-7811-4263-b942-43cdbd1bfde2"
      },
      "source": [
        "sns.boxplot(X_train['Duration of Credit (month)'])"
      ],
      "execution_count": 25,
      "outputs": [
        {
          "output_type": "stream",
          "text": [
            "/usr/local/lib/python3.6/dist-packages/seaborn/_decorators.py:43: FutureWarning: Pass the following variable as a keyword arg: x. From version 0.12, the only valid positional argument will be `data`, and passing other arguments without an explicit keyword will result in an error or misinterpretation.\n",
            "  FutureWarning\n"
          ],
          "name": "stderr"
        },
        {
          "output_type": "execute_result",
          "data": {
            "text/plain": [
              "<matplotlib.axes._subplots.AxesSubplot at 0x7f3a0f55f6a0>"
            ]
          },
          "metadata": {
            "tags": []
          },
          "execution_count": 25
        },
        {
          "output_type": "display_data",
          "data": {
            "image/png": "[encoded data removed]",
            "text/plain": [
              "<Figure size 432x288 with 1 Axes>"
            ]
          },
          "metadata": {
            "tags": [],
            "needs_background": "light"
          }
        }
      ]
    },
    {
      "cell_type": "code",
      "metadata": {
        "colab": {
          "base_uri": "https://localhost:8080/",
          "height": 350
        },
        "id": "T0XhM9xZ51ms",
        "outputId": "472ae99d-ff94-4df8-d9b5-b6cbc1ac982e"
      },
      "source": [
        "sns.boxplot(X_train['Account Balance'])"
      ],
      "execution_count": 76,
      "outputs": [
        {
          "output_type": "stream",
          "text": [
            "/usr/local/lib/python3.6/dist-packages/seaborn/_decorators.py:43: FutureWarning: Pass the following variable as a keyword arg: x. From version 0.12, the only valid positional argument will be `data`, and passing other arguments without an explicit keyword will result in an error or misinterpretation.\n",
            "  FutureWarning\n"
          ],
          "name": "stderr"
        },
        {
          "output_type": "execute_result",
          "data": {
            "text/plain": [
              "<matplotlib.axes._subplots.AxesSubplot at 0x7fd256f1ab38>"
            ]
          },
          "metadata": {
            "tags": []
          },
          "execution_count": 76
        },
        {
          "output_type": "display_data",
          "data": {
            "image/png": "[encoded data removed]",
            "text/plain": [
              "<Figure size 432x288 with 1 Axes>"
            ]
          },
          "metadata": {
            "tags": [],
            "needs_background": "light"
          }
        }
      ]
    },
    {
      "cell_type": "markdown",
      "metadata": {
        "id": "qBcqGJpj6PRP"
      },
      "source": [
        "Removing the outliers from tranning dataset"
      ]
    },
    {
      "cell_type": "code",
      "metadata": {
        "colab": {
          "base_uri": "https://localhost:8080/"
        },
        "id": "3W7WVE1K6NAY",
        "outputId": "74963097-1b7d-4b04-8bef-45564329e4a2"
      },
      "source": [
        "lof = LocalOutlierFactor()\r\n",
        "yhat = lof.fit_predict(X_train)\r\n",
        "\r\n",
        "mask = yhat != -1\r\n",
        "X_train = X_train[mask] \r\n",
        "y_train = y_train[mask]\r\n",
        "print(X_train.shape, y_train.shape)"
      ],
      "execution_count": 26,
      "outputs": [
        {
          "output_type": "stream",
          "text": [
            "(488, 8) (488,)\n"
          ],
          "name": "stdout"
        }
      ]
    },
    {
      "cell_type": "code",
      "metadata": {
        "colab": {
          "base_uri": "https://localhost:8080/",
          "height": 212
        },
        "id": "1PSBVnS76eMR",
        "outputId": "895b47e6-3d8e-4fa7-a2ad-e5b48299db36"
      },
      "source": [
        "X_train.head()"
      ],
      "execution_count": 27,
      "outputs": [
        {
          "output_type": "execute_result",
          "data": {
            "text/html": [
              "<div>\n",
              "<style scoped>\n",
              "    .dataframe tbody tr th:only-of-type {\n",
              "        vertical-align: middle;\n",
              "    }\n",
              "\n",
              "    .dataframe tbody tr th {\n",
              "        vertical-align: top;\n",
              "    }\n",
              "\n",
              "    .dataframe thead th {\n",
              "        text-align: right;\n",
              "    }\n",
              "</style>\n",
              "<table border=\"1\" class=\"dataframe\">\n",
              "  <thead>\n",
              "    <tr style=\"text-align: right;\">\n",
              "      <th></th>\n",
              "      <th>Account Balance</th>\n",
              "      <th>Duration of Credit (month)</th>\n",
              "      <th>Payment Status of Previous Credit</th>\n",
              "      <th>Credit Amount</th>\n",
              "      <th>Value Savings/Stocks</th>\n",
              "      <th>Length of current employment</th>\n",
              "      <th>Most valuable available asset</th>\n",
              "      <th>Concurrent Credits</th>\n",
              "    </tr>\n",
              "  </thead>\n",
              "  <tbody>\n",
              "    <tr>\n",
              "      <th>789</th>\n",
              "      <td>2</td>\n",
              "      <td>24</td>\n",
              "      <td>4</td>\n",
              "      <td>4736</td>\n",
              "      <td>1</td>\n",
              "      <td>2</td>\n",
              "      <td>3</td>\n",
              "      <td>1</td>\n",
              "    </tr>\n",
              "    <tr>\n",
              "      <th>179</th>\n",
              "      <td>4</td>\n",
              "      <td>48</td>\n",
              "      <td>3</td>\n",
              "      <td>12749</td>\n",
              "      <td>3</td>\n",
              "      <td>4</td>\n",
              "      <td>3</td>\n",
              "      <td>3</td>\n",
              "    </tr>\n",
              "    <tr>\n",
              "      <th>27</th>\n",
              "      <td>2</td>\n",
              "      <td>9</td>\n",
              "      <td>4</td>\n",
              "      <td>1154</td>\n",
              "      <td>1</td>\n",
              "      <td>5</td>\n",
              "      <td>1</td>\n",
              "      <td>3</td>\n",
              "    </tr>\n",
              "    <tr>\n",
              "      <th>33</th>\n",
              "      <td>4</td>\n",
              "      <td>24</td>\n",
              "      <td>2</td>\n",
              "      <td>1376</td>\n",
              "      <td>3</td>\n",
              "      <td>4</td>\n",
              "      <td>3</td>\n",
              "      <td>3</td>\n",
              "    </tr>\n",
              "    <tr>\n",
              "      <th>334</th>\n",
              "      <td>4</td>\n",
              "      <td>24</td>\n",
              "      <td>3</td>\n",
              "      <td>717</td>\n",
              "      <td>5</td>\n",
              "      <td>5</td>\n",
              "      <td>3</td>\n",
              "      <td>3</td>\n",
              "    </tr>\n",
              "  </tbody>\n",
              "</table>\n",
              "</div>"
            ],
            "text/plain": [
              "     Account Balance  ...  Concurrent Credits\n",
              "789                2  ...                   1\n",
              "179                4  ...                   3\n",
              "27                 2  ...                   3\n",
              "33                 4  ...                   3\n",
              "334                4  ...                   3\n",
              "\n",
              "[5 rows x 8 columns]"
            ]
          },
          "metadata": {
            "tags": []
          },
          "execution_count": 27
        }
      ]
    },
    {
      "cell_type": "markdown",
      "metadata": {
        "id": "6gHdfIQO6lUO"
      },
      "source": [
        "drawing boxlot after removing outliers"
      ]
    },
    {
      "cell_type": "code",
      "metadata": {
        "colab": {
          "base_uri": "https://localhost:8080/",
          "height": 350
        },
        "id": "Bbhv9Q4D6kJR",
        "outputId": "78a310ca-2e33-477f-c1df-88edf3c6d624"
      },
      "source": [
        "sns.boxplot(X_train['Credit Amount'])"
      ],
      "execution_count": 28,
      "outputs": [
        {
          "output_type": "stream",
          "text": [
            "/usr/local/lib/python3.6/dist-packages/seaborn/_decorators.py:43: FutureWarning: Pass the following variable as a keyword arg: x. From version 0.12, the only valid positional argument will be `data`, and passing other arguments without an explicit keyword will result in an error or misinterpretation.\n",
            "  FutureWarning\n"
          ],
          "name": "stderr"
        },
        {
          "output_type": "execute_result",
          "data": {
            "text/plain": [
              "<matplotlib.axes._subplots.AxesSubplot at 0x7f3a0f4c0898>"
            ]
          },
          "metadata": {
            "tags": []
          },
          "execution_count": 28
        },
        {
          "output_type": "display_data",
          "data": {
            "image/png": "[encoded data removed]",
            "text/plain": [
              "<Figure size 432x288 with 1 Axes>"
            ]
          },
          "metadata": {
            "tags": [],
            "needs_background": "light"
          }
        }
      ]
    },
    {
      "cell_type": "code",
      "metadata": {
        "colab": {
          "base_uri": "https://localhost:8080/",
          "height": 350
        },
        "id": "NM9eCdB964A_",
        "outputId": "91358db4-74fb-4706-c161-cd46e3da1a40"
      },
      "source": [
        "sns.boxplot(X_train['Duration of Credit (month)'])"
      ],
      "execution_count": 29,
      "outputs": [
        {
          "output_type": "stream",
          "text": [
            "/usr/local/lib/python3.6/dist-packages/seaborn/_decorators.py:43: FutureWarning: Pass the following variable as a keyword arg: x. From version 0.12, the only valid positional argument will be `data`, and passing other arguments without an explicit keyword will result in an error or misinterpretation.\n",
            "  FutureWarning\n"
          ],
          "name": "stderr"
        },
        {
          "output_type": "execute_result",
          "data": {
            "text/plain": [
              "<matplotlib.axes._subplots.AxesSubplot at 0x7f3a0f4a67b8>"
            ]
          },
          "metadata": {
            "tags": []
          },
          "execution_count": 29
        },
        {
          "output_type": "display_data",
          "data": {
            "image/png": "[encoded data removed]",
            "text/plain": [
              "<Figure size 432x288 with 1 Axes>"
            ]
          },
          "metadata": {
            "tags": [],
            "needs_background": "light"
          }
        }
      ]
    },
    {
      "cell_type": "code",
      "metadata": {
        "colab": {
          "base_uri": "https://localhost:8080/",
          "height": 350
        },
        "id": "PR7N-s0j66-i",
        "outputId": "928cd46b-2dd4-410e-fbdd-08118d37bacc"
      },
      "source": [
        "sns.boxplot(X_train['Account Balance'])"
      ],
      "execution_count": 30,
      "outputs": [
        {
          "output_type": "stream",
          "text": [
            "/usr/local/lib/python3.6/dist-packages/seaborn/_decorators.py:43: FutureWarning: Pass the following variable as a keyword arg: x. From version 0.12, the only valid positional argument will be `data`, and passing other arguments without an explicit keyword will result in an error or misinterpretation.\n",
            "  FutureWarning\n"
          ],
          "name": "stderr"
        },
        {
          "output_type": "execute_result",
          "data": {
            "text/plain": [
              "<matplotlib.axes._subplots.AxesSubplot at 0x7f3a0f405be0>"
            ]
          },
          "metadata": {
            "tags": []
          },
          "execution_count": 30
        },
        {
          "output_type": "display_data",
          "data": {
            "image/png": "[encoded data removed]",
            "text/plain": [
              "<Figure size 432x288 with 1 Axes>"
            ]
          },
          "metadata": {
            "tags": [],
            "needs_background": "light"
          }
        }
      ]
    },
    {
      "cell_type": "markdown",
      "metadata": {
        "id": "Mi_xmN3871OP"
      },
      "source": [
        "classification model-1 Decision Tree"
      ]
    },
    {
      "cell_type": "code",
      "metadata": {
        "colab": {
          "base_uri": "https://localhost:8080/"
        },
        "id": "TPnckzBM70hs",
        "outputId": "93ce97b8-57d1-43ea-ca07-6943e68ca8c5"
      },
      "source": [
        "from sklearn import tree\r\n",
        "clf = tree.DecisionTreeClassifier(max_depth=5)\r\n",
        "clf = clf.fit(X_train, y_train)\r\n",
        "print(\"Successfuly trained the decision tree...\")"
      ],
      "execution_count": 31,
      "outputs": [
        {
          "output_type": "stream",
          "text": [
            "Successfuly trained the decision tree...\n"
          ],
          "name": "stdout"
        }
      ]
    },
    {
      "cell_type": "code",
      "metadata": {
        "colab": {
          "base_uri": "https://localhost:8080/"
        },
        "id": "dyBPcM9jIuqN",
        "outputId": "b12206b0-7bbe-4c84-b997-a313fd17f2c1"
      },
      "source": [
        "help(tree.DecisionTreeClassifier)"
      ],
      "execution_count": 32,
      "outputs": [
        {
          "output_type": "stream",
          "text": [
            "Help on class DecisionTreeClassifier in module sklearn.tree._classes:\n",
            "\n",
            "class DecisionTreeClassifier(sklearn.base.ClassifierMixin, BaseDecisionTree)\n",
            " |  A decision tree classifier.\n",
            " |  \n",
            " |  Read more in the :ref:`User Guide <tree>`.\n",
            " |  \n",
            " |  Parameters\n",
            " |  ----------\n",
            " |  criterion : {\"gini\", \"entropy\"}, default=\"gini\"\n",
            " |      The function to measure the quality of a split. Supported criteria are\n",
            " |      \"gini\" for the Gini impurity and \"entropy\" for the information gain.\n",
            " |  \n",
            " |  splitter : {\"best\", \"random\"}, default=\"best\"\n",
            " |      The strategy used to choose the split at each node. Supported\n",
            " |      strategies are \"best\" to choose the best split and \"random\" to choose\n",
            " |      the best random split.\n",
            " |  \n",
            " |  max_depth : int, default=None\n",
            " |      The maximum depth of the tree. If None, then nodes are expanded until\n",
            " |      all leaves are pure or until all leaves contain less than\n",
            " |      min_samples_split samples.\n",
            " |  \n",
            " |  min_samples_split : int or float, default=2\n",
            " |      The minimum number of samples required to split an internal node:\n",
            " |  \n",
            " |      - If int, then consider `min_samples_split` as the minimum number.\n",
            " |      - If float, then `min_samples_split` is a fraction and\n",
            " |        `ceil(min_samples_split * n_samples)` are the minimum\n",
            " |        number of samples for each split.\n",
            " |  \n",
            " |      .. versionchanged:: 0.18\n",
            " |         Added float values for fractions.\n",
            " |  \n",
            " |  min_samples_leaf : int or float, default=1\n",
            " |      The minimum number of samples required to be at a leaf node.\n",
            " |      A split point at any depth will only be considered if it leaves at\n",
            " |      least ``min_samples_leaf`` training samples in each of the left and\n",
            " |      right branches.  This may have the effect of smoothing the model,\n",
            " |      especially in regression.\n",
            " |  \n",
            " |      - If int, then consider `min_samples_leaf` as the minimum number.\n",
            " |      - If float, then `min_samples_leaf` is a fraction and\n",
            " |        `ceil(min_samples_leaf * n_samples)` are the minimum\n",
            " |        number of samples for each node.\n",
            " |  \n",
            " |      .. versionchanged:: 0.18\n",
            " |         Added float values for fractions.\n",
            " |  \n",
            " |  min_weight_fraction_leaf : float, default=0.0\n",
            " |      The minimum weighted fraction of the sum total of weights (of all\n",
            " |      the input samples) required to be at a leaf node. Samples have\n",
            " |      equal weight when sample_weight is not provided.\n",
            " |  \n",
            " |  max_features : int, float or {\"auto\", \"sqrt\", \"log2\"}, default=None\n",
            " |      The number of features to consider when looking for the best split:\n",
            " |  \n",
            " |          - If int, then consider `max_features` features at each split.\n",
            " |          - If float, then `max_features` is a fraction and\n",
            " |            `int(max_features * n_features)` features are considered at each\n",
            " |            split.\n",
            " |          - If \"auto\", then `max_features=sqrt(n_features)`.\n",
            " |          - If \"sqrt\", then `max_features=sqrt(n_features)`.\n",
            " |          - If \"log2\", then `max_features=log2(n_features)`.\n",
            " |          - If None, then `max_features=n_features`.\n",
            " |  \n",
            " |      Note: the search for a split does not stop until at least one\n",
            " |      valid partition of the node samples is found, even if it requires to\n",
            " |      effectively inspect more than ``max_features`` features.\n",
            " |  \n",
            " |  random_state : int or RandomState, default=None\n",
            " |      If int, random_state is the seed used by the random number generator;\n",
            " |      If RandomState instance, random_state is the random number generator;\n",
            " |      If None, the random number generator is the RandomState instance used\n",
            " |      by `np.random`.\n",
            " |  \n",
            " |  max_leaf_nodes : int, default=None\n",
            " |      Grow a tree with ``max_leaf_nodes`` in best-first fashion.\n",
            " |      Best nodes are defined as relative reduction in impurity.\n",
            " |      If None then unlimited number of leaf nodes.\n",
            " |  \n",
            " |  min_impurity_decrease : float, default=0.0\n",
            " |      A node will be split if this split induces a decrease of the impurity\n",
            " |      greater than or equal to this value.\n",
            " |  \n",
            " |      The weighted impurity decrease equation is the following::\n",
            " |  \n",
            " |          N_t / N * (impurity - N_t_R / N_t * right_impurity\n",
            " |                              - N_t_L / N_t * left_impurity)\n",
            " |  \n",
            " |      where ``N`` is the total number of samples, ``N_t`` is the number of\n",
            " |      samples at the current node, ``N_t_L`` is the number of samples in the\n",
            " |      left child, and ``N_t_R`` is the number of samples in the right child.\n",
            " |  \n",
            " |      ``N``, ``N_t``, ``N_t_R`` and ``N_t_L`` all refer to the weighted sum,\n",
            " |      if ``sample_weight`` is passed.\n",
            " |  \n",
            " |      .. versionadded:: 0.19\n",
            " |  \n",
            " |  min_impurity_split : float, default=1e-7\n",
            " |      Threshold for early stopping in tree growth. A node will split\n",
            " |      if its impurity is above the threshold, otherwise it is a leaf.\n",
            " |  \n",
            " |      .. deprecated:: 0.19\n",
            " |         ``min_impurity_split`` has been deprecated in favor of\n",
            " |         ``min_impurity_decrease`` in 0.19. The default value of\n",
            " |         ``min_impurity_split`` will change from 1e-7 to 0 in 0.23 and it\n",
            " |         will be removed in 0.25. Use ``min_impurity_decrease`` instead.\n",
            " |  \n",
            " |  class_weight : dict, list of dict or \"balanced\", default=None\n",
            " |      Weights associated with classes in the form ``{class_label: weight}``.\n",
            " |      If None, all classes are supposed to have weight one. For\n",
            " |      multi-output problems, a list of dicts can be provided in the same\n",
            " |      order as the columns of y.\n",
            " |  \n",
            " |      Note that for multioutput (including multilabel) weights should be\n",
            " |      defined for each class of every column in its own dict. For example,\n",
            " |      for four-class multilabel classification weights should be\n",
            " |      [{0: 1, 1: 1}, {0: 1, 1: 5}, {0: 1, 1: 1}, {0: 1, 1: 1}] instead of\n",
            " |      [{1:1}, {2:5}, {3:1}, {4:1}].\n",
            " |  \n",
            " |      The \"balanced\" mode uses the values of y to automatically adjust\n",
            " |      weights inversely proportional to class frequencies in the input data\n",
            " |      as ``n_samples / (n_classes * np.bincount(y))``\n",
            " |  \n",
            " |      For multi-output, the weights of each column of y will be multiplied.\n",
            " |  \n",
            " |      Note that these weights will be multiplied with sample_weight (passed\n",
            " |      through the fit method) if sample_weight is specified.\n",
            " |  \n",
            " |  presort : deprecated, default='deprecated'\n",
            " |      This parameter is deprecated and will be removed in v0.24.\n",
            " |  \n",
            " |      .. deprecated:: 0.22\n",
            " |  \n",
            " |  ccp_alpha : non-negative float, default=0.0\n",
            " |      Complexity parameter used for Minimal Cost-Complexity Pruning. The\n",
            " |      subtree with the largest cost complexity that is smaller than\n",
            " |      ``ccp_alpha`` will be chosen. By default, no pruning is performed. See\n",
            " |      :ref:`minimal_cost_complexity_pruning` for details.\n",
            " |  \n",
            " |      .. versionadded:: 0.22\n",
            " |  \n",
            " |  Attributes\n",
            " |  ----------\n",
            " |  classes_ : ndarray of shape (n_classes,) or list of ndarray\n",
            " |      The classes labels (single output problem),\n",
            " |      or a list of arrays of class labels (multi-output problem).\n",
            " |  \n",
            " |  feature_importances_ : ndarray of shape (n_features,)\n",
            " |      The feature importances. The higher, the more important the\n",
            " |      feature. The importance of a feature is computed as the (normalized)\n",
            " |      total reduction of the criterion brought by that feature.  It is also\n",
            " |      known as the Gini importance [4]_.\n",
            " |  \n",
            " |  max_features_ : int\n",
            " |      The inferred value of max_features.\n",
            " |  \n",
            " |  n_classes_ : int or list of int\n",
            " |      The number of classes (for single output problems),\n",
            " |      or a list containing the number of classes for each\n",
            " |      output (for multi-output problems).\n",
            " |  \n",
            " |  n_features_ : int\n",
            " |      The number of features when ``fit`` is performed.\n",
            " |  \n",
            " |  n_outputs_ : int\n",
            " |      The number of outputs when ``fit`` is performed.\n",
            " |  \n",
            " |  tree_ : Tree\n",
            " |      The underlying Tree object. Please refer to\n",
            " |      ``help(sklearn.tree._tree.Tree)`` for attributes of Tree object and\n",
            " |      :ref:`sphx_glr_auto_examples_tree_plot_unveil_tree_structure.py`\n",
            " |      for basic usage of these attributes.\n",
            " |  \n",
            " |  See Also\n",
            " |  --------\n",
            " |  DecisionTreeRegressor : A decision tree regressor.\n",
            " |  \n",
            " |  Notes\n",
            " |  -----\n",
            " |  The default values for the parameters controlling the size of the trees\n",
            " |  (e.g. ``max_depth``, ``min_samples_leaf``, etc.) lead to fully grown and\n",
            " |  unpruned trees which can potentially be very large on some data sets. To\n",
            " |  reduce memory consumption, the complexity and size of the trees should be\n",
            " |  controlled by setting those parameter values.\n",
            " |  \n",
            " |  The features are always randomly permuted at each split. Therefore,\n",
            " |  the best found split may vary, even with the same training data and\n",
            " |  ``max_features=n_features``, if the improvement of the criterion is\n",
            " |  identical for several splits enumerated during the search of the best\n",
            " |  split. To obtain a deterministic behaviour during fitting,\n",
            " |  ``random_state`` has to be fixed.\n",
            " |  \n",
            " |  References\n",
            " |  ----------\n",
            " |  \n",
            " |  .. [1] https://en.wikipedia.org/wiki/Decision_tree_learning\n",
            " |  \n",
            " |  .. [2] L. Breiman, J. Friedman, R. Olshen, and C. Stone, \"Classification\n",
            " |         and Regression Trees\", Wadsworth, Belmont, CA, 1984.\n",
            " |  \n",
            " |  .. [3] T. Hastie, R. Tibshirani and J. Friedman. \"Elements of Statistical\n",
            " |         Learning\", Springer, 2009.\n",
            " |  \n",
            " |  .. [4] L. Breiman, and A. Cutler, \"Random Forests\",\n",
            " |         https://www.stat.berkeley.edu/~breiman/RandomForests/cc_home.htm\n",
            " |  \n",
            " |  Examples\n",
            " |  --------\n",
            " |  >>> from sklearn.datasets import load_iris\n",
            " |  >>> from sklearn.model_selection import cross_val_score\n",
            " |  >>> from sklearn.tree import DecisionTreeClassifier\n",
            " |  >>> clf = DecisionTreeClassifier(random_state=0)\n",
            " |  >>> iris = load_iris()\n",
            " |  >>> cross_val_score(clf, iris.data, iris.target, cv=10)\n",
            " |  ...                             # doctest: +SKIP\n",
            " |  ...\n",
            " |  array([ 1.     ,  0.93...,  0.86...,  0.93...,  0.93...,\n",
            " |          0.93...,  0.93...,  1.     ,  0.93...,  1.      ])\n",
            " |  \n",
            " |  Method resolution order:\n",
            " |      DecisionTreeClassifier\n",
            " |      sklearn.base.ClassifierMixin\n",
            " |      BaseDecisionTree\n",
            " |      sklearn.base.MultiOutputMixin\n",
            " |      sklearn.base.BaseEstimator\n",
            " |      builtins.object\n",
            " |  \n",
            " |  Methods defined here:\n",
            " |  \n",
            " |  __init__(self, criterion='gini', splitter='best', max_depth=None, min_samples_split=2, min_samples_leaf=1, min_weight_fraction_leaf=0.0, max_features=None, random_state=None, max_leaf_nodes=None, min_impurity_decrease=0.0, min_impurity_split=None, class_weight=None, presort='deprecated', ccp_alpha=0.0)\n",
            " |      Initialize self.  See help(type(self)) for accurate signature.\n",
            " |  \n",
            " |  fit(self, X, y, sample_weight=None, check_input=True, X_idx_sorted=None)\n",
            " |      Build a decision tree classifier from the training set (X, y).\n",
            " |      \n",
            " |      Parameters\n",
            " |      ----------\n",
            " |      X : {array-like, sparse matrix} of shape (n_samples, n_features)\n",
            " |          The training input samples. Internally, it will be converted to\n",
            " |          ``dtype=np.float32`` and if a sparse matrix is provided\n",
            " |          to a sparse ``csc_matrix``.\n",
            " |      \n",
            " |      y : array-like of shape (n_samples,) or (n_samples, n_outputs)\n",
            " |          The target values (class labels) as integers or strings.\n",
            " |      \n",
            " |      sample_weight : array-like of shape (n_samples,), default=None\n",
            " |          Sample weights. If None, then samples are equally weighted. Splits\n",
            " |          that would create child nodes with net zero or negative weight are\n",
            " |          ignored while searching for a split in each node. Splits are also\n",
            " |          ignored if they would result in any single class carrying a\n",
            " |          negative weight in either child node.\n",
            " |      \n",
            " |      check_input : bool, default=True\n",
            " |          Allow to bypass several input checking.\n",
            " |          Don't use this parameter unless you know what you do.\n",
            " |      \n",
            " |      X_idx_sorted : array-like of shape (n_samples, n_features),                 default=None\n",
            " |          The indexes of the sorted training input samples. If many tree\n",
            " |          are grown on the same dataset, this allows the ordering to be\n",
            " |          cached between trees. If None, the data will be sorted here.\n",
            " |          Don't use this parameter unless you know what to do.\n",
            " |      \n",
            " |      Returns\n",
            " |      -------\n",
            " |      self : DecisionTreeClassifier\n",
            " |          Fitted estimator.\n",
            " |  \n",
            " |  predict_log_proba(self, X)\n",
            " |      Predict class log-probabilities of the input samples X.\n",
            " |      \n",
            " |      Parameters\n",
            " |      ----------\n",
            " |      X : {array-like, sparse matrix} of shape (n_samples, n_features)\n",
            " |          The input samples. Internally, it will be converted to\n",
            " |          ``dtype=np.float32`` and if a sparse matrix is provided\n",
            " |          to a sparse ``csr_matrix``.\n",
            " |      \n",
            " |      Returns\n",
            " |      -------\n",
            " |      proba : ndarray of shape (n_samples, n_classes) or list of n_outputs             such arrays if n_outputs > 1\n",
            " |          The class log-probabilities of the input samples. The order of the\n",
            " |          classes corresponds to that in the attribute :term:`classes_`.\n",
            " |  \n",
            " |  predict_proba(self, X, check_input=True)\n",
            " |      Predict class probabilities of the input samples X.\n",
            " |      \n",
            " |      The predicted class probability is the fraction of samples of the same\n",
            " |      class in a leaf.\n",
            " |      \n",
            " |      Parameters\n",
            " |      ----------\n",
            " |      X : {array-like, sparse matrix} of shape (n_samples, n_features)\n",
            " |          The input samples. Internally, it will be converted to\n",
            " |          ``dtype=np.float32`` and if a sparse matrix is provided\n",
            " |          to a sparse ``csr_matrix``.\n",
            " |      \n",
            " |      check_input : bool, default=True\n",
            " |          Allow to bypass several input checking.\n",
            " |          Don't use this parameter unless you know what you do.\n",
            " |      \n",
            " |      Returns\n",
            " |      -------\n",
            " |      proba : ndarray of shape (n_samples, n_classes) or list of n_outputs             such arrays if n_outputs > 1\n",
            " |          The class probabilities of the input samples. The order of the\n",
            " |          classes corresponds to that in the attribute :term:`classes_`.\n",
            " |  \n",
            " |  ----------------------------------------------------------------------\n",
            " |  Data and other attributes defined here:\n",
            " |  \n",
            " |  __abstractmethods__ = frozenset()\n",
            " |  \n",
            " |  ----------------------------------------------------------------------\n",
            " |  Methods inherited from sklearn.base.ClassifierMixin:\n",
            " |  \n",
            " |  score(self, X, y, sample_weight=None)\n",
            " |      Return the mean accuracy on the given test data and labels.\n",
            " |      \n",
            " |      In multi-label classification, this is the subset accuracy\n",
            " |      which is a harsh metric since you require for each sample that\n",
            " |      each label set be correctly predicted.\n",
            " |      \n",
            " |      Parameters\n",
            " |      ----------\n",
            " |      X : array-like of shape (n_samples, n_features)\n",
            " |          Test samples.\n",
            " |      \n",
            " |      y : array-like of shape (n_samples,) or (n_samples, n_outputs)\n",
            " |          True labels for X.\n",
            " |      \n",
            " |      sample_weight : array-like of shape (n_samples,), default=None\n",
            " |          Sample weights.\n",
            " |      \n",
            " |      Returns\n",
            " |      -------\n",
            " |      score : float\n",
            " |          Mean accuracy of self.predict(X) wrt. y.\n",
            " |  \n",
            " |  ----------------------------------------------------------------------\n",
            " |  Data descriptors inherited from sklearn.base.ClassifierMixin:\n",
            " |  \n",
            " |  __dict__\n",
            " |      dictionary for instance variables (if defined)\n",
            " |  \n",
            " |  __weakref__\n",
            " |      list of weak references to the object (if defined)\n",
            " |  \n",
            " |  ----------------------------------------------------------------------\n",
            " |  Methods inherited from BaseDecisionTree:\n",
            " |  \n",
            " |  apply(self, X, check_input=True)\n",
            " |      Return the index of the leaf that each sample is predicted as.\n",
            " |      \n",
            " |      .. versionadded:: 0.17\n",
            " |      \n",
            " |      Parameters\n",
            " |      ----------\n",
            " |      X : {array-like, sparse matrix} of shape (n_samples, n_features)\n",
            " |          The input samples. Internally, it will be converted to\n",
            " |          ``dtype=np.float32`` and if a sparse matrix is provided\n",
            " |          to a sparse ``csr_matrix``.\n",
            " |      \n",
            " |      check_input : bool, default=True\n",
            " |          Allow to bypass several input checking.\n",
            " |          Don't use this parameter unless you know what you do.\n",
            " |      \n",
            " |      Returns\n",
            " |      -------\n",
            " |      X_leaves : array-like of shape (n_samples,)\n",
            " |          For each datapoint x in X, return the index of the leaf x\n",
            " |          ends up in. Leaves are numbered within\n",
            " |          ``[0; self.tree_.node_count)``, possibly with gaps in the\n",
            " |          numbering.\n",
            " |  \n",
            " |  cost_complexity_pruning_path(self, X, y, sample_weight=None)\n",
            " |      Compute the pruning path during Minimal Cost-Complexity Pruning.\n",
            " |      \n",
            " |      See :ref:`minimal_cost_complexity_pruning` for details on the pruning\n",
            " |      process.\n",
            " |      \n",
            " |      Parameters\n",
            " |      ----------\n",
            " |      X : {array-like, sparse matrix} of shape (n_samples, n_features)\n",
            " |          The training input samples. Internally, it will be converted to\n",
            " |          ``dtype=np.float32`` and if a sparse matrix is provided\n",
            " |          to a sparse ``csc_matrix``.\n",
            " |      \n",
            " |      y : array-like of shape (n_samples,) or (n_samples, n_outputs)\n",
            " |          The target values (class labels) as integers or strings.\n",
            " |      \n",
            " |      sample_weight : array-like of shape (n_samples,), default=None\n",
            " |          Sample weights. If None, then samples are equally weighted. Splits\n",
            " |          that would create child nodes with net zero or negative weight are\n",
            " |          ignored while searching for a split in each node. Splits are also\n",
            " |          ignored if they would result in any single class carrying a\n",
            " |          negative weight in either child node.\n",
            " |      \n",
            " |      Returns\n",
            " |      -------\n",
            " |      ccp_path : Bunch\n",
            " |          Dictionary-like object, with attributes:\n",
            " |      \n",
            " |          ccp_alphas : ndarray\n",
            " |              Effective alphas of subtree during pruning.\n",
            " |      \n",
            " |          impurities : ndarray\n",
            " |              Sum of the impurities of the subtree leaves for the\n",
            " |              corresponding alpha value in ``ccp_alphas``.\n",
            " |  \n",
            " |  decision_path(self, X, check_input=True)\n",
            " |      Return the decision path in the tree.\n",
            " |      \n",
            " |      .. versionadded:: 0.18\n",
            " |      \n",
            " |      Parameters\n",
            " |      ----------\n",
            " |      X : {array-like, sparse matrix} of shape (n_samples, n_features)\n",
            " |          The input samples. Internally, it will be converted to\n",
            " |          ``dtype=np.float32`` and if a sparse matrix is provided\n",
            " |          to a sparse ``csr_matrix``.\n",
            " |      \n",
            " |      check_input : bool, default=True\n",
            " |          Allow to bypass several input checking.\n",
            " |          Don't use this parameter unless you know what you do.\n",
            " |      \n",
            " |      Returns\n",
            " |      -------\n",
            " |      indicator : sparse matrix of shape (n_samples, n_nodes)\n",
            " |          Return a node indicator CSR matrix where non zero elements\n",
            " |          indicates that the samples goes through the nodes.\n",
            " |  \n",
            " |  get_depth(self)\n",
            " |      Return the depth of the decision tree.\n",
            " |      \n",
            " |      The depth of a tree is the maximum distance between the root\n",
            " |      and any leaf.\n",
            " |      \n",
            " |      Returns\n",
            " |      -------\n",
            " |      self.tree_.max_depth : int\n",
            " |          The maximum depth of the tree.\n",
            " |  \n",
            " |  get_n_leaves(self)\n",
            " |      Return the number of leaves of the decision tree.\n",
            " |      \n",
            " |      Returns\n",
            " |      -------\n",
            " |      self.tree_.n_leaves : int\n",
            " |          Number of leaves.\n",
            " |  \n",
            " |  predict(self, X, check_input=True)\n",
            " |      Predict class or regression value for X.\n",
            " |      \n",
            " |      For a classification model, the predicted class for each sample in X is\n",
            " |      returned. For a regression model, the predicted value based on X is\n",
            " |      returned.\n",
            " |      \n",
            " |      Parameters\n",
            " |      ----------\n",
            " |      X : {array-like, sparse matrix} of shape (n_samples, n_features)\n",
            " |          The input samples. Internally, it will be converted to\n",
            " |          ``dtype=np.float32`` and if a sparse matrix is provided\n",
            " |          to a sparse ``csr_matrix``.\n",
            " |      \n",
            " |      check_input : bool, default=True\n",
            " |          Allow to bypass several input checking.\n",
            " |          Don't use this parameter unless you know what you do.\n",
            " |      \n",
            " |      Returns\n",
            " |      -------\n",
            " |      y : array-like of shape (n_samples,) or (n_samples, n_outputs)\n",
            " |          The predicted classes, or the predict values.\n",
            " |  \n",
            " |  ----------------------------------------------------------------------\n",
            " |  Data descriptors inherited from BaseDecisionTree:\n",
            " |  \n",
            " |  feature_importances_\n",
            " |      Return the feature importances.\n",
            " |      \n",
            " |      The importance of a feature is computed as the (normalized) total\n",
            " |      reduction of the criterion brought by that feature.\n",
            " |      It is also known as the Gini importance.\n",
            " |      \n",
            " |      Returns\n",
            " |      -------\n",
            " |      feature_importances_ : ndarray of shape (n_features,)\n",
            " |          Normalized total reduction of criteria by feature\n",
            " |          (Gini importance).\n",
            " |  \n",
            " |  ----------------------------------------------------------------------\n",
            " |  Methods inherited from sklearn.base.BaseEstimator:\n",
            " |  \n",
            " |  __getstate__(self)\n",
            " |  \n",
            " |  __repr__(self, N_CHAR_MAX=700)\n",
            " |      Return repr(self).\n",
            " |  \n",
            " |  __setstate__(self, state)\n",
            " |  \n",
            " |  get_params(self, deep=True)\n",
            " |      Get parameters for this estimator.\n",
            " |      \n",
            " |      Parameters\n",
            " |      ----------\n",
            " |      deep : bool, default=True\n",
            " |          If True, will return the parameters for this estimator and\n",
            " |          contained subobjects that are estimators.\n",
            " |      \n",
            " |      Returns\n",
            " |      -------\n",
            " |      params : mapping of string to any\n",
            " |          Parameter names mapped to their values.\n",
            " |  \n",
            " |  set_params(self, **params)\n",
            " |      Set the parameters of this estimator.\n",
            " |      \n",
            " |      The method works on simple estimators as well as on nested objects\n",
            " |      (such as pipelines). The latter have parameters of the form\n",
            " |      ``<component>__<parameter>`` so that it's possible to update each\n",
            " |      component of a nested object.\n",
            " |      \n",
            " |      Parameters\n",
            " |      ----------\n",
            " |      **params : dict\n",
            " |          Estimator parameters.\n",
            " |      \n",
            " |      Returns\n",
            " |      -------\n",
            " |      self : object\n",
            " |          Estimator instance.\n",
            "\n"
          ],
          "name": "stdout"
        }
      ]
    },
    {
      "cell_type": "code",
      "metadata": {
        "colab": {
          "base_uri": "https://localhost:8080/",
          "height": 387
        },
        "id": "zVXIjPdN8lvE",
        "outputId": "fbe0673c-5431-440b-8999-0bbc35b1c9c0"
      },
      "source": [
        "import graphviz\r\n",
        "\r\n",
        "#Get unique class values to display on the tree\r\n",
        "class_values=credit_df[class_col_name].unique()\r\n",
        "print (\"class Names\",class_values)\r\n",
        "\r\n",
        "\r\n",
        "dot_data = tree.export_graphviz(clf, out_file=None, \r\n",
        "                                feature_names=feature_names,  \r\n",
        "                                class_names=class_values,\r\n",
        "                                filled=True)\r\n",
        "# Plot tree\r\n",
        "graph = graphviz.Source(dot_data, format=\"png\") \r\n",
        "graph"
      ],
      "execution_count": 33,
      "outputs": [
        {
          "output_type": "stream",
          "text": [
            "class Names [1 0]\n"
          ],
          "name": "stdout"
        },
        {
          "output_type": "error",
          "ename": "TypeError",
          "evalue": "ignored",
          "traceback": [
            "\u001b[0;31m---------------------------------------------------------------------------\u001b[0m",
            "\u001b[0;31mTypeError\u001b[0m                                 Traceback (most recent call last)",
            "\u001b[0;32m<ipython-input-33-31f31d2ea24a>\u001b[0m in \u001b[0;36m<module>\u001b[0;34m()\u001b[0m\n\u001b[1;32m      9\u001b[0m                                 \u001b[0mfeature_names\u001b[0m\u001b[0;34m=\u001b[0m\u001b[0mfeature_names\u001b[0m\u001b[0;34m,\u001b[0m\u001b[0;34m\u001b[0m\u001b[0;34m\u001b[0m\u001b[0m\n\u001b[1;32m     10\u001b[0m                                 \u001b[0mclass_names\u001b[0m\u001b[0;34m=\u001b[0m\u001b[0mclass_values\u001b[0m\u001b[0;34m,\u001b[0m\u001b[0;34m\u001b[0m\u001b[0;34m\u001b[0m\u001b[0m\n\u001b[0;32m---> 11\u001b[0;31m                                 filled=True)\n\u001b[0m\u001b[1;32m     12\u001b[0m \u001b[0;31m# Plot tree\u001b[0m\u001b[0;34m\u001b[0m\u001b[0;34m\u001b[0m\u001b[0;34m\u001b[0m\u001b[0m\n\u001b[1;32m     13\u001b[0m \u001b[0mgraph\u001b[0m \u001b[0;34m=\u001b[0m \u001b[0mgraphviz\u001b[0m\u001b[0;34m.\u001b[0m\u001b[0mSource\u001b[0m\u001b[0;34m(\u001b[0m\u001b[0mdot_data\u001b[0m\u001b[0;34m,\u001b[0m \u001b[0mformat\u001b[0m\u001b[0;34m=\u001b[0m\u001b[0;34m\"png\"\u001b[0m\u001b[0;34m)\u001b[0m\u001b[0;34m\u001b[0m\u001b[0;34m\u001b[0m\u001b[0m\n",
            "\u001b[0;32m/usr/local/lib/python3.6/dist-packages/sklearn/tree/_export.py\u001b[0m in \u001b[0;36mexport_graphviz\u001b[0;34m(decision_tree, out_file, max_depth, feature_names, class_names, label, filled, leaves_parallel, impurity, node_ids, proportion, rotate, rounded, special_characters, precision)\u001b[0m\n\u001b[1;32m    762\u001b[0m             \u001b[0mrounded\u001b[0m\u001b[0;34m=\u001b[0m\u001b[0mrounded\u001b[0m\u001b[0;34m,\u001b[0m \u001b[0mspecial_characters\u001b[0m\u001b[0;34m=\u001b[0m\u001b[0mspecial_characters\u001b[0m\u001b[0;34m,\u001b[0m\u001b[0;34m\u001b[0m\u001b[0;34m\u001b[0m\u001b[0m\n\u001b[1;32m    763\u001b[0m             precision=precision)\n\u001b[0;32m--> 764\u001b[0;31m         \u001b[0mexporter\u001b[0m\u001b[0;34m.\u001b[0m\u001b[0mexport\u001b[0m\u001b[0;34m(\u001b[0m\u001b[0mdecision_tree\u001b[0m\u001b[0;34m)\u001b[0m\u001b[0;34m\u001b[0m\u001b[0;34m\u001b[0m\u001b[0m\n\u001b[0m\u001b[1;32m    765\u001b[0m \u001b[0;34m\u001b[0m\u001b[0m\n\u001b[1;32m    766\u001b[0m         \u001b[0;32mif\u001b[0m \u001b[0mreturn_string\u001b[0m\u001b[0;34m:\u001b[0m\u001b[0;34m\u001b[0m\u001b[0;34m\u001b[0m\u001b[0m\n",
            "\u001b[0;32m/usr/local/lib/python3.6/dist-packages/sklearn/tree/_export.py\u001b[0m in \u001b[0;36mexport\u001b[0;34m(self, decision_tree)\u001b[0m\n\u001b[1;32m    405\u001b[0m         \u001b[0;32melse\u001b[0m\u001b[0;34m:\u001b[0m\u001b[0;34m\u001b[0m\u001b[0;34m\u001b[0m\u001b[0m\n\u001b[1;32m    406\u001b[0m             self.recurse(decision_tree.tree_, 0,\n\u001b[0;32m--> 407\u001b[0;31m                          criterion=decision_tree.criterion)\n\u001b[0m\u001b[1;32m    408\u001b[0m \u001b[0;34m\u001b[0m\u001b[0m\n\u001b[1;32m    409\u001b[0m         \u001b[0mself\u001b[0m\u001b[0;34m.\u001b[0m\u001b[0mtail\u001b[0m\u001b[0;34m(\u001b[0m\u001b[0;34m)\u001b[0m\u001b[0;34m\u001b[0m\u001b[0;34m\u001b[0m\u001b[0m\n",
            "\u001b[0;32m/usr/local/lib/python3.6/dist-packages/sklearn/tree/_export.py\u001b[0m in \u001b[0;36mrecurse\u001b[0;34m(self, tree, node_id, criterion, parent, depth)\u001b[0m\n\u001b[1;32m    465\u001b[0m             self.out_file.write(\n\u001b[1;32m    466\u001b[0m                 '%d [label=%s' % (node_id, self.node_to_str(tree, node_id,\n\u001b[0;32m--> 467\u001b[0;31m                                                             criterion)))\n\u001b[0m\u001b[1;32m    468\u001b[0m \u001b[0;34m\u001b[0m\u001b[0m\n\u001b[1;32m    469\u001b[0m             \u001b[0;32mif\u001b[0m \u001b[0mself\u001b[0m\u001b[0;34m.\u001b[0m\u001b[0mfilled\u001b[0m\u001b[0;34m:\u001b[0m\u001b[0;34m\u001b[0m\u001b[0;34m\u001b[0m\u001b[0m\n",
            "\u001b[0;32m/usr/local/lib/python3.6/dist-packages/sklearn/tree/_export.py\u001b[0m in \u001b[0;36mnode_to_str\u001b[0;34m(self, tree, node_id, criterion)\u001b[0m\n\u001b[1;32m    340\u001b[0m                                           \u001b[0mnp\u001b[0m\u001b[0;34m.\u001b[0m\u001b[0margmax\u001b[0m\u001b[0;34m(\u001b[0m\u001b[0mvalue\u001b[0m\u001b[0;34m)\u001b[0m\u001b[0;34m,\u001b[0m\u001b[0;34m\u001b[0m\u001b[0;34m\u001b[0m\u001b[0m\n\u001b[1;32m    341\u001b[0m                                           characters[2])\n\u001b[0;32m--> 342\u001b[0;31m             \u001b[0mnode_string\u001b[0m \u001b[0;34m+=\u001b[0m \u001b[0mclass_name\u001b[0m\u001b[0;34m\u001b[0m\u001b[0;34m\u001b[0m\u001b[0m\n\u001b[0m\u001b[1;32m    343\u001b[0m \u001b[0;34m\u001b[0m\u001b[0m\n\u001b[1;32m    344\u001b[0m         \u001b[0;31m# Clean up any trailing newlines\u001b[0m\u001b[0;34m\u001b[0m\u001b[0;34m\u001b[0m\u001b[0;34m\u001b[0m\u001b[0m\n",
            "\u001b[0;31mTypeError\u001b[0m: must be str, not numpy.int64"
          ]
        }
      ]
    },
    {
      "cell_type": "markdown",
      "metadata": {
        "id": "721wOITdJf_6"
      },
      "source": [
        "to compute Accuracy of model"
      ]
    },
    {
      "cell_type": "code",
      "metadata": {
        "colab": {
          "base_uri": "https://localhost:8080/"
        },
        "id": "ROxrtaU_Jdf8",
        "outputId": "75921ea1-d082-4014-92bb-bb7309e99149"
      },
      "source": [
        "y_pred = clf.predict(X_test)\r\n",
        "\r\n",
        "acc = accuracy_score(y_test,y_pred)\r\n",
        "print('Accuracy: %.3f' % acc)"
      ],
      "execution_count": 34,
      "outputs": [
        {
          "output_type": "stream",
          "text": [
            "Accuracy: 0.724\n"
          ],
          "name": "stdout"
        }
      ]
    },
    {
      "cell_type": "markdown",
      "metadata": {
        "id": "lJHNJzV1JqUM"
      },
      "source": [
        "find out confusion matrix and and print the results"
      ]
    },
    {
      "cell_type": "code",
      "metadata": {
        "colab": {
          "base_uri": "https://localhost:8080/"
        },
        "id": "sP8ZRCkAJkrt",
        "outputId": "8ceddf7c-eb48-4395-e304-3f55a202792e"
      },
      "source": [
        "from sklearn.metrics import confusion_matrix\r\n",
        "cf=confusion_matrix(y_test, y_pred)\r\n",
        "print (\"Confusion Matrix\")\r\n",
        "print(cf)\r\n",
        "tn, fp, fn, tp=cf.ravel()\r\n",
        "print (\"TP: \", tp,\", FP: \", fp,\", TN: \", tn,\", FN:\", fn)"
      ],
      "execution_count": 35,
      "outputs": [
        {
          "output_type": "stream",
          "text": [
            "Confusion Matrix\n",
            "[[ 44 105]\n",
            " [ 33 318]]\n",
            "TP:  318 , FP:  105 , TN:  44 , FN: 33\n"
          ],
          "name": "stdout"
        }
      ]
    },
    {
      "cell_type": "code",
      "metadata": {
        "colab": {
          "base_uri": "https://localhost:8080/"
        },
        "id": "A7UPvX-MJ9a_",
        "outputId": "1f87aaa8-4e54-423c-f33b-25e1a08116d4"
      },
      "source": [
        "from sklearn.metrics import classification_report\r\n",
        "from sklearn import metrics\r\n",
        "\r\n",
        "print(classification_report(y_test, y_pred))"
      ],
      "execution_count": 36,
      "outputs": [
        {
          "output_type": "stream",
          "text": [
            "              precision    recall  f1-score   support\n",
            "\n",
            "           0       0.57      0.30      0.39       149\n",
            "           1       0.75      0.91      0.82       351\n",
            "\n",
            "    accuracy                           0.72       500\n",
            "   macro avg       0.66      0.60      0.61       500\n",
            "weighted avg       0.70      0.72      0.69       500\n",
            "\n"
          ],
          "name": "stdout"
        }
      ]
    },
    {
      "cell_type": "markdown",
      "metadata": {
        "id": "YbiYJrWuKPkS"
      },
      "source": [
        "Model-2 Naive Bayes"
      ]
    },
    {
      "cell_type": "code",
      "metadata": {
        "id": "SpxKsgzbKPTK"
      },
      "source": [
        "from sklearn.naive_bayes import MultinomialNB\r\n",
        "\r\n",
        "#Create a MultiNomial NB Classifier\r\n",
        "nb = MultinomialNB()\r\n",
        "\r\n",
        "#Train the model using the training sets\r\n",
        "nb.fit(X_train, y_train)\r\n",
        "\r\n",
        "#Predict the response for test dataset\r\n",
        "y_pred = nb.predict(X_test)"
      ],
      "execution_count": 37,
      "outputs": []
    },
    {
      "cell_type": "code",
      "metadata": {
        "colab": {
          "base_uri": "https://localhost:8080/"
        },
        "id": "kksJhT2bKYCZ",
        "outputId": "e434591f-e939-49cc-ea3c-09a8051cc776"
      },
      "source": [
        "print (\"Total Columns (including class)\",len(credit_df.columns))"
      ],
      "execution_count": 38,
      "outputs": [
        {
          "output_type": "stream",
          "text": [
            "Total Columns (including class) 9\n"
          ],
          "name": "stdout"
        }
      ]
    },
    {
      "cell_type": "code",
      "metadata": {
        "colab": {
          "base_uri": "https://localhost:8080/"
        },
        "id": "hktXM46oKvv5",
        "outputId": "0120bc63-5b4c-4bef-c855-e280f95a5f1b"
      },
      "source": [
        "print(\"Number of features used \",nb.n_features_)\r\n",
        "print(\"Classes \",nb.classes_)\r\n",
        "print(\"Number of records for classes \",nb.class_count_)\r\n",
        "print(\"Log prior probability for classes \", nb.class_log_prior_)\r\n",
        "print(\"Log conditional probability for each feature given a class\\n\",nb.feature_log_prob_)"
      ],
      "execution_count": 39,
      "outputs": [
        {
          "output_type": "stream",
          "text": [
            "Number of features used  8\n",
            "Classes  [0 1]\n",
            "Number of records for classes  [149. 339.]\n",
            "Log prior probability for classes  [-1.1863691 -0.3643153]\n",
            "Log conditional probability for each feature given a class\n",
            " [[-7.60166677 -5.07086511 -7.46985507 -0.00992817 -7.72981259 -7.15249723\n",
            "  -7.34806401 -7.3139847 ]\n",
            " [-6.95618489 -5.08825179 -7.04210157 -0.01149661 -7.22136436 -6.80375686\n",
            "  -7.24252917 -7.03664602]]\n"
          ],
          "name": "stdout"
        }
      ]
    },
    {
      "cell_type": "code",
      "metadata": {
        "colab": {
          "base_uri": "https://localhost:8080/"
        },
        "id": "QETGCemRK_FD",
        "outputId": "86611671-097d-489d-d3f7-8bb32759f03b"
      },
      "source": [
        "from sklearn.metrics import classification_report\r\n",
        "from sklearn import metrics\r\n",
        "\r\n",
        "print(classification_report(y_test, y_pred))"
      ],
      "execution_count": 40,
      "outputs": [
        {
          "output_type": "stream",
          "text": [
            "              precision    recall  f1-score   support\n",
            "\n",
            "           0       0.46      0.42      0.44       149\n",
            "           1       0.76      0.79      0.77       351\n",
            "\n",
            "    accuracy                           0.68       500\n",
            "   macro avg       0.61      0.60      0.60       500\n",
            "weighted avg       0.67      0.68      0.67       500\n",
            "\n"
          ],
          "name": "stdout"
        }
      ]
    },
    {
      "cell_type": "code",
      "metadata": {
        "colab": {
          "base_uri": "https://localhost:8080/"
        },
        "id": "O8WEUjgOLB_y",
        "outputId": "837c3cb3-2f71-44d3-ce7b-9f1fefc88f52"
      },
      "source": [
        "y_pred = nb.predict(X_test)\r\n",
        "\r\n",
        "acc = accuracy_score(y_test,y_pred)\r\n",
        "print('Accuracy: %.3f' % acc)"
      ],
      "execution_count": 94,
      "outputs": [
        {
          "output_type": "stream",
          "text": [
            "Accuracy: 0.647\n"
          ],
          "name": "stdout"
        }
      ]
    }
  ]
}